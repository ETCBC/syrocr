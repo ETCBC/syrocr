{
 "cells": [
  {
   "cell_type": "code",
   "execution_count": null,
   "metadata": {},
   "outputs": [],
   "source": [
    "import os.path, json\n",
    "from syrocr.images import Im, AvgIm\n",
    "# https://stackoverflow.com/a/32370538\n",
    "# usage: display(image)\n",
    "from IPython.core.display import display"
   ]
  },
  {
   "cell_type": "code",
   "execution_count": null,
   "metadata": {},
   "outputs": [],
   "source": [
    "basename = 'vts-088_2L'\n",
    "img_dir = '../analyzevts/scans/genesis-exodus/exodus'\n",
    "json_dir = '../analyzevts/scans/genesis-exodus/exodus/test'\n",
    "source_image = os.path.join(img_dir, basename + '.tif')\n",
    "lines_file = os.path.join(json_dir, basename + '_lines.json')\n",
    "text_file = os.path.join(json_dir, basename + '_textlines.json')\n",
    "tables_file = os.path.join(json_dir, 'genesis_tables2.json')"
   ]
  },
  {
   "cell_type": "code",
   "execution_count": null,
   "metadata": {},
   "outputs": [],
   "source": [
    "with open(lines_file, 'r') as f:\n",
    "    lines = json.load(f)\n",
    "\n",
    "with open(text_file, 'r') as f:\n",
    "    text = json.load(f)\n",
    "\n",
    "with open(tables_file, 'r') as f:\n",
    "    tables = json.load(f)\n",
    "\n",
    "im = Im(source_image)"
   ]
  },
  {
   "cell_type": "code",
   "execution_count": null,
   "metadata": {},
   "outputs": [],
   "source": [
    "# TODO textsize should be available in line dict\n",
    "def get_textsize(linetype, section):\n",
    "    if section == 'main' and linetype in ('text', 'pagenr'):\n",
    "        textsize = 'normal'\n",
    "    else:\n",
    "        textsize = 'small'\n",
    "    return textsize\n",
    "\n",
    "# we are mainly interested in the 'main' section,\n",
    "# so for now we ignore 'marginl' and 'marginr'\n",
    "section = 'main'"
   ]
  },
  {
   "cell_type": "code",
   "execution_count": null,
   "metadata": {},
   "outputs": [],
   "source": [
    "for line, textline in zip(lines[1:], text[1:]):\n",
    "    linetype = line['type']\n",
    "    textsize = get_textsize(linetype, section)\n",
    "    table = tables[textsize]\n",
    "    display(im.crop(line['main']))\n",
    "    print('Line', line['num'], 'textsize', textsize)\n",
    "    for i, (c_id, d, keyoverride, box) in enumerate(textline[section]):\n",
    "        c = table[c_id]\n",
    "\n",
    "        print(i, c_id, d, keyoverride, c['key'])\n",
    "\n",
    "        if c['key'] is None:\n",
    "\n",
    "            print(f'page {basename} line {line[\"num\"]} character {i} id {c_id}')\n",
    "\n",
    "            avgim = AvgIm(c['avgim']['base64_str'], c['avgim']['baseline'], c['avgim']['width'], c['avgim']['height'])\n",
    "            display(avgim.maxtoblack(invert=True))\n",
    "\n",
    "            key = input().split()\n",
    "            \n",
    "            table[c_id]['key'] = {\n",
    "                'tr':     '' if not key else key.pop(0),\n",
    "                'script': '' if not key or key[0].isdigit() else key.pop(0),\n",
    "                'dist':   None if not key else int(key.pop(0)),\n",
    "            }\n",
    "            \n",
    "            print(table[c_id]['key'])"
   ]
  },
  {
   "cell_type": "code",
   "execution_count": null,
   "metadata": {},
   "outputs": [],
   "source": [
    "# dialogue to prevent accidental writing to tables file\n",
    "if input(f'Type \\'yes indeed\\' to save the tables dict to {tables_file}:\\n') == 'yes indeed':\n",
    "    with open(tables_file, 'w') as f:\n",
    "        json.dump(tables, f)\n",
    "    print('Saved!')\n",
    "else:\n",
    "    print('Not saved.')"
   ]
  }
 ],
 "metadata": {
  "kernelspec": {
   "display_name": "Python 3",
   "language": "python",
   "name": "python3"
  },
  "language_info": {
   "codemirror_mode": {
    "name": "ipython",
    "version": 3
   },
   "file_extension": ".py",
   "mimetype": "text/x-python",
   "name": "python",
   "nbconvert_exporter": "python",
   "pygments_lexer": "ipython3",
   "version": "3.6.6"
  }
 },
 "nbformat": 4,
 "nbformat_minor": 2
}
