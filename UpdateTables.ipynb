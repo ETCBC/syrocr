{
 "cells": [
  {
   "cell_type": "markdown",
   "metadata": {},
   "source": [
    "This Jupyter Notebook provides an interactive script to assign translations to the characters recognized by the `syrocr getchars` program."
   ]
  },
  {
   "cell_type": "code",
   "execution_count": 1,
   "metadata": {},
   "outputs": [],
   "source": [
    "# First, import some libraries\n",
    "import os.path, json\n",
    "from syrocr.images import Im, AvgIm\n",
    "# https://stackoverflow.com/a/32370538\n",
    "# usage: display(image)\n",
    "from IPython.core.display import display"
   ]
  },
  {
   "cell_type": "code",
   "execution_count": 2,
   "metadata": {},
   "outputs": [],
   "source": [
    "# Then, locate directories and file names\n",
    "\n",
    "img_dir = 'example'\n",
    "json_dir = 'example'\n",
    "src_img_ext = '.tif'\n",
    "lines_file_ext = '_lines.json'\n",
    "textlines_file_ext = '_textlines.json'\n",
    "tables_file = os.path.join(json_dir, 'test_tables.json')\n",
    "\n",
    "# ... and load the tables file to the tables dict\n",
    "with open(tables_file, 'r') as f:\n",
    "    tables = json.load(f)"
   ]
  },
  {
   "cell_type": "code",
   "execution_count": 3,
   "metadata": {},
   "outputs": [],
   "source": [
    "# Define some functions\n",
    "\n",
    "# TODO textsize should be available in line dict\n",
    "def get_textsize(linetype, section):\n",
    "    if section == 'main' and linetype in ('text', 'pagenr'):\n",
    "        textsize = 'normal'\n",
    "    else:\n",
    "        textsize = 'small'\n",
    "    return textsize\n",
    "\n",
    "# we are mainly interested in the 'main' section,\n",
    "# so for now we ignore 'marginl' and 'marginr'\n",
    "section = 'main'\n",
    "\n",
    "def get_filenames():\n",
    "    with os.scandir(img_dir) as sd:\n",
    "        for dir_entry in sorted(sd, key = lambda x: x.name):\n",
    "            if dir_entry.is_file() and dir_entry.name.endswith(src_img_ext):\n",
    "                basename = os.path.splitext(dir_entry.name)[0]\n",
    "                img_file = dir_entry.path\n",
    "                lines_file = os.path.join(json_dir, basename + lines_file_ext)\n",
    "                textlines_file = os.path.join(json_dir, basename + textlines_file_ext)\n",
    "                yield basename, img_file, lines_file, textlines_file\n",
    "\n",
    "def get_key(basename, line_num, c_num, entry, table):\n",
    "    c_id, d, keyoverride, box = entry\n",
    "    c = table[c_id]\n",
    "    if c['key'] is None:\n",
    "        print(f'page {basename} line {line_num} character {c_num} id {c_id}')\n",
    "        avgim = AvgIm(c['avgim']['base64_str'], c['avgim']['baseline'], c['avgim']['width'], c['avgim']['height'])\n",
    "        display(avgim.maxtoblack(invert=True))\n",
    "        key = input().split()\n",
    "        table[c_id]['key'] = {\n",
    "            'tr':     '' if not key else key.pop(0),\n",
    "            'script': '' if not key or key[0].isdigit() else key.pop(0),\n",
    "            'dist':   None if not key else int(key.pop(0)),\n",
    "        }\n",
    "        return table[c_id]['key']"
   ]
  },
  {
   "cell_type": "code",
   "execution_count": 4,
   "metadata": {
    "scrolled": true
   },
   "outputs": [
    {
     "data": {
      "image/png": "[encoded data removed]",
      "text/plain": [
       "<syrocr.images.Im at 0x7f322b566ba8>"
      ]
     },
     "metadata": {},
     "output_type": "display_data"
    },
    {
     "name": "stdout",
     "output_type": "stream",
     "text": [
      "Line 2 textsize small\n",
      "page mitchell2_test-01 line 2 character 0 id 10\n"
     ]
    },
    {
     "data": {
      "image/png": "[encoded data removed]",
      "text/plain": [
       "<PIL.Image.Image image mode=L size=42x32 at 0x7F322B566EB8>"
      ]
     },
     "metadata": {},
     "output_type": "display_data"
    },
    {
     "name": "stdout",
     "output_type": "stream",
     "text": [
      "'\n",
      "{'tr': \"'\", 'script': '', 'dist': None}\n",
      "page mitchell2_test-01 line 2 character 1 id 11\n"
     ]
    },
    {
     "data": {
      "image/png": "[encoded data removed]",
      "text/plain": [
       "<PIL.Image.Image image mode=L size=20x40 at 0x7F322B566F98>"
      ]
     },
     "metadata": {},
     "output_type": "display_data"
    },
    {
     "name": "stdout",
     "output_type": "stream",
     "text": [
      "r\n",
      "{'tr': 'r', 'script': '', 'dist': None}\n",
      "page mitchell2_test-01 line 2 character 2 id 12\n"
     ]
    },
    {
     "data": {
      "image/png": "[encoded data removed]",
      "text/plain": [
       "<PIL.Image.Image image mode=L size=13x19 at 0x7F322B566B70>"
      ]
     },
     "metadata": {},
     "output_type": "display_data"
    },
    {
     "name": "stdout",
     "output_type": "stream",
     "text": [
      "y\n",
      "{'tr': 'y', 'script': '', 'dist': None}\n",
      "page mitchell2_test-01 line 2 character 4 id 13\n"
     ]
    },
    {
     "data": {
      "image/png": "[encoded data removed]",
      "text/plain": [
       "<PIL.Image.Image image mode=L size=31x25 at 0x7F322B566EB8>"
      ]
     },
     "metadata": {},
     "output_type": "display_data"
    },
    {
     "name": "stdout",
     "output_type": "stream",
     "text": [
      "$\n",
      "{'tr': '$', 'script': '', 'dist': None}\n",
      "page mitchell2_test-01 line 2 character 5 id 14\n"
     ]
    },
    {
     "data": {
      "image/png": "[encoded data removed]",
      "text/plain": [
       "<PIL.Image.Image image mode=L size=46x34 at 0x7F322B566F98>"
      ]
     },
     "metadata": {},
     "output_type": "display_data"
    },
    {
     "name": "stdout",
     "output_type": "stream",
     "text": [
      "'\n",
      "{'tr': \"'\", 'script': '', 'dist': None}\n",
      "page mitchell2_test-01 line 2 character 6 id 15\n"
     ]
    },
    {
     "data": {
      "image/png": "[encoded data removed]",
      "text/plain": [
       "<PIL.Image.Image image mode=L size=31x24 at 0x7F322B566B70>"
      ]
     },
     "metadata": {},
     "output_type": "display_data"
    },
    {
     "name": "stdout",
     "output_type": "stream",
     "text": [
      "b\n",
      "{'tr': 'b', 'script': '', 'dist': None}\n",
      "page mitchell2_test-01 line 2 character 7 id 16\n"
     ]
    },
    {
     "data": {
      "image/png": "[encoded data removed]",
      "text/plain": [
       "<PIL.Image.Image image mode=L size=33x44 at 0x7F322B566EB8>"
      ]
     },
     "metadata": {},
     "output_type": "display_data"
    },
    {
     "name": "stdout",
     "output_type": "stream",
     "text": [
      "t\n",
      "{'tr': 't', 'script': '', 'dist': None}\n",
      "page mitchell2_test-01 line 2 character 8 id 17\n"
     ]
    },
    {
     "data": {
      "image/png": "[encoded data removed]",
      "text/plain": [
       "<PIL.Image.Image image mode=L size=27x27 at 0x7F322B566F60>"
      ]
     },
     "metadata": {},
     "output_type": "display_data"
    },
    {
     "name": "stdout",
     "output_type": "stream",
     "text": [
      "k\n",
      "{'tr': 'k', 'script': '', 'dist': None}\n",
      "page mitchell2_test-01 line 2 character 9 id 18\n"
     ]
    },
    {
     "data": {
      "image/png": "[encoded data removed]",
      "text/plain": [
       "<PIL.Image.Image image mode=L size=24x46 at 0x7F322B566B70>"
      ]
     },
     "metadata": {},
     "output_type": "display_data"
    },
    {
     "ename": "KeyboardInterrupt",
     "evalue": "",
     "output_type": "error",
     "traceback": [
      "\u001b[0;31m---------------------------------------------------------------------------\u001b[0m",
      "\u001b[0;31mKeyboardInterrupt\u001b[0m                         Traceback (most recent call last)",
      "\u001b[0;32m/usr/local/lib/python3.6/dist-packages/ipykernel/kernelbase.py\u001b[0m in \u001b[0;36m_input_request\u001b[0;34m(self, prompt, ident, parent, password)\u001b[0m\n\u001b[1;32m    728\u001b[0m             \u001b[0;32mtry\u001b[0m\u001b[0;34m:\u001b[0m\u001b[0;34m\u001b[0m\u001b[0;34m\u001b[0m\u001b[0m\n\u001b[0;32m--> 729\u001b[0;31m                 \u001b[0mident\u001b[0m\u001b[0;34m,\u001b[0m \u001b[0mreply\u001b[0m \u001b[0;34m=\u001b[0m \u001b[0mself\u001b[0m\u001b[0;34m.\u001b[0m\u001b[0msession\u001b[0m\u001b[0;34m.\u001b[0m\u001b[0mrecv\u001b[0m\u001b[0;34m(\u001b[0m\u001b[0mself\u001b[0m\u001b[0;34m.\u001b[0m\u001b[0mstdin_socket\u001b[0m\u001b[0;34m,\u001b[0m \u001b[0;36m0\u001b[0m\u001b[0;34m)\u001b[0m\u001b[0;34m\u001b[0m\u001b[0;34m\u001b[0m\u001b[0m\n\u001b[0m\u001b[1;32m    730\u001b[0m             \u001b[0;32mexcept\u001b[0m \u001b[0mException\u001b[0m\u001b[0;34m:\u001b[0m\u001b[0;34m\u001b[0m\u001b[0;34m\u001b[0m\u001b[0m\n",
      "\u001b[0;32m/usr/local/lib/python3.6/dist-packages/jupyter_client/session.py\u001b[0m in \u001b[0;36mrecv\u001b[0;34m(self, socket, mode, content, copy)\u001b[0m\n\u001b[1;32m    802\u001b[0m         \u001b[0;32mtry\u001b[0m\u001b[0;34m:\u001b[0m\u001b[0;34m\u001b[0m\u001b[0;34m\u001b[0m\u001b[0m\n\u001b[0;32m--> 803\u001b[0;31m             \u001b[0mmsg_list\u001b[0m \u001b[0;34m=\u001b[0m \u001b[0msocket\u001b[0m\u001b[0;34m.\u001b[0m\u001b[0mrecv_multipart\u001b[0m\u001b[0;34m(\u001b[0m\u001b[0mmode\u001b[0m\u001b[0;34m,\u001b[0m \u001b[0mcopy\u001b[0m\u001b[0;34m=\u001b[0m\u001b[0mcopy\u001b[0m\u001b[0;34m)\u001b[0m\u001b[0;34m\u001b[0m\u001b[0;34m\u001b[0m\u001b[0m\n\u001b[0m\u001b[1;32m    804\u001b[0m         \u001b[0;32mexcept\u001b[0m \u001b[0mzmq\u001b[0m\u001b[0;34m.\u001b[0m\u001b[0mZMQError\u001b[0m \u001b[0;32mas\u001b[0m \u001b[0me\u001b[0m\u001b[0;34m:\u001b[0m\u001b[0;34m\u001b[0m\u001b[0;34m\u001b[0m\u001b[0m\n",
      "\u001b[0;32m/usr/local/lib/python3.6/dist-packages/zmq/sugar/socket.py\u001b[0m in \u001b[0;36mrecv_multipart\u001b[0;34m(self, flags, copy, track)\u001b[0m\n\u001b[1;32m    465\u001b[0m         \"\"\"\n\u001b[0;32m--> 466\u001b[0;31m         \u001b[0mparts\u001b[0m \u001b[0;34m=\u001b[0m \u001b[0;34m[\u001b[0m\u001b[0mself\u001b[0m\u001b[0;34m.\u001b[0m\u001b[0mrecv\u001b[0m\u001b[0;34m(\u001b[0m\u001b[0mflags\u001b[0m\u001b[0;34m,\u001b[0m \u001b[0mcopy\u001b[0m\u001b[0;34m=\u001b[0m\u001b[0mcopy\u001b[0m\u001b[0;34m,\u001b[0m \u001b[0mtrack\u001b[0m\u001b[0;34m=\u001b[0m\u001b[0mtrack\u001b[0m\u001b[0;34m)\u001b[0m\u001b[0;34m]\u001b[0m\u001b[0;34m\u001b[0m\u001b[0;34m\u001b[0m\u001b[0m\n\u001b[0m\u001b[1;32m    467\u001b[0m         \u001b[0;31m# have first part already, only loop while more to receive\u001b[0m\u001b[0;34m\u001b[0m\u001b[0;34m\u001b[0m\u001b[0;34m\u001b[0m\u001b[0m\n",
      "\u001b[0;32mzmq/backend/cython/socket.pyx\u001b[0m in \u001b[0;36mzmq.backend.cython.socket.Socket.recv\u001b[0;34m()\u001b[0m\n",
      "\u001b[0;32mzmq/backend/cython/socket.pyx\u001b[0m in \u001b[0;36mzmq.backend.cython.socket.Socket.recv\u001b[0;34m()\u001b[0m\n",
      "\u001b[0;32mzmq/backend/cython/socket.pyx\u001b[0m in \u001b[0;36mzmq.backend.cython.socket._recv_copy\u001b[0;34m()\u001b[0m\n",
      "\u001b[0;32m/usr/local/lib/python3.6/dist-packages/zmq/backend/cython/checkrc.pxd\u001b[0m in \u001b[0;36mzmq.backend.cython.checkrc._check_rc\u001b[0;34m()\u001b[0m\n",
      "\u001b[0;31mKeyboardInterrupt\u001b[0m: ",
      "\nDuring handling of the above exception, another exception occurred:\n",
      "\u001b[0;31mKeyboardInterrupt\u001b[0m                         Traceback (most recent call last)",
      "\u001b[0;32m<ipython-input-4-b3e9d513b13f>\u001b[0m in \u001b[0;36m<module>\u001b[0;34m()\u001b[0m\n\u001b[1;32m     17\u001b[0m         \u001b[0mprint\u001b[0m\u001b[0;34m(\u001b[0m\u001b[0;34m'Line'\u001b[0m\u001b[0;34m,\u001b[0m \u001b[0mline\u001b[0m\u001b[0;34m[\u001b[0m\u001b[0;34m'num'\u001b[0m\u001b[0;34m]\u001b[0m\u001b[0;34m,\u001b[0m \u001b[0;34m'textsize'\u001b[0m\u001b[0;34m,\u001b[0m \u001b[0mtextsize\u001b[0m\u001b[0;34m)\u001b[0m\u001b[0;34m\u001b[0m\u001b[0;34m\u001b[0m\u001b[0m\n\u001b[1;32m     18\u001b[0m         \u001b[0;32mfor\u001b[0m \u001b[0mi\u001b[0m\u001b[0;34m,\u001b[0m \u001b[0mentry\u001b[0m \u001b[0;32min\u001b[0m \u001b[0menumerate\u001b[0m\u001b[0;34m(\u001b[0m\u001b[0mtextline\u001b[0m\u001b[0;34m[\u001b[0m\u001b[0msection\u001b[0m\u001b[0;34m]\u001b[0m\u001b[0;34m)\u001b[0m\u001b[0;34m:\u001b[0m\u001b[0;34m\u001b[0m\u001b[0;34m\u001b[0m\u001b[0m\n\u001b[0;32m---> 19\u001b[0;31m             \u001b[0mkey\u001b[0m \u001b[0;34m=\u001b[0m \u001b[0mget_key\u001b[0m\u001b[0;34m(\u001b[0m\u001b[0mbasename\u001b[0m\u001b[0;34m,\u001b[0m \u001b[0mline\u001b[0m\u001b[0;34m[\u001b[0m\u001b[0;34m'num'\u001b[0m\u001b[0;34m]\u001b[0m\u001b[0;34m,\u001b[0m \u001b[0mi\u001b[0m\u001b[0;34m,\u001b[0m \u001b[0mentry\u001b[0m\u001b[0;34m,\u001b[0m \u001b[0mtable\u001b[0m\u001b[0;34m)\u001b[0m\u001b[0;34m\u001b[0m\u001b[0;34m\u001b[0m\u001b[0m\n\u001b[0m\u001b[1;32m     20\u001b[0m             \u001b[0;32mif\u001b[0m \u001b[0mkey\u001b[0m \u001b[0;32mis\u001b[0m \u001b[0;32mnot\u001b[0m \u001b[0;32mNone\u001b[0m\u001b[0;34m:\u001b[0m\u001b[0;34m\u001b[0m\u001b[0;34m\u001b[0m\u001b[0m\n\u001b[1;32m     21\u001b[0m                 \u001b[0mprint\u001b[0m\u001b[0;34m(\u001b[0m\u001b[0mkey\u001b[0m\u001b[0;34m)\u001b[0m\u001b[0;34m\u001b[0m\u001b[0;34m\u001b[0m\u001b[0m\n",
      "\u001b[0;32m<ipython-input-3-574d8803d6a6>\u001b[0m in \u001b[0;36mget_key\u001b[0;34m(basename, line_num, c_num, entry, table)\u001b[0m\n\u001b[1;32m     30\u001b[0m         \u001b[0mavgim\u001b[0m \u001b[0;34m=\u001b[0m \u001b[0mAvgIm\u001b[0m\u001b[0;34m(\u001b[0m\u001b[0mc\u001b[0m\u001b[0;34m[\u001b[0m\u001b[0;34m'avgim'\u001b[0m\u001b[0;34m]\u001b[0m\u001b[0;34m[\u001b[0m\u001b[0;34m'base64_str'\u001b[0m\u001b[0;34m]\u001b[0m\u001b[0;34m,\u001b[0m \u001b[0mc\u001b[0m\u001b[0;34m[\u001b[0m\u001b[0;34m'avgim'\u001b[0m\u001b[0;34m]\u001b[0m\u001b[0;34m[\u001b[0m\u001b[0;34m'baseline'\u001b[0m\u001b[0;34m]\u001b[0m\u001b[0;34m,\u001b[0m \u001b[0mc\u001b[0m\u001b[0;34m[\u001b[0m\u001b[0;34m'avgim'\u001b[0m\u001b[0;34m]\u001b[0m\u001b[0;34m[\u001b[0m\u001b[0;34m'width'\u001b[0m\u001b[0;34m]\u001b[0m\u001b[0;34m,\u001b[0m \u001b[0mc\u001b[0m\u001b[0;34m[\u001b[0m\u001b[0;34m'avgim'\u001b[0m\u001b[0;34m]\u001b[0m\u001b[0;34m[\u001b[0m\u001b[0;34m'height'\u001b[0m\u001b[0;34m]\u001b[0m\u001b[0;34m)\u001b[0m\u001b[0;34m\u001b[0m\u001b[0;34m\u001b[0m\u001b[0m\n\u001b[1;32m     31\u001b[0m         \u001b[0mdisplay\u001b[0m\u001b[0;34m(\u001b[0m\u001b[0mavgim\u001b[0m\u001b[0;34m.\u001b[0m\u001b[0mmaxtoblack\u001b[0m\u001b[0;34m(\u001b[0m\u001b[0minvert\u001b[0m\u001b[0;34m=\u001b[0m\u001b[0;32mTrue\u001b[0m\u001b[0;34m)\u001b[0m\u001b[0;34m)\u001b[0m\u001b[0;34m\u001b[0m\u001b[0;34m\u001b[0m\u001b[0m\n\u001b[0;32m---> 32\u001b[0;31m         \u001b[0mkey\u001b[0m \u001b[0;34m=\u001b[0m \u001b[0minput\u001b[0m\u001b[0;34m(\u001b[0m\u001b[0;34m)\u001b[0m\u001b[0;34m.\u001b[0m\u001b[0msplit\u001b[0m\u001b[0;34m(\u001b[0m\u001b[0;34m)\u001b[0m\u001b[0;34m\u001b[0m\u001b[0;34m\u001b[0m\u001b[0m\n\u001b[0m\u001b[1;32m     33\u001b[0m         table[c_id]['key'] = {\n\u001b[1;32m     34\u001b[0m             \u001b[0;34m'tr'\u001b[0m\u001b[0;34m:\u001b[0m     \u001b[0;34m''\u001b[0m \u001b[0;32mif\u001b[0m \u001b[0;32mnot\u001b[0m \u001b[0mkey\u001b[0m \u001b[0;32melse\u001b[0m \u001b[0mkey\u001b[0m\u001b[0;34m.\u001b[0m\u001b[0mpop\u001b[0m\u001b[0;34m(\u001b[0m\u001b[0;36m0\u001b[0m\u001b[0;34m)\u001b[0m\u001b[0;34m,\u001b[0m\u001b[0;34m\u001b[0m\u001b[0;34m\u001b[0m\u001b[0m\n",
      "\u001b[0;32m/usr/local/lib/python3.6/dist-packages/ipykernel/kernelbase.py\u001b[0m in \u001b[0;36mraw_input\u001b[0;34m(self, prompt)\u001b[0m\n\u001b[1;32m    702\u001b[0m             \u001b[0mself\u001b[0m\u001b[0;34m.\u001b[0m\u001b[0m_parent_ident\u001b[0m\u001b[0;34m,\u001b[0m\u001b[0;34m\u001b[0m\u001b[0;34m\u001b[0m\u001b[0m\n\u001b[1;32m    703\u001b[0m             \u001b[0mself\u001b[0m\u001b[0;34m.\u001b[0m\u001b[0m_parent_header\u001b[0m\u001b[0;34m,\u001b[0m\u001b[0;34m\u001b[0m\u001b[0;34m\u001b[0m\u001b[0m\n\u001b[0;32m--> 704\u001b[0;31m             \u001b[0mpassword\u001b[0m\u001b[0;34m=\u001b[0m\u001b[0;32mFalse\u001b[0m\u001b[0;34m,\u001b[0m\u001b[0;34m\u001b[0m\u001b[0;34m\u001b[0m\u001b[0m\n\u001b[0m\u001b[1;32m    705\u001b[0m         )\n\u001b[1;32m    706\u001b[0m \u001b[0;34m\u001b[0m\u001b[0m\n",
      "\u001b[0;32m/usr/local/lib/python3.6/dist-packages/ipykernel/kernelbase.py\u001b[0m in \u001b[0;36m_input_request\u001b[0;34m(self, prompt, ident, parent, password)\u001b[0m\n\u001b[1;32m    732\u001b[0m             \u001b[0;32mexcept\u001b[0m \u001b[0mKeyboardInterrupt\u001b[0m\u001b[0;34m:\u001b[0m\u001b[0;34m\u001b[0m\u001b[0;34m\u001b[0m\u001b[0m\n\u001b[1;32m    733\u001b[0m                 \u001b[0;31m# re-raise KeyboardInterrupt, to truncate traceback\u001b[0m\u001b[0;34m\u001b[0m\u001b[0;34m\u001b[0m\u001b[0;34m\u001b[0m\u001b[0m\n\u001b[0;32m--> 734\u001b[0;31m                 \u001b[0;32mraise\u001b[0m \u001b[0mKeyboardInterrupt\u001b[0m\u001b[0;34m\u001b[0m\u001b[0;34m\u001b[0m\u001b[0m\n\u001b[0m\u001b[1;32m    735\u001b[0m             \u001b[0;32melse\u001b[0m\u001b[0;34m:\u001b[0m\u001b[0;34m\u001b[0m\u001b[0;34m\u001b[0m\u001b[0m\n\u001b[1;32m    736\u001b[0m                 \u001b[0;32mbreak\u001b[0m\u001b[0;34m\u001b[0m\u001b[0;34m\u001b[0m\u001b[0m\n",
      "\u001b[0;31mKeyboardInterrupt\u001b[0m: "
     ]
    }
   ],
   "source": [
    "# Now, we go over the json files, and for every character\n",
    "# without key, prompt for translation\n",
    "\n",
    "for basename, img_file, lines_file, textlines_file in get_filenames():\n",
    "    im = Im(img_file)\n",
    "    with open(lines_file, 'r') as f:\n",
    "        lines = json.load(f)\n",
    "    with open(textlines_file, 'r') as f:\n",
    "        text = json.load(f)\n",
    "\n",
    "    for line, textline in zip(lines, text):\n",
    "        if line['type'] != 'column' or line['main'] is None:\n",
    "            continue\n",
    "        textsize = get_textsize(line['type'], section)\n",
    "        table = tables[textsize]\n",
    "        display(im.crop(line['main']))\n",
    "        print('Line', line['num'], 'textsize', textsize)\n",
    "        for i, entry in enumerate(textline[section]):\n",
    "            key = get_key(basename, line['num'], i, entry, table)\n",
    "            if key is not None:\n",
    "                print(key)\n",
    "#\n",
    "# Final letters: kaf, indicated with capital K; nun, indicated with capital N; mem, capital M\n",
    "# Dotless dalath/rish: indicated with capital D\n",
    "# TODO misplaced dot below Sade, that should be shifted from before to after Sade: #>\n",
    "# TODO misplaced? dot below mem (with dot above), that properly belongs to following nun(?): m^# (id 312)"
   ]
  },
  {
   "cell_type": "code",
   "execution_count": 5,
   "metadata": {},
   "outputs": [
    {
     "data": {
      "image/png": "[encoded data removed]",
      "text/plain": [
       "<PIL.Image.Image image mode=L size=31x25 at 0x7FFBCD71C4A8>"
      ]
     },
     "metadata": {},
     "output_type": "display_data"
    },
    {
     "data": {
      "text/plain": [
       "'$'"
      ]
     },
     "execution_count": 5,
     "metadata": {},
     "output_type": "execute_result"
    }
   ],
   "source": [
    "# cell for checking or updating values\n",
    "c_id = 13\n",
    "\n",
    "c = tables['small'][c_id]\n",
    "display(AvgIm(c['avgim']['base64_str'],\n",
    "              c['avgim']['baseline'],\n",
    "              c['avgim']['width'],\n",
    "              c['avgim']['height']).maxtoblack(invert=True))\n",
    "\n",
    "c['key']['tr']"
   ]
  },
  {
   "cell_type": "code",
   "execution_count": 6,
   "metadata": {},
   "outputs": [
    {
     "name": "stdout",
     "output_type": "stream",
     "text": [
      "Type 'yes indeed' to save the tables dict to example/test_tables.json:\n",
      "no thanks\n",
      "Not saved.\n"
     ]
    }
   ],
   "source": [
    "# When all is good, save the tables directory back to file.\n",
    "\n",
    "# dialogue to prevent accidental writing to tables file\n",
    "if input(f'Type \\'yes indeed\\' to save the tables dict to {tables_file}:\\n') == 'yes indeed':\n",
    "    with open(tables_file, 'w') as f:\n",
    "        json.dump(tables, f)\n",
    "    print('Saved!')\n",
    "else:\n",
    "    print('Not saved.')"
   ]
  },
  {
   "cell_type": "code",
   "execution_count": null,
   "metadata": {},
   "outputs": [],
   "source": [
    "# Search for ambiguously encoded characters\n",
    "\n",
    "for basename, img_file, lines_file, textlines_file in get_filenames():\n",
    "    with open(lines_file, 'r') as f:\n",
    "        lines = json.load(f)\n",
    "    with open(textlines_file, 'r') as f:\n",
    "        text = json.load(f)\n",
    "        \n",
    "    for line, textline in zip(lines, text):\n",
    "        if line['type'] != 'column':\n",
    "            continue\n",
    "        textsize = get_textsize(line['type'], section)\n",
    "        table = tables[textsize]\n",
    "        stack = None\n",
    "        for i, entry in enumerate(textline[section]):\n",
    "            c_id, connections, keyoverride, box = entry\n",
    "            tr = table[c_id]['key']['tr'] if table[c_id]['key'] else None\n",
    "            script = table[c_id]['key']['script'] if table[c_id]['key'] else None\n",
    "            pr_tr = table[stack[0]]['key']['tr'] if stack and table[stack[0]]['key'] else None\n",
    "            if ((pr_tr and pr_tr[-1] == '+' and tr != '+' + pr_tr[:-1])\n",
    "                or ('+' in tr[:-1] and (not pr_tr or not '+' in pr_tr))\n",
    "                or '?' in tr or (pr_tr and pr_tr[0] == '^') or (script == '' and tr.endswith('>'))):\n",
    "                if stack:\n",
    "                    print('prev:', stack, table[stack[0]]['key'])\n",
    "                print(basename, line['num'], i, entry, table[c_id]['key'])\n",
    "                im = Im(img_file)\n",
    "                display(im.crop(line['main']))\n",
    "            stack = entry"
   ]
  },
  {
   "cell_type": "code",
   "execution_count": null,
   "metadata": {},
   "outputs": [],
   "source": [
    "# Search for ambiguously encoded characters\n",
    "\n",
    "for basename, img_file, lines_file, textlines_file in get_filenames():\n",
    "    with open(lines_file, 'r') as f:\n",
    "        lines = json.load(f)\n",
    "    with open(textlines_file, 'r') as f:\n",
    "        text = json.load(f)\n",
    "        \n",
    "    for line, textline in zip(lines, text):\n",
    "        if line['type'] != 'column':\n",
    "            continue\n",
    "        textsize = get_textsize(line['type'], section)\n",
    "        table = tables[textsize]\n",
    "        stack = None\n",
    "        for i, entry in enumerate(textline[section]):\n",
    "            c_id, connections, keyoverride, box = entry\n",
    "            tr = table[c_id]['key']['tr'] if table[c_id]['key'] else None\n",
    "            pr_tr = table[stack[0]]['key']['tr'] if stack and table[stack[0]]['key'] else None\n",
    "\n",
    "            ### SEARCH LOCATION ###\n",
    "#             if basename == 'mitchell2_test-05' and line['num'] == 44 and i in range(0,18): # tr == '$': # i == 14: # \n",
    "#                 print(basename, line['num'], i, entry, table[c_id]['key'])\n",
    "\n",
    "            ### SEARCH C_ID ###\n",
    "#             if c_id == 290:\n",
    "#             if stack and stack[0] == 159:\n",
    "#             if stack and pr_tr == '+S?N':\n",
    "            if tr == 'y' and stack and pr_tr == 'S':\n",
    "                if stack:\n",
    "                    print('prev:', stack, table[stack[0]]['key'])\n",
    "                print(basename, line['num'], i, entry, table[c_id]['key'])\n",
    "                im = Im(img_file)\n",
    "                display(im.crop(line['main']))\n",
    "            stack = entry\n",
    "\n",
    "#             if tr == 'w' and connections[0]:\n",
    "#                 if stack:\n",
    "#                     print('prev:', stack, table[stack[0]]['key'])\n",
    "#                 print(basename, line['num'], i, entry, table[c_id]['key'])\n",
    "# #                 print(f'  - [[\\'{basename}\\', {line[\"num\"]}, {i}, {c_id}], \\'q\\']')\n",
    "#                 im = Im(img_file)\n",
    "#                 display(im.crop(line['main']))\n",
    "#             stack = entry\n"
   ]
  }
 ],
 "metadata": {
  "kernelspec": {
   "display_name": "Python 3",
   "language": "python",
   "name": "python3"
  },
  "language_info": {
   "codemirror_mode": {
    "name": "ipython",
    "version": 3
   },
   "file_extension": ".py",
   "mimetype": "text/x-python",
   "name": "python",
   "nbconvert_exporter": "python",
   "pygments_lexer": "ipython3",
   "version": "3.6.7"
  }
 },
 "nbformat": 4,
 "nbformat_minor": 2
}
