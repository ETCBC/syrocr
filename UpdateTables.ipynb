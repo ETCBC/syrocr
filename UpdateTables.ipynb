{
 "cells": [
  {
   "cell_type": "code",
   "execution_count": 1,
   "metadata": {},
   "outputs": [],
   "source": [
    "import os.path, json\n",
    "from syrocr.images import Im, AvgIm\n",
    "# https://stackoverflow.com/a/32370538\n",
    "# usage: display(image)\n",
    "from IPython.core.display import display"
   ]
  },
  {
   "cell_type": "code",
   "execution_count": 3,
   "metadata": {},
   "outputs": [],
   "source": [
    "# img_dir = '../analyzevts/scans/genesis-exodus/exodus'\n",
    "# json_dir = '../analyzevts/scans/genesis-exodus/exodus/lines'\n",
    "# textlines_dir = '../analyzevts/scans/genesis-exodus/exodus/text'\n",
    "img_dir = '../peshitta/syrocr/test_ephrem_mitchell'\n",
    "json_dir = os.path.join(img_dir, 'lines')\n",
    "src_img_ext = '.tif'\n",
    "lines_file_ext = '_lines.json'\n",
    "textlines_file_ext = '_textlines.json'\n",
    "tables_file = os.path.join(json_dir, 'test_tables.json')\n",
    "# tables_file = '../peshitta/syrocr/vts_3_2_jeremiah/test_tables.json'\n",
    "\n",
    "with open(tables_file, 'r') as f:\n",
    "    tables = json.load(f)"
   ]
  },
  {
   "cell_type": "code",
   "execution_count": 4,
   "metadata": {},
   "outputs": [],
   "source": [
    "# TODO textsize should be available in line dict\n",
    "def get_textsize(linetype, section):\n",
    "    if section == 'main' and linetype in ('text', 'pagenr'):\n",
    "        textsize = 'normal'\n",
    "    else:\n",
    "        textsize = 'small'\n",
    "    return textsize\n",
    "\n",
    "# we are mainly interested in the 'main' section,\n",
    "# so for now we ignore 'marginl' and 'marginr'\n",
    "section = 'main'\n",
    "\n",
    "def get_filenames():\n",
    "    with os.scandir(img_dir) as sd:\n",
    "        for dir_entry in sorted(sd, key = lambda x: x.name):\n",
    "            if dir_entry.is_file() and dir_entry.name.endswith(src_img_ext):\n",
    "                basename = os.path.splitext(dir_entry.name)[0]\n",
    "                img_file = dir_entry.path\n",
    "                lines_file = os.path.join(json_dir, basename + lines_file_ext)\n",
    "                textlines_file = os.path.join(json_dir, basename + textlines_file_ext)\n",
    "                yield basename, img_file, lines_file, textlines_file\n",
    "\n",
    "def get_key(basename, line_num, c_num, entry, table):\n",
    "    c_id, d, keyoverride, box = entry\n",
    "    c = table[c_id]\n",
    "    \n",
    "#     print(i, c_id, d, keyoverride, c['key'])\n",
    "\n",
    "    if c['key'] is None:\n",
    "\n",
    "        print(f'page {basename} line {line_num} character {c_num} id {c_id}')\n",
    "\n",
    "        avgim = AvgIm(c['avgim']['base64_str'], c['avgim']['baseline'], c['avgim']['width'], c['avgim']['height'])\n",
    "        display(avgim.maxtoblack(invert=True))\n",
    "\n",
    "        key = input().split()\n",
    "\n",
    "        table[c_id]['key'] = {\n",
    "            'tr':     '' if not key else key.pop(0),\n",
    "            'script': '' if not key or key[0].isdigit() else key.pop(0),\n",
    "            'dist':   None if not key else int(key.pop(0)),\n",
    "        }\n",
    "\n",
    "        return table[c_id]['key']"
   ]
  },
  {
   "cell_type": "code",
   "execution_count": 22,
   "metadata": {
    "scrolled": true
   },
   "outputs": [
    {
     "data": {
      "image/png": "[encoded data removed]",
      "text/plain": [
       "<syrocr.images.Im at 0x7f298771d748>"
      ]
     },
     "metadata": {},
     "output_type": "display_data"
    },
    {
     "name": "stdout",
     "output_type": "stream",
     "text": [
      "Line 2 textsize small\n"
     ]
    },
    {
     "data": {
      "image/png": "[encoded data removed]",
      "text/plain": [
       "<syrocr.images.Im at 0x7f299cb16dd8>"
      ]
     },
     "metadata": {},
     "output_type": "display_data"
    },
    {
     "name": "stdout",
     "output_type": "stream",
     "text": [
      "Line 3 textsize small\n"
     ]
    },
    {
     "data": {
      "image/png": "[encoded data removed]",
      "text/plain": [
       "<syrocr.images.Im at 0x7f298772e5c0>"
      ]
     },
     "metadata": {},
     "output_type": "display_data"
    },
    {
     "name": "stdout",
     "output_type": "stream",
     "text": [
      "Line 4 textsize small\n"
     ]
    },
    {
     "data": {
      "image/png": "[encoded data removed]",
      "text/plain": [
       "<syrocr.images.Im at 0x7f298772e5c0>"
      ]
     },
     "metadata": {},
     "output_type": "display_data"
    },
    {
     "name": "stdout",
     "output_type": "stream",
     "text": [
      "Line 5 textsize small\n"
     ]
    },
    {
     "data": {
      "image/png": "[encoded data removed]",
      "text/plain": [
       "<syrocr.images.Im at 0x7f298772e630>"
      ]
     },
     "metadata": {},
     "output_type": "display_data"
    },
    {
     "name": "stdout",
     "output_type": "stream",
     "text": [
      "Line 6 textsize small\n"
     ]
    },
    {
     "data": {
      "image/png": "[encoded data removed]",
      "text/plain": [
       "<syrocr.images.Im at 0x7f298772e630>"
      ]
     },
     "metadata": {},
     "output_type": "display_data"
    },
    {
     "name": "stdout",
     "output_type": "stream",
     "text": [
      "Line 7 textsize small\n"
     ]
    },
    {
     "data": {
      "image/png": "[encoded data removed]",
      "text/plain": [
       "<syrocr.images.Im at 0x7f298771d748>"
      ]
     },
     "metadata": {},
     "output_type": "display_data"
    },
    {
     "name": "stdout",
     "output_type": "stream",
     "text": [
      "Line 8 textsize small\n"
     ]
    },
    {
     "data": {
      "image/png": "[encoded data removed]",
      "text/plain": [
       "<syrocr.images.Im at 0x7f298771d780>"
      ]
     },
     "metadata": {},
     "output_type": "display_data"
    },
    {
     "name": "stdout",
     "output_type": "stream",
     "text": [
      "Line 9 textsize small\n"
     ]
    },
    {
     "data": {
      "image/png": "[encoded data removed]",
      "text/plain": [
       "<syrocr.images.Im at 0x7f29874c8748>"
      ]
     },
     "metadata": {},
     "output_type": "display_data"
    },
    {
     "name": "stdout",
     "output_type": "stream",
     "text": [
      "Line 10 textsize small\n"
     ]
    },
    {
     "data": {
      "image/png": "[encoded data removed]",
      "text/plain": [
       "<syrocr.images.Im at 0x7f298771d748>"
      ]
     },
     "metadata": {},
     "output_type": "display_data"
    },
    {
     "name": "stdout",
     "output_type": "stream",
     "text": [
      "Line 11 textsize small\n"
     ]
    },
    {
     "data": {
      "image/png": "[encoded data removed]",
      "text/plain": [
       "<syrocr.images.Im at 0x7f298772e9e8>"
      ]
     },
     "metadata": {},
     "output_type": "display_data"
    },
    {
     "name": "stdout",
     "output_type": "stream",
     "text": [
      "Line 12 textsize small\n"
     ]
    },
    {
     "data": {
      "image/png": "[encoded data removed]",
      "text/plain": [
       "<syrocr.images.Im at 0x7f298772e630>"
      ]
     },
     "metadata": {},
     "output_type": "display_data"
    },
    {
     "name": "stdout",
     "output_type": "stream",
     "text": [
      "Line 13 textsize small\n"
     ]
    },
    {
     "data": {
      "image/png": "[encoded data removed]",
      "text/plain": [
       "<syrocr.images.Im at 0x7f298772e630>"
      ]
     },
     "metadata": {},
     "output_type": "display_data"
    },
    {
     "name": "stdout",
     "output_type": "stream",
     "text": [
      "Line 14 textsize small\n"
     ]
    },
    {
     "data": {
      "image/png": "[encoded data removed]",
      "text/plain": [
       "<syrocr.images.Im at 0x7f298772e630>"
      ]
     },
     "metadata": {},
     "output_type": "display_data"
    },
    {
     "name": "stdout",
     "output_type": "stream",
     "text": [
      "Line 15 textsize small\n"
     ]
    },
    {
     "data": {
      "image/png": "[encoded data removed]",
      "text/plain": [
       "<syrocr.images.Im at 0x7f298772e630>"
      ]
     },
     "metadata": {},
     "output_type": "display_data"
    },
    {
     "name": "stdout",
     "output_type": "stream",
     "text": [
      "Line 16 textsize small\n"
     ]
    },
    {
     "data": {
      "image/png": "[encoded data removed]",
      "text/plain": [
       "<syrocr.images.Im at 0x7f298772e630>"
      ]
     },
     "metadata": {},
     "output_type": "display_data"
    },
    {
     "name": "stdout",
     "output_type": "stream",
     "text": [
      "Line 17 textsize small\n"
     ]
    },
    {
     "data": {
      "image/png": "[encoded data removed]",
      "text/plain": [
       "<syrocr.images.Im at 0x7f298772e630>"
      ]
     },
     "metadata": {},
     "output_type": "display_data"
    },
    {
     "name": "stdout",
     "output_type": "stream",
     "text": [
      "Line 18 textsize small\n"
     ]
    },
    {
     "data": {
      "image/png": "[encoded data removed]",
      "text/plain": [
       "<syrocr.images.Im at 0x7f298771d780>"
      ]
     },
     "metadata": {},
     "output_type": "display_data"
    },
    {
     "name": "stdout",
     "output_type": "stream",
     "text": [
      "Line 19 textsize small\n"
     ]
    },
    {
     "data": {
      "image/png": "[encoded data removed]",
      "text/plain": [
       "<syrocr.images.Im at 0x7f298772e978>"
      ]
     },
     "metadata": {},
     "output_type": "display_data"
    },
    {
     "name": "stdout",
     "output_type": "stream",
     "text": [
      "Line 20 textsize small\n"
     ]
    },
    {
     "data": {
      "image/png": "[encoded data removed]",
      "text/plain": [
       "<syrocr.images.Im at 0x7f298771d748>"
      ]
     },
     "metadata": {},
     "output_type": "display_data"
    },
    {
     "name": "stdout",
     "output_type": "stream",
     "text": [
      "Line 21 textsize small\n"
     ]
    },
    {
     "data": {
      "image/png": "[encoded data removed]",
      "text/plain": [
       "<syrocr.images.Im at 0x7f299cb16dd8>"
      ]
     },
     "metadata": {},
     "output_type": "display_data"
    },
    {
     "name": "stdout",
     "output_type": "stream",
     "text": [
      "Line 22 textsize small\n"
     ]
    },
    {
     "data": {
      "image/png": "[encoded data removed]",
      "text/plain": [
       "<syrocr.images.Im at 0x7f298772e828>"
      ]
     },
     "metadata": {},
     "output_type": "display_data"
    },
    {
     "name": "stdout",
     "output_type": "stream",
     "text": [
      "Line 23 textsize small\n"
     ]
    },
    {
     "data": {
      "image/png": "[encoded data removed]",
      "text/plain": [
       "<syrocr.images.Im at 0x7f298772e9e8>"
      ]
     },
     "metadata": {},
     "output_type": "display_data"
    },
    {
     "name": "stdout",
     "output_type": "stream",
     "text": [
      "Line 24 textsize small\n"
     ]
    },
    {
     "data": {
      "image/png": "[encoded data removed]",
      "text/plain": [
       "<syrocr.images.Im at 0x7f298771d748>"
      ]
     },
     "metadata": {},
     "output_type": "display_data"
    },
    {
     "name": "stdout",
     "output_type": "stream",
     "text": [
      "Line 25 textsize small\n"
     ]
    },
    {
     "data": {
      "image/png": "[encoded data removed]",
      "text/plain": [
       "<syrocr.images.Im at 0x7f298772e5c0>"
      ]
     },
     "metadata": {},
     "output_type": "display_data"
    },
    {
     "name": "stdout",
     "output_type": "stream",
     "text": [
      "Line 26 textsize small\n"
     ]
    },
    {
     "data": {
      "image/png": "[encoded data removed]",
      "text/plain": [
       "<syrocr.images.Im at 0x7f298771d780>"
      ]
     },
     "metadata": {},
     "output_type": "display_data"
    },
    {
     "name": "stdout",
     "output_type": "stream",
     "text": [
      "Line 27 textsize small\n"
     ]
    },
    {
     "data": {
      "image/png": "[encoded data removed]",
      "text/plain": [
       "<syrocr.images.Im at 0x7f298771d748>"
      ]
     },
     "metadata": {},
     "output_type": "display_data"
    },
    {
     "name": "stdout",
     "output_type": "stream",
     "text": [
      "Line 28 textsize small\n"
     ]
    },
    {
     "data": {
      "image/png": "[encoded data removed]",
      "text/plain": [
       "<syrocr.images.Im at 0x7f298771d748>"
      ]
     },
     "metadata": {},
     "output_type": "display_data"
    },
    {
     "name": "stdout",
     "output_type": "stream",
     "text": [
      "Line 29 textsize small\n"
     ]
    },
    {
     "data": {
      "image/png": "[encoded data removed]",
      "text/plain": [
       "<syrocr.images.Im at 0x7f298771d780>"
      ]
     },
     "metadata": {},
     "output_type": "display_data"
    },
    {
     "name": "stdout",
     "output_type": "stream",
     "text": [
      "Line 30 textsize small\n"
     ]
    },
    {
     "data": {
      "image/png": "[encoded data removed]",
      "text/plain": [
       "<syrocr.images.Im at 0x7f298772e630>"
      ]
     },
     "metadata": {},
     "output_type": "display_data"
    },
    {
     "name": "stdout",
     "output_type": "stream",
     "text": [
      "Line 31 textsize small\n"
     ]
    },
    {
     "data": {
      "image/png": "[encoded data removed]",
      "text/plain": [
       "<syrocr.images.Im at 0x7f298771d748>"
      ]
     },
     "metadata": {},
     "output_type": "display_data"
    },
    {
     "name": "stdout",
     "output_type": "stream",
     "text": [
      "Line 32 textsize small\n"
     ]
    },
    {
     "data": {
      "image/png": "[encoded data removed]",
      "text/plain": [
       "<syrocr.images.Im at 0x7f298777d438>"
      ]
     },
     "metadata": {},
     "output_type": "display_data"
    },
    {
     "name": "stdout",
     "output_type": "stream",
     "text": [
      "Line 33 textsize small\n"
     ]
    },
    {
     "data": {
      "image/png": "[encoded data removed]",
      "text/plain": [
       "<syrocr.images.Im at 0x7f298772e630>"
      ]
     },
     "metadata": {},
     "output_type": "display_data"
    },
    {
     "name": "stdout",
     "output_type": "stream",
     "text": [
      "Line 34 textsize small\n"
     ]
    },
    {
     "data": {
      "image/png": "[encoded data removed]",
      "text/plain": [
       "<syrocr.images.Im at 0x7f298772e978>"
      ]
     },
     "metadata": {},
     "output_type": "display_data"
    },
    {
     "name": "stdout",
     "output_type": "stream",
     "text": [
      "Line 35 textsize small\n"
     ]
    },
    {
     "data": {
      "image/png": "[encoded data removed]",
      "text/plain": [
       "<syrocr.images.Im at 0x7f298772e630>"
      ]
     },
     "metadata": {},
     "output_type": "display_data"
    },
    {
     "name": "stdout",
     "output_type": "stream",
     "text": [
      "Line 36 textsize small\n"
     ]
    },
    {
     "data": {
      "image/png": "[encoded data removed]",
      "text/plain": [
       "<syrocr.images.Im at 0x7f298772e978>"
      ]
     },
     "metadata": {},
     "output_type": "display_data"
    },
    {
     "name": "stdout",
     "output_type": "stream",
     "text": [
      "Line 37 textsize small\n"
     ]
    },
    {
     "data": {
      "image/png": "[encoded data removed]",
      "text/plain": [
       "<syrocr.images.Im at 0x7f298771db38>"
      ]
     },
     "metadata": {},
     "output_type": "display_data"
    },
    {
     "name": "stdout",
     "output_type": "stream",
     "text": [
      "Line 1 textsize small\n"
     ]
    },
    {
     "data": {
      "image/png": "[encoded data removed]",
      "text/plain": [
       "<syrocr.images.Im at 0x7f2987780550>"
      ]
     },
     "metadata": {},
     "output_type": "display_data"
    },
    {
     "name": "stdout",
     "output_type": "stream",
     "text": [
      "Line 2 textsize small\n"
     ]
    },
    {
     "data": {
      "image/png": "[encoded data removed]",
      "text/plain": [
       "<syrocr.images.Im at 0x7f298771dbe0>"
      ]
     },
     "metadata": {},
     "output_type": "display_data"
    },
    {
     "name": "stdout",
     "output_type": "stream",
     "text": [
      "Line 3 textsize small\n"
     ]
    },
    {
     "data": {
      "image/png": "[encoded data removed]",
      "text/plain": [
       "<syrocr.images.Im at 0x7f298771db38>"
      ]
     },
     "metadata": {},
     "output_type": "display_data"
    },
    {
     "name": "stdout",
     "output_type": "stream",
     "text": [
      "Line 4 textsize small\n"
     ]
    },
    {
     "data": {
      "image/png": "[encoded data removed]",
      "text/plain": [
       "<syrocr.images.Im at 0x7f29874bd9e8>"
      ]
     },
     "metadata": {},
     "output_type": "display_data"
    },
    {
     "name": "stdout",
     "output_type": "stream",
     "text": [
      "Line 5 textsize small\n"
     ]
    },
    {
     "data": {
      "image/png": "[encoded data removed]",
      "text/plain": [
       "<syrocr.images.Im at 0x7f298772e4e0>"
      ]
     },
     "metadata": {},
     "output_type": "display_data"
    },
    {
     "name": "stdout",
     "output_type": "stream",
     "text": [
      "Line 6 textsize small\n"
     ]
    },
    {
     "data": {
      "image/png": "[encoded data removed]",
      "text/plain": [
       "<syrocr.images.Im at 0x7f298771db38>"
      ]
     },
     "metadata": {},
     "output_type": "display_data"
    },
    {
     "name": "stdout",
     "output_type": "stream",
     "text": [
      "Line 7 textsize small\n"
     ]
    },
    {
     "data": {
      "image/png": "[encoded data removed]",
      "text/plain": [
       "<syrocr.images.Im at 0x7f298772e4e0>"
      ]
     },
     "metadata": {},
     "output_type": "display_data"
    },
    {
     "name": "stdout",
     "output_type": "stream",
     "text": [
      "Line 8 textsize small\n"
     ]
    },
    {
     "data": {
      "image/png": "[encoded data removed]",
      "text/plain": [
       "<syrocr.images.Im at 0x7f298772e860>"
      ]
     },
     "metadata": {},
     "output_type": "display_data"
    },
    {
     "name": "stdout",
     "output_type": "stream",
     "text": [
      "Line 9 textsize small\n"
     ]
    },
    {
     "data": {
      "image/png": "[encoded data removed]",
      "text/plain": [
       "<syrocr.images.Im at 0x7f298772e3c8>"
      ]
     },
     "metadata": {},
     "output_type": "display_data"
    },
    {
     "name": "stdout",
     "output_type": "stream",
     "text": [
      "Line 10 textsize small\n"
     ]
    },
    {
     "data": {
      "image/png": "[encoded data removed]",
      "text/plain": [
       "<syrocr.images.Im at 0x7f298771db38>"
      ]
     },
     "metadata": {},
     "output_type": "display_data"
    },
    {
     "name": "stdout",
     "output_type": "stream",
     "text": [
      "Line 11 textsize small\n"
     ]
    },
    {
     "data": {
      "image/png": "[encoded data removed]",
      "text/plain": [
       "<syrocr.images.Im at 0x7f2987780550>"
      ]
     },
     "metadata": {},
     "output_type": "display_data"
    },
    {
     "name": "stdout",
     "output_type": "stream",
     "text": [
      "Line 12 textsize small\n"
     ]
    },
    {
     "data": {
      "image/png": "[encoded data removed]",
      "text/plain": [
       "<syrocr.images.Im at 0x7f2987780470>"
      ]
     },
     "metadata": {},
     "output_type": "display_data"
    },
    {
     "name": "stdout",
     "output_type": "stream",
     "text": [
      "Line 13 textsize small\n"
     ]
    },
    {
     "data": {
      "image/png": "[encoded data removed]",
      "text/plain": [
       "<syrocr.images.Im at 0x7f298771dbe0>"
      ]
     },
     "metadata": {},
     "output_type": "display_data"
    },
    {
     "name": "stdout",
     "output_type": "stream",
     "text": [
      "Line 14 textsize small\n"
     ]
    },
    {
     "data": {
      "image/png": "[encoded data removed]",
      "text/plain": [
       "<syrocr.images.Im at 0x7f298771db38>"
      ]
     },
     "metadata": {},
     "output_type": "display_data"
    },
    {
     "name": "stdout",
     "output_type": "stream",
     "text": [
      "Line 15 textsize small\n"
     ]
    },
    {
     "data": {
      "image/png": "[encoded data removed]",
      "text/plain": [
       "<syrocr.images.Im at 0x7f298771db38>"
      ]
     },
     "metadata": {},
     "output_type": "display_data"
    },
    {
     "name": "stdout",
     "output_type": "stream",
     "text": [
      "Line 16 textsize small\n"
     ]
    },
    {
     "data": {
      "image/png": "[encoded data removed]",
      "text/plain": [
       "<syrocr.images.Im at 0x7f29874bd9e8>"
      ]
     },
     "metadata": {},
     "output_type": "display_data"
    },
    {
     "name": "stdout",
     "output_type": "stream",
     "text": [
      "Line 17 textsize small\n"
     ]
    },
    {
     "data": {
      "image/png": "[encoded data removed]",
      "text/plain": [
       "<syrocr.images.Im at 0x7f2987780470>"
      ]
     },
     "metadata": {},
     "output_type": "display_data"
    },
    {
     "name": "stdout",
     "output_type": "stream",
     "text": [
      "Line 18 textsize small\n"
     ]
    },
    {
     "data": {
      "image/png": "[encoded data removed]",
      "text/plain": [
       "<syrocr.images.Im at 0x7f29874bd9e8>"
      ]
     },
     "metadata": {},
     "output_type": "display_data"
    },
    {
     "name": "stdout",
     "output_type": "stream",
     "text": [
      "Line 19 textsize small\n"
     ]
    },
    {
     "data": {
      "image/png": "[encoded data removed]",
      "text/plain": [
       "<syrocr.images.Im at 0x7f298771db38>"
      ]
     },
     "metadata": {},
     "output_type": "display_data"
    },
    {
     "name": "stdout",
     "output_type": "stream",
     "text": [
      "Line 20 textsize small\n"
     ]
    },
    {
     "data": {
      "image/png": "[encoded data removed]",
      "text/plain": [
       "<syrocr.images.Im at 0x7f29874bd9e8>"
      ]
     },
     "metadata": {},
     "output_type": "display_data"
    },
    {
     "name": "stdout",
     "output_type": "stream",
     "text": [
      "Line 21 textsize small\n"
     ]
    },
    {
     "data": {
      "image/png": "[encoded data removed]",
      "text/plain": [
       "<syrocr.images.Im at 0x7f298772e4e0>"
      ]
     },
     "metadata": {},
     "output_type": "display_data"
    },
    {
     "name": "stdout",
     "output_type": "stream",
     "text": [
      "Line 22 textsize small\n"
     ]
    },
    {
     "data": {
      "image/png": "[encoded data removed]",
      "text/plain": [
       "<syrocr.images.Im at 0x7f298772e860>"
      ]
     },
     "metadata": {},
     "output_type": "display_data"
    },
    {
     "name": "stdout",
     "output_type": "stream",
     "text": [
      "Line 23 textsize small\n"
     ]
    },
    {
     "data": {
      "image/png": "[encoded data removed]",
      "text/plain": [
       "<syrocr.images.Im at 0x7f298772e3c8>"
      ]
     },
     "metadata": {},
     "output_type": "display_data"
    },
    {
     "name": "stdout",
     "output_type": "stream",
     "text": [
      "Line 24 textsize small\n"
     ]
    },
    {
     "data": {
      "image/png": "[encoded data removed]",
      "text/plain": [
       "<syrocr.images.Im at 0x7f298772e4e0>"
      ]
     },
     "metadata": {},
     "output_type": "display_data"
    },
    {
     "name": "stdout",
     "output_type": "stream",
     "text": [
      "Line 25 textsize small\n"
     ]
    },
    {
     "data": {
      "image/png": "[encoded data removed]",
      "text/plain": [
       "<syrocr.images.Im at 0x7f298772e860>"
      ]
     },
     "metadata": {},
     "output_type": "display_data"
    },
    {
     "name": "stdout",
     "output_type": "stream",
     "text": [
      "Line 26 textsize small\n"
     ]
    },
    {
     "data": {
      "image/png": "[encoded data removed]",
      "text/plain": [
       "<syrocr.images.Im at 0x7f298772e860>"
      ]
     },
     "metadata": {},
     "output_type": "display_data"
    },
    {
     "name": "stdout",
     "output_type": "stream",
     "text": [
      "Line 27 textsize small\n"
     ]
    },
    {
     "data": {
      "image/png": "[encoded data removed]",
      "text/plain": [
       "<syrocr.images.Im at 0x7f29874bd9e8>"
      ]
     },
     "metadata": {},
     "output_type": "display_data"
    },
    {
     "name": "stdout",
     "output_type": "stream",
     "text": [
      "Line 28 textsize small\n"
     ]
    },
    {
     "data": {
      "image/png": "[encoded data removed]",
      "text/plain": [
       "<syrocr.images.Im at 0x7f298772e860>"
      ]
     },
     "metadata": {},
     "output_type": "display_data"
    },
    {
     "name": "stdout",
     "output_type": "stream",
     "text": [
      "Line 29 textsize small\n"
     ]
    },
    {
     "data": {
      "image/png": "[encoded data removed]",
      "text/plain": [
       "<syrocr.images.Im at 0x7f298772e4e0>"
      ]
     },
     "metadata": {},
     "output_type": "display_data"
    },
    {
     "name": "stdout",
     "output_type": "stream",
     "text": [
      "Line 30 textsize small\n"
     ]
    },
    {
     "data": {
      "image/png": "[encoded data removed]",
      "text/plain": [
       "<syrocr.images.Im at 0x7f298772e3c8>"
      ]
     },
     "metadata": {},
     "output_type": "display_data"
    },
    {
     "name": "stdout",
     "output_type": "stream",
     "text": [
      "Line 31 textsize small\n"
     ]
    },
    {
     "data": {
      "image/png": "[encoded data removed]",
      "text/plain": [
       "<syrocr.images.Im at 0x7f2987780470>"
      ]
     },
     "metadata": {},
     "output_type": "display_data"
    },
    {
     "name": "stdout",
     "output_type": "stream",
     "text": [
      "Line 32 textsize small\n"
     ]
    },
    {
     "data": {
      "image/png": "[encoded data removed]",
      "text/plain": [
       "<syrocr.images.Im at 0x7f298772e3c8>"
      ]
     },
     "metadata": {},
     "output_type": "display_data"
    },
    {
     "name": "stdout",
     "output_type": "stream",
     "text": [
      "Line 33 textsize small\n"
     ]
    },
    {
     "data": {
      "image/png": "[encoded data removed]",
      "text/plain": [
       "<syrocr.images.Im at 0x7f298772e4e0>"
      ]
     },
     "metadata": {},
     "output_type": "display_data"
    },
    {
     "name": "stdout",
     "output_type": "stream",
     "text": [
      "Line 34 textsize small\n"
     ]
    },
    {
     "data": {
      "image/png": "[encoded data removed]",
      "text/plain": [
       "<syrocr.images.Im at 0x7f298771db38>"
      ]
     },
     "metadata": {},
     "output_type": "display_data"
    },
    {
     "name": "stdout",
     "output_type": "stream",
     "text": [
      "Line 35 textsize small\n"
     ]
    },
    {
     "data": {
      "image/png": "[encoded data removed]",
      "text/plain": [
       "<syrocr.images.Im at 0x7f298771dbe0>"
      ]
     },
     "metadata": {},
     "output_type": "display_data"
    },
    {
     "name": "stdout",
     "output_type": "stream",
     "text": [
      "Line 36 textsize small\n"
     ]
    },
    {
     "data": {
      "image/png": "[encoded data removed]",
      "text/plain": [
       "<syrocr.images.Im at 0x7f2987780470>"
      ]
     },
     "metadata": {},
     "output_type": "display_data"
    },
    {
     "name": "stdout",
     "output_type": "stream",
     "text": [
      "Line 37 textsize small\n"
     ]
    },
    {
     "data": {
      "image/png": "[encoded data removed]",
      "text/plain": [
       "<syrocr.images.Im at 0x7f2987780550>"
      ]
     },
     "metadata": {},
     "output_type": "display_data"
    },
    {
     "name": "stdout",
     "output_type": "stream",
     "text": [
      "Line 38 textsize small\n"
     ]
    },
    {
     "data": {
      "image/png": "[encoded data removed]",
      "text/plain": [
       "<syrocr.images.Im at 0x7f298771dbe0>"
      ]
     },
     "metadata": {},
     "output_type": "display_data"
    },
    {
     "name": "stdout",
     "output_type": "stream",
     "text": [
      "Line 39 textsize small\n"
     ]
    },
    {
     "data": {
      "image/png": "[encoded data removed]",
      "text/plain": [
       "<syrocr.images.Im at 0x7f298771db38>"
      ]
     },
     "metadata": {},
     "output_type": "display_data"
    },
    {
     "name": "stdout",
     "output_type": "stream",
     "text": [
      "Line 40 textsize small\n"
     ]
    },
    {
     "data": {
      "image/png": "[encoded data removed]",
      "text/plain": [
       "<syrocr.images.Im at 0x7f298771db38>"
      ]
     },
     "metadata": {},
     "output_type": "display_data"
    },
    {
     "name": "stdout",
     "output_type": "stream",
     "text": [
      "Line 41 textsize small\n"
     ]
    },
    {
     "data": {
      "image/png": "[encoded data removed]",
      "text/plain": [
       "<syrocr.images.Im at 0x7f29874bd9e8>"
      ]
     },
     "metadata": {},
     "output_type": "display_data"
    },
    {
     "name": "stdout",
     "output_type": "stream",
     "text": [
      "Line 42 textsize small\n"
     ]
    },
    {
     "data": {
      "image/png": "[encoded data removed]",
      "text/plain": [
       "<syrocr.images.Im at 0x7f298772e860>"
      ]
     },
     "metadata": {},
     "output_type": "display_data"
    },
    {
     "name": "stdout",
     "output_type": "stream",
     "text": [
      "Line 43 textsize small\n"
     ]
    },
    {
     "data": {
      "image/png": "[encoded data removed]",
      "text/plain": [
       "<syrocr.images.Im at 0x7f298771db38>"
      ]
     },
     "metadata": {},
     "output_type": "display_data"
    },
    {
     "name": "stdout",
     "output_type": "stream",
     "text": [
      "Line 44 textsize small\n"
     ]
    },
    {
     "data": {
      "image/png": "[encoded data removed]",
      "text/plain": [
       "<syrocr.images.Im at 0x7f298771dbe0>"
      ]
     },
     "metadata": {},
     "output_type": "display_data"
    },
    {
     "name": "stdout",
     "output_type": "stream",
     "text": [
      "Line 45 textsize small\n"
     ]
    },
    {
     "data": {
      "image/png": "[encoded data removed]",
      "text/plain": [
       "<syrocr.images.Im at 0x7f2987780550>"
      ]
     },
     "metadata": {},
     "output_type": "display_data"
    },
    {
     "name": "stdout",
     "output_type": "stream",
     "text": [
      "Line 46 textsize small\n"
     ]
    },
    {
     "data": {
      "image/png": "[encoded data removed]",
      "text/plain": [
       "<syrocr.images.Im at 0x7f299cb16dd8>"
      ]
     },
     "metadata": {},
     "output_type": "display_data"
    },
    {
     "name": "stdout",
     "output_type": "stream",
     "text": [
      "Line 47 textsize small\n"
     ]
    },
    {
     "data": {
      "image/png": "[encoded data removed]",
      "text/plain": [
       "<syrocr.images.Im at 0x7f2987780550>"
      ]
     },
     "metadata": {},
     "output_type": "display_data"
    },
    {
     "name": "stdout",
     "output_type": "stream",
     "text": [
      "Line 48 textsize small\n"
     ]
    },
    {
     "data": {
      "image/png": "[encoded data removed]",
      "text/plain": [
       "<syrocr.images.Im at 0x7f29874c8748>"
      ]
     },
     "metadata": {},
     "output_type": "display_data"
    },
    {
     "name": "stdout",
     "output_type": "stream",
     "text": [
      "Line 1 textsize small\n"
     ]
    },
    {
     "data": {
      "image/png": "[encoded data removed]",
      "text/plain": [
       "<syrocr.images.Im at 0x7f298771db00>"
      ]
     },
     "metadata": {},
     "output_type": "display_data"
    },
    {
     "name": "stdout",
     "output_type": "stream",
     "text": [
      "Line 2 textsize small\n"
     ]
    },
    {
     "data": {
      "image/png": "[encoded data removed]",
      "text/plain": [
       "<syrocr.images.Im at 0x7f29874c8748>"
      ]
     },
     "metadata": {},
     "output_type": "display_data"
    },
    {
     "name": "stdout",
     "output_type": "stream",
     "text": [
      "Line 3 textsize small\n"
     ]
    },
    {
     "data": {
      "image/png": "[encoded data removed]",
      "text/plain": [
       "<syrocr.images.Im at 0x7f298771d630>"
      ]
     },
     "metadata": {},
     "output_type": "display_data"
    },
    {
     "name": "stdout",
     "output_type": "stream",
     "text": [
      "Line 4 textsize small\n"
     ]
    },
    {
     "data": {
      "image/png": "[encoded data removed]",
      "text/plain": [
       "<syrocr.images.Im at 0x7f298771db00>"
      ]
     },
     "metadata": {},
     "output_type": "display_data"
    },
    {
     "name": "stdout",
     "output_type": "stream",
     "text": [
      "Line 5 textsize small\n"
     ]
    },
    {
     "data": {
      "image/png": "[encoded data removed]",
      "text/plain": [
       "<syrocr.images.Im at 0x7f298771d630>"
      ]
     },
     "metadata": {},
     "output_type": "display_data"
    },
    {
     "name": "stdout",
     "output_type": "stream",
     "text": [
      "Line 6 textsize small\n"
     ]
    },
    {
     "data": {
      "image/png": "[encoded data removed]",
      "text/plain": [
       "<syrocr.images.Im at 0x7f298777d438>"
      ]
     },
     "metadata": {},
     "output_type": "display_data"
    },
    {
     "name": "stdout",
     "output_type": "stream",
     "text": [
      "Line 7 textsize small\n"
     ]
    },
    {
     "data": {
      "image/png": "[encoded data removed]",
      "text/plain": [
       "<syrocr.images.Im at 0x7f298771db00>"
      ]
     },
     "metadata": {},
     "output_type": "display_data"
    },
    {
     "name": "stdout",
     "output_type": "stream",
     "text": [
      "Line 8 textsize small\n"
     ]
    },
    {
     "data": {
      "image/png": "[encoded data removed]",
      "text/plain": [
       "<syrocr.images.Im at 0x7f298771d630>"
      ]
     },
     "metadata": {},
     "output_type": "display_data"
    },
    {
     "name": "stdout",
     "output_type": "stream",
     "text": [
      "Line 9 textsize small\n"
     ]
    },
    {
     "data": {
      "image/png": "[encoded data removed]",
      "text/plain": [
       "<syrocr.images.Im at 0x7f29874c8748>"
      ]
     },
     "metadata": {},
     "output_type": "display_data"
    },
    {
     "name": "stdout",
     "output_type": "stream",
     "text": [
      "Line 10 textsize small\n"
     ]
    },
    {
     "data": {
      "image/png": "[encoded data removed]",
      "text/plain": [
       "<syrocr.images.Im at 0x7f298777d438>"
      ]
     },
     "metadata": {},
     "output_type": "display_data"
    },
    {
     "name": "stdout",
     "output_type": "stream",
     "text": [
      "Line 11 textsize small\n"
     ]
    },
    {
     "data": {
      "image/png": "[encoded data removed]",
      "text/plain": [
       "<syrocr.images.Im at 0x7f29874c8748>"
      ]
     },
     "metadata": {},
     "output_type": "display_data"
    },
    {
     "name": "stdout",
     "output_type": "stream",
     "text": [
      "Line 12 textsize small\n"
     ]
    },
    {
     "data": {
      "image/png": "[encoded data removed]",
      "text/plain": [
       "<syrocr.images.Im at 0x7f298771db00>"
      ]
     },
     "metadata": {},
     "output_type": "display_data"
    },
    {
     "name": "stdout",
     "output_type": "stream",
     "text": [
      "Line 13 textsize small\n"
     ]
    },
    {
     "data": {
      "image/png": "[encoded data removed]",
      "text/plain": [
       "<syrocr.images.Im at 0x7f298777d438>"
      ]
     },
     "metadata": {},
     "output_type": "display_data"
    },
    {
     "name": "stdout",
     "output_type": "stream",
     "text": [
      "Line 14 textsize small\n"
     ]
    },
    {
     "data": {
      "image/png": "[encoded data removed]",
      "text/plain": [
       "<syrocr.images.Im at 0x7f298771d630>"
      ]
     },
     "metadata": {},
     "output_type": "display_data"
    },
    {
     "name": "stdout",
     "output_type": "stream",
     "text": [
      "Line 15 textsize small\n"
     ]
    },
    {
     "data": {
      "image/png": "[encoded data removed]",
      "text/plain": [
       "<syrocr.images.Im at 0x7f298777d438>"
      ]
     },
     "metadata": {},
     "output_type": "display_data"
    },
    {
     "name": "stdout",
     "output_type": "stream",
     "text": [
      "Line 16 textsize small\n"
     ]
    },
    {
     "data": {
      "image/png": "[encoded data removed]",
      "text/plain": [
       "<syrocr.images.Im at 0x7f298772e6a0>"
      ]
     },
     "metadata": {},
     "output_type": "display_data"
    },
    {
     "name": "stdout",
     "output_type": "stream",
     "text": [
      "Line 17 textsize small\n"
     ]
    },
    {
     "data": {
      "image/png": "[encoded data removed]",
      "text/plain": [
       "<syrocr.images.Im at 0x7f29874c8748>"
      ]
     },
     "metadata": {},
     "output_type": "display_data"
    },
    {
     "name": "stdout",
     "output_type": "stream",
     "text": [
      "Line 18 textsize small\n"
     ]
    },
    {
     "data": {
      "image/png": "[encoded data removed]",
      "text/plain": [
       "<syrocr.images.Im at 0x7f298771db00>"
      ]
     },
     "metadata": {},
     "output_type": "display_data"
    },
    {
     "name": "stdout",
     "output_type": "stream",
     "text": [
      "Line 19 textsize small\n"
     ]
    },
    {
     "data": {
      "image/png": "[encoded data removed]",
      "text/plain": [
       "<syrocr.images.Im at 0x7f29874c8748>"
      ]
     },
     "metadata": {},
     "output_type": "display_data"
    },
    {
     "name": "stdout",
     "output_type": "stream",
     "text": [
      "Line 20 textsize small\n"
     ]
    },
    {
     "data": {
      "image/png": "[encoded data removed]",
      "text/plain": [
       "<syrocr.images.Im at 0x7f298771d630>"
      ]
     },
     "metadata": {},
     "output_type": "display_data"
    },
    {
     "name": "stdout",
     "output_type": "stream",
     "text": [
      "Line 21 textsize small\n"
     ]
    },
    {
     "data": {
      "image/png": "[encoded data removed]",
      "text/plain": [
       "<syrocr.images.Im at 0x7f29874c8748>"
      ]
     },
     "metadata": {},
     "output_type": "display_data"
    },
    {
     "name": "stdout",
     "output_type": "stream",
     "text": [
      "Line 22 textsize small\n"
     ]
    },
    {
     "data": {
      "image/png": "[encoded data removed]",
      "text/plain": [
       "<syrocr.images.Im at 0x7f298771db00>"
      ]
     },
     "metadata": {},
     "output_type": "display_data"
    },
    {
     "name": "stdout",
     "output_type": "stream",
     "text": [
      "Line 23 textsize small\n"
     ]
    },
    {
     "data": {
      "image/png": "[encoded data removed]",
      "text/plain": [
       "<syrocr.images.Im at 0x7f298772e6a0>"
      ]
     },
     "metadata": {},
     "output_type": "display_data"
    },
    {
     "name": "stdout",
     "output_type": "stream",
     "text": [
      "Line 24 textsize small\n"
     ]
    },
    {
     "data": {
      "image/png": "[encoded data removed]",
      "text/plain": [
       "<syrocr.images.Im at 0x7f298777d438>"
      ]
     },
     "metadata": {},
     "output_type": "display_data"
    },
    {
     "name": "stdout",
     "output_type": "stream",
     "text": [
      "Line 25 textsize small\n"
     ]
    },
    {
     "data": {
      "image/png": "[encoded data removed]",
      "text/plain": [
       "<syrocr.images.Im at 0x7f298771d630>"
      ]
     },
     "metadata": {},
     "output_type": "display_data"
    },
    {
     "name": "stdout",
     "output_type": "stream",
     "text": [
      "Line 26 textsize small\n"
     ]
    },
    {
     "data": {
      "image/png": "[encoded data removed]",
      "text/plain": [
       "<syrocr.images.Im at 0x7f29874c8748>"
      ]
     },
     "metadata": {},
     "output_type": "display_data"
    },
    {
     "name": "stdout",
     "output_type": "stream",
     "text": [
      "Line 27 textsize small\n"
     ]
    },
    {
     "data": {
      "image/png": "[encoded data removed]",
      "text/plain": [
       "<syrocr.images.Im at 0x7f298772e6a0>"
      ]
     },
     "metadata": {},
     "output_type": "display_data"
    },
    {
     "name": "stdout",
     "output_type": "stream",
     "text": [
      "Line 28 textsize small\n"
     ]
    },
    {
     "data": {
      "image/png": "[encoded data removed]",
      "text/plain": [
       "<syrocr.images.Im at 0x7f298771db00>"
      ]
     },
     "metadata": {},
     "output_type": "display_data"
    },
    {
     "name": "stdout",
     "output_type": "stream",
     "text": [
      "Line 29 textsize small\n"
     ]
    },
    {
     "data": {
      "image/png": "[encoded data removed]",
      "text/plain": [
       "<syrocr.images.Im at 0x7f29874c8748>"
      ]
     },
     "metadata": {},
     "output_type": "display_data"
    },
    {
     "name": "stdout",
     "output_type": "stream",
     "text": [
      "Line 30 textsize small\n"
     ]
    },
    {
     "data": {
      "image/png": "[encoded data removed]",
      "text/plain": [
       "<syrocr.images.Im at 0x7f298771d630>"
      ]
     },
     "metadata": {},
     "output_type": "display_data"
    },
    {
     "name": "stdout",
     "output_type": "stream",
     "text": [
      "Line 31 textsize small\n"
     ]
    },
    {
     "data": {
      "image/png": "[encoded data removed]",
      "text/plain": [
       "<syrocr.images.Im at 0x7f298777d438>"
      ]
     },
     "metadata": {},
     "output_type": "display_data"
    },
    {
     "name": "stdout",
     "output_type": "stream",
     "text": [
      "Line 32 textsize small\n"
     ]
    },
    {
     "data": {
      "image/png": "[encoded data removed]",
      "text/plain": [
       "<syrocr.images.Im at 0x7f298771d630>"
      ]
     },
     "metadata": {},
     "output_type": "display_data"
    },
    {
     "name": "stdout",
     "output_type": "stream",
     "text": [
      "Line 33 textsize small\n"
     ]
    },
    {
     "data": {
      "image/png": "[encoded data removed]",
      "text/plain": [
       "<syrocr.images.Im at 0x7f29874c8748>"
      ]
     },
     "metadata": {},
     "output_type": "display_data"
    },
    {
     "name": "stdout",
     "output_type": "stream",
     "text": [
      "Line 34 textsize small\n"
     ]
    },
    {
     "data": {
      "image/png": "[encoded data removed]",
      "text/plain": [
       "<syrocr.images.Im at 0x7f298772e6a0>"
      ]
     },
     "metadata": {},
     "output_type": "display_data"
    },
    {
     "name": "stdout",
     "output_type": "stream",
     "text": [
      "Line 35 textsize small\n"
     ]
    },
    {
     "data": {
      "image/png": "[encoded data removed]",
      "text/plain": [
       "<syrocr.images.Im at 0x7f298771d630>"
      ]
     },
     "metadata": {},
     "output_type": "display_data"
    },
    {
     "name": "stdout",
     "output_type": "stream",
     "text": [
      "Line 36 textsize small\n"
     ]
    },
    {
     "data": {
      "image/png": "[encoded data removed]",
      "text/plain": [
       "<syrocr.images.Im at 0x7f298772e6a0>"
      ]
     },
     "metadata": {},
     "output_type": "display_data"
    },
    {
     "name": "stdout",
     "output_type": "stream",
     "text": [
      "Line 37 textsize small\n"
     ]
    },
    {
     "data": {
      "image/png": "[encoded data removed]",
      "text/plain": [
       "<syrocr.images.Im at 0x7f29874c8748>"
      ]
     },
     "metadata": {},
     "output_type": "display_data"
    },
    {
     "name": "stdout",
     "output_type": "stream",
     "text": [
      "Line 38 textsize small\n"
     ]
    },
    {
     "data": {
      "image/png": "[encoded data removed]",
      "text/plain": [
       "<syrocr.images.Im at 0x7f298772e6a0>"
      ]
     },
     "metadata": {},
     "output_type": "display_data"
    },
    {
     "name": "stdout",
     "output_type": "stream",
     "text": [
      "Line 39 textsize small\n"
     ]
    },
    {
     "data": {
      "image/png": "[encoded data removed]",
      "text/plain": [
       "<syrocr.images.Im at 0x7f298777d438>"
      ]
     },
     "metadata": {},
     "output_type": "display_data"
    },
    {
     "name": "stdout",
     "output_type": "stream",
     "text": [
      "Line 40 textsize small\n"
     ]
    },
    {
     "data": {
      "image/png": "[encoded data removed]",
      "text/plain": [
       "<syrocr.images.Im at 0x7f29874bd9e8>"
      ]
     },
     "metadata": {},
     "output_type": "display_data"
    },
    {
     "name": "stdout",
     "output_type": "stream",
     "text": [
      "Line 41 textsize small\n"
     ]
    },
    {
     "data": {
      "image/png": "[encoded data removed]",
      "text/plain": [
       "<syrocr.images.Im at 0x7f29874c8748>"
      ]
     },
     "metadata": {},
     "output_type": "display_data"
    },
    {
     "name": "stdout",
     "output_type": "stream",
     "text": [
      "Line 42 textsize small\n"
     ]
    },
    {
     "data": {
      "image/png": "[encoded data removed]",
      "text/plain": [
       "<syrocr.images.Im at 0x7f298772e6a0>"
      ]
     },
     "metadata": {},
     "output_type": "display_data"
    },
    {
     "name": "stdout",
     "output_type": "stream",
     "text": [
      "Line 43 textsize small\n"
     ]
    },
    {
     "data": {
      "image/png": "[encoded data removed]",
      "text/plain": [
       "<syrocr.images.Im at 0x7f298771db00>"
      ]
     },
     "metadata": {},
     "output_type": "display_data"
    },
    {
     "name": "stdout",
     "output_type": "stream",
     "text": [
      "Line 44 textsize small\n"
     ]
    },
    {
     "data": {
      "image/png": "[encoded data removed]",
      "text/plain": [
       "<syrocr.images.Im at 0x7f298772e6a0>"
      ]
     },
     "metadata": {},
     "output_type": "display_data"
    },
    {
     "name": "stdout",
     "output_type": "stream",
     "text": [
      "Line 45 textsize small\n"
     ]
    },
    {
     "data": {
      "image/png": "[encoded data removed]",
      "text/plain": [
       "<syrocr.images.Im at 0x7f29874c8748>"
      ]
     },
     "metadata": {},
     "output_type": "display_data"
    },
    {
     "name": "stdout",
     "output_type": "stream",
     "text": [
      "Line 46 textsize small\n"
     ]
    },
    {
     "data": {
      "image/png": "[encoded data removed]",
      "text/plain": [
       "<syrocr.images.Im at 0x7f298777d438>"
      ]
     },
     "metadata": {},
     "output_type": "display_data"
    },
    {
     "name": "stdout",
     "output_type": "stream",
     "text": [
      "Line 47 textsize small\n"
     ]
    },
    {
     "data": {
      "image/png": "[encoded data removed]",
      "text/plain": [
       "<syrocr.images.Im at 0x7f298771d630>"
      ]
     },
     "metadata": {},
     "output_type": "display_data"
    },
    {
     "name": "stdout",
     "output_type": "stream",
     "text": [
      "Line 48 textsize small\n"
     ]
    },
    {
     "data": {
      "image/png": "[encoded data removed]",
      "text/plain": [
       "<syrocr.images.Im at 0x7f29874c8630>"
      ]
     },
     "metadata": {},
     "output_type": "display_data"
    },
    {
     "name": "stdout",
     "output_type": "stream",
     "text": [
      "Line 1 textsize small\n"
     ]
    },
    {
     "data": {
      "image/png": "[encoded data removed]",
      "text/plain": [
       "<syrocr.images.Im at 0x7f29874c8668>"
      ]
     },
     "metadata": {},
     "output_type": "display_data"
    },
    {
     "name": "stdout",
     "output_type": "stream",
     "text": [
      "Line 2 textsize small\n"
     ]
    },
    {
     "data": {
      "image/png": "[encoded data removed]",
      "text/plain": [
       "<syrocr.images.Im at 0x7f298772e860>"
      ]
     },
     "metadata": {},
     "output_type": "display_data"
    },
    {
     "name": "stdout",
     "output_type": "stream",
     "text": [
      "Line 3 textsize small\n"
     ]
    },
    {
     "data": {
      "image/png": "[encoded data removed]",
      "text/plain": [
       "<syrocr.images.Im at 0x7f29877808d0>"
      ]
     },
     "metadata": {},
     "output_type": "display_data"
    },
    {
     "name": "stdout",
     "output_type": "stream",
     "text": [
      "Line 4 textsize small\n"
     ]
    },
    {
     "data": {
      "image/png": "[encoded data removed]",
      "text/plain": [
       "<syrocr.images.Im at 0x7f29877808d0>"
      ]
     },
     "metadata": {},
     "output_type": "display_data"
    },
    {
     "name": "stdout",
     "output_type": "stream",
     "text": [
      "Line 5 textsize small\n"
     ]
    },
    {
     "data": {
      "image/png": "[encoded data removed]",
      "text/plain": [
       "<syrocr.images.Im at 0x7f298772e860>"
      ]
     },
     "metadata": {},
     "output_type": "display_data"
    },
    {
     "name": "stdout",
     "output_type": "stream",
     "text": [
      "Line 6 textsize small\n"
     ]
    },
    {
     "data": {
      "image/png": "[encoded data removed]",
      "text/plain": [
       "<syrocr.images.Im at 0x7f29874c8668>"
      ]
     },
     "metadata": {},
     "output_type": "display_data"
    },
    {
     "name": "stdout",
     "output_type": "stream",
     "text": [
      "Line 7 textsize small\n"
     ]
    },
    {
     "data": {
      "image/png": "[encoded data removed]",
      "text/plain": [
       "<syrocr.images.Im at 0x7f29874c8630>"
      ]
     },
     "metadata": {},
     "output_type": "display_data"
    },
    {
     "name": "stdout",
     "output_type": "stream",
     "text": [
      "Line 8 textsize small\n"
     ]
    },
    {
     "data": {
      "image/png": "[encoded data removed]",
      "text/plain": [
       "<syrocr.images.Im at 0x7f298772e9e8>"
      ]
     },
     "metadata": {},
     "output_type": "display_data"
    },
    {
     "name": "stdout",
     "output_type": "stream",
     "text": [
      "Line 9 textsize small\n"
     ]
    },
    {
     "data": {
      "image/png": "[encoded data removed]",
      "text/plain": [
       "<syrocr.images.Im at 0x7f29874c8630>"
      ]
     },
     "metadata": {},
     "output_type": "display_data"
    },
    {
     "name": "stdout",
     "output_type": "stream",
     "text": [
      "Line 10 textsize small\n"
     ]
    },
    {
     "data": {
      "image/png": "[encoded data removed]",
      "text/plain": [
       "<syrocr.images.Im at 0x7f29874c8668>"
      ]
     },
     "metadata": {},
     "output_type": "display_data"
    },
    {
     "name": "stdout",
     "output_type": "stream",
     "text": [
      "Line 11 textsize small\n"
     ]
    },
    {
     "data": {
      "image/png": "[encoded data removed]",
      "text/plain": [
       "<syrocr.images.Im at 0x7f29877804a8>"
      ]
     },
     "metadata": {},
     "output_type": "display_data"
    },
    {
     "name": "stdout",
     "output_type": "stream",
     "text": [
      "Line 12 textsize small\n"
     ]
    },
    {
     "data": {
      "image/png": "[encoded data removed]",
      "text/plain": [
       "<syrocr.images.Im at 0x7f298772e860>"
      ]
     },
     "metadata": {},
     "output_type": "display_data"
    },
    {
     "name": "stdout",
     "output_type": "stream",
     "text": [
      "Line 13 textsize small\n"
     ]
    },
    {
     "data": {
      "image/png": "[encoded data removed]",
      "text/plain": [
       "<syrocr.images.Im at 0x7f29877804a8>"
      ]
     },
     "metadata": {},
     "output_type": "display_data"
    },
    {
     "name": "stdout",
     "output_type": "stream",
     "text": [
      "Line 14 textsize small\n"
     ]
    },
    {
     "data": {
      "image/png": "[encoded data removed]",
      "text/plain": [
       "<syrocr.images.Im at 0x7f29874c8668>"
      ]
     },
     "metadata": {},
     "output_type": "display_data"
    },
    {
     "name": "stdout",
     "output_type": "stream",
     "text": [
      "Line 15 textsize small\n"
     ]
    },
    {
     "data": {
      "image/png": "[encoded data removed]",
      "text/plain": [
       "<syrocr.images.Im at 0x7f298772e9e8>"
      ]
     },
     "metadata": {},
     "output_type": "display_data"
    },
    {
     "name": "stdout",
     "output_type": "stream",
     "text": [
      "Line 16 textsize small\n"
     ]
    },
    {
     "data": {
      "image/png": "[encoded data removed]",
      "text/plain": [
       "<syrocr.images.Im at 0x7f29877804a8>"
      ]
     },
     "metadata": {},
     "output_type": "display_data"
    },
    {
     "name": "stdout",
     "output_type": "stream",
     "text": [
      "Line 17 textsize small\n"
     ]
    },
    {
     "data": {
      "image/png": "[encoded data removed]",
      "text/plain": [
       "<syrocr.images.Im at 0x7f2987776fd0>"
      ]
     },
     "metadata": {},
     "output_type": "display_data"
    },
    {
     "name": "stdout",
     "output_type": "stream",
     "text": [
      "Line 18 textsize small\n"
     ]
    },
    {
     "data": {
      "image/png": "[encoded data removed]",
      "text/plain": [
       "<syrocr.images.Im at 0x7f298772e9e8>"
      ]
     },
     "metadata": {},
     "output_type": "display_data"
    },
    {
     "name": "stdout",
     "output_type": "stream",
     "text": [
      "Line 19 textsize small\n"
     ]
    },
    {
     "data": {
      "image/png": "[encoded data removed]",
      "text/plain": [
       "<syrocr.images.Im at 0x7f298772e860>"
      ]
     },
     "metadata": {},
     "output_type": "display_data"
    },
    {
     "name": "stdout",
     "output_type": "stream",
     "text": [
      "Line 20 textsize small\n"
     ]
    },
    {
     "data": {
      "image/png": "[encoded data removed]",
      "text/plain": [
       "<syrocr.images.Im at 0x7f2987780550>"
      ]
     },
     "metadata": {},
     "output_type": "display_data"
    },
    {
     "name": "stdout",
     "output_type": "stream",
     "text": [
      "Line 21 textsize small\n"
     ]
    },
    {
     "data": {
      "image/png": "[encoded data removed]",
      "text/plain": [
       "<syrocr.images.Im at 0x7f298772e860>"
      ]
     },
     "metadata": {},
     "output_type": "display_data"
    },
    {
     "name": "stdout",
     "output_type": "stream",
     "text": [
      "Line 22 textsize small\n"
     ]
    },
    {
     "data": {
      "image/png": "[encoded data removed]",
      "text/plain": [
       "<syrocr.images.Im at 0x7f29877808d0>"
      ]
     },
     "metadata": {},
     "output_type": "display_data"
    },
    {
     "name": "stdout",
     "output_type": "stream",
     "text": [
      "Line 23 textsize small\n"
     ]
    },
    {
     "data": {
      "image/png": "[encoded data removed]",
      "text/plain": [
       "<syrocr.images.Im at 0x7f29877804a8>"
      ]
     },
     "metadata": {},
     "output_type": "display_data"
    },
    {
     "name": "stdout",
     "output_type": "stream",
     "text": [
      "Line 24 textsize small\n"
     ]
    },
    {
     "data": {
      "image/png": "[encoded data removed]",
      "text/plain": [
       "<syrocr.images.Im at 0x7f29874c8630>"
      ]
     },
     "metadata": {},
     "output_type": "display_data"
    },
    {
     "name": "stdout",
     "output_type": "stream",
     "text": [
      "Line 25 textsize small\n"
     ]
    },
    {
     "data": {
      "image/png": "[encoded data removed]",
      "text/plain": [
       "<syrocr.images.Im at 0x7f298772e860>"
      ]
     },
     "metadata": {},
     "output_type": "display_data"
    },
    {
     "name": "stdout",
     "output_type": "stream",
     "text": [
      "Line 26 textsize small\n"
     ]
    },
    {
     "data": {
      "image/png": "[encoded data removed]",
      "text/plain": [
       "<syrocr.images.Im at 0x7f2987780550>"
      ]
     },
     "metadata": {},
     "output_type": "display_data"
    },
    {
     "name": "stdout",
     "output_type": "stream",
     "text": [
      "Line 27 textsize small\n"
     ]
    },
    {
     "data": {
      "image/png": "[encoded data removed]",
      "text/plain": [
       "<syrocr.images.Im at 0x7f29877808d0>"
      ]
     },
     "metadata": {},
     "output_type": "display_data"
    },
    {
     "name": "stdout",
     "output_type": "stream",
     "text": [
      "Line 28 textsize small\n"
     ]
    },
    {
     "data": {
      "image/png": "[encoded data removed]",
      "text/plain": [
       "<syrocr.images.Im at 0x7f298772e860>"
      ]
     },
     "metadata": {},
     "output_type": "display_data"
    },
    {
     "name": "stdout",
     "output_type": "stream",
     "text": [
      "Line 29 textsize small\n"
     ]
    },
    {
     "data": {
      "image/png": "[encoded data removed]",
      "text/plain": [
       "<syrocr.images.Im at 0x7f29877804a8>"
      ]
     },
     "metadata": {},
     "output_type": "display_data"
    },
    {
     "name": "stdout",
     "output_type": "stream",
     "text": [
      "Line 30 textsize small\n"
     ]
    },
    {
     "data": {
      "image/png": "[encoded data removed]",
      "text/plain": [
       "<syrocr.images.Im at 0x7f29874c8668>"
      ]
     },
     "metadata": {},
     "output_type": "display_data"
    },
    {
     "name": "stdout",
     "output_type": "stream",
     "text": [
      "Line 31 textsize small\n"
     ]
    },
    {
     "data": {
      "image/png": "[encoded data removed]",
      "text/plain": [
       "<syrocr.images.Im at 0x7f298772e9e8>"
      ]
     },
     "metadata": {},
     "output_type": "display_data"
    },
    {
     "name": "stdout",
     "output_type": "stream",
     "text": [
      "Line 32 textsize small\n"
     ]
    },
    {
     "data": {
      "image/png": "[encoded data removed]",
      "text/plain": [
       "<syrocr.images.Im at 0x7f29874c8630>"
      ]
     },
     "metadata": {},
     "output_type": "display_data"
    },
    {
     "name": "stdout",
     "output_type": "stream",
     "text": [
      "Line 33 textsize small\n"
     ]
    },
    {
     "data": {
      "image/png": "[encoded data removed]",
      "text/plain": [
       "<syrocr.images.Im at 0x7f2987780550>"
      ]
     },
     "metadata": {},
     "output_type": "display_data"
    },
    {
     "name": "stdout",
     "output_type": "stream",
     "text": [
      "Line 34 textsize small\n"
     ]
    },
    {
     "data": {
      "image/png": "[encoded data removed]",
      "text/plain": [
       "<syrocr.images.Im at 0x7f29874c8668>"
      ]
     },
     "metadata": {},
     "output_type": "display_data"
    },
    {
     "name": "stdout",
     "output_type": "stream",
     "text": [
      "Line 35 textsize small\n"
     ]
    },
    {
     "data": {
      "image/png": "[encoded data removed]",
      "text/plain": [
       "<syrocr.images.Im at 0x7f29874c8630>"
      ]
     },
     "metadata": {},
     "output_type": "display_data"
    },
    {
     "name": "stdout",
     "output_type": "stream",
     "text": [
      "Line 36 textsize small\n"
     ]
    },
    {
     "data": {
      "image/png": "[encoded data removed]",
      "text/plain": [
       "<syrocr.images.Im at 0x7f2987780550>"
      ]
     },
     "metadata": {},
     "output_type": "display_data"
    },
    {
     "name": "stdout",
     "output_type": "stream",
     "text": [
      "Line 37 textsize small\n"
     ]
    },
    {
     "data": {
      "image/png": "[encoded data removed]",
      "text/plain": [
       "<syrocr.images.Im at 0x7f29877804a8>"
      ]
     },
     "metadata": {},
     "output_type": "display_data"
    },
    {
     "name": "stdout",
     "output_type": "stream",
     "text": [
      "Line 38 textsize small\n"
     ]
    },
    {
     "data": {
      "image/png": "[encoded data removed]",
      "text/plain": [
       "<syrocr.images.Im at 0x7f2987780550>"
      ]
     },
     "metadata": {},
     "output_type": "display_data"
    },
    {
     "name": "stdout",
     "output_type": "stream",
     "text": [
      "Line 39 textsize small\n"
     ]
    },
    {
     "data": {
      "image/png": "[encoded data removed]",
      "text/plain": [
       "<syrocr.images.Im at 0x7f29877808d0>"
      ]
     },
     "metadata": {},
     "output_type": "display_data"
    },
    {
     "name": "stdout",
     "output_type": "stream",
     "text": [
      "Line 40 textsize small\n"
     ]
    },
    {
     "data": {
      "image/png": "[encoded data removed]",
      "text/plain": [
       "<syrocr.images.Im at 0x7f29874c8668>"
      ]
     },
     "metadata": {},
     "output_type": "display_data"
    },
    {
     "name": "stdout",
     "output_type": "stream",
     "text": [
      "Line 41 textsize small\n"
     ]
    },
    {
     "data": {
      "image/png": "[encoded data removed]",
      "text/plain": [
       "<syrocr.images.Im at 0x7f29877804a8>"
      ]
     },
     "metadata": {},
     "output_type": "display_data"
    },
    {
     "name": "stdout",
     "output_type": "stream",
     "text": [
      "Line 42 textsize small\n"
     ]
    },
    {
     "data": {
      "image/png": "[encoded data removed]",
      "text/plain": [
       "<syrocr.images.Im at 0x7f298772e9e8>"
      ]
     },
     "metadata": {},
     "output_type": "display_data"
    },
    {
     "name": "stdout",
     "output_type": "stream",
     "text": [
      "Line 43 textsize small\n"
     ]
    },
    {
     "data": {
      "image/png": "[encoded data removed]",
      "text/plain": [
       "<syrocr.images.Im at 0x7f29877804a8>"
      ]
     },
     "metadata": {},
     "output_type": "display_data"
    },
    {
     "name": "stdout",
     "output_type": "stream",
     "text": [
      "Line 44 textsize small\n"
     ]
    },
    {
     "data": {
      "image/png": "[encoded data removed]",
      "text/plain": [
       "<syrocr.images.Im at 0x7f2987780550>"
      ]
     },
     "metadata": {},
     "output_type": "display_data"
    },
    {
     "name": "stdout",
     "output_type": "stream",
     "text": [
      "Line 45 textsize small\n"
     ]
    },
    {
     "data": {
      "image/png": "[encoded data removed]",
      "text/plain": [
       "<syrocr.images.Im at 0x7f29877804a8>"
      ]
     },
     "metadata": {},
     "output_type": "display_data"
    },
    {
     "name": "stdout",
     "output_type": "stream",
     "text": [
      "Line 46 textsize small\n"
     ]
    },
    {
     "data": {
      "image/png": "[encoded data removed]",
      "text/plain": [
       "<syrocr.images.Im at 0x7f29877808d0>"
      ]
     },
     "metadata": {},
     "output_type": "display_data"
    },
    {
     "name": "stdout",
     "output_type": "stream",
     "text": [
      "Line 47 textsize small\n"
     ]
    },
    {
     "data": {
      "image/png": "[encoded data removed]",
      "text/plain": [
       "<syrocr.images.Im at 0x7f2987780550>"
      ]
     },
     "metadata": {},
     "output_type": "display_data"
    },
    {
     "name": "stdout",
     "output_type": "stream",
     "text": [
      "Line 48 textsize small\n"
     ]
    },
    {
     "data": {
      "image/png": "[encoded data removed]",
      "text/plain": [
       "<syrocr.images.Im at 0x7f299cb16dd8>"
      ]
     },
     "metadata": {},
     "output_type": "display_data"
    },
    {
     "name": "stdout",
     "output_type": "stream",
     "text": [
      "Line 1 textsize small\n"
     ]
    },
    {
     "data": {
      "image/png": "[encoded data removed]",
      "text/plain": [
       "<syrocr.images.Im at 0x7f29874c8f28>"
      ]
     },
     "metadata": {},
     "output_type": "display_data"
    },
    {
     "name": "stdout",
     "output_type": "stream",
     "text": [
      "Line 2 textsize small\n"
     ]
    },
    {
     "data": {
      "image/png": "[encoded data removed]",
      "text/plain": [
       "<syrocr.images.Im at 0x7f29874c8748>"
      ]
     },
     "metadata": {},
     "output_type": "display_data"
    },
    {
     "name": "stdout",
     "output_type": "stream",
     "text": [
      "Line 3 textsize small\n"
     ]
    },
    {
     "data": {
      "image/png": "[encoded data removed]",
      "text/plain": [
       "<syrocr.images.Im at 0x7f299cb16dd8>"
      ]
     },
     "metadata": {},
     "output_type": "display_data"
    },
    {
     "name": "stdout",
     "output_type": "stream",
     "text": [
      "Line 4 textsize small\n"
     ]
    },
    {
     "data": {
      "image/png": "[encoded data removed]",
      "text/plain": [
       "<syrocr.images.Im at 0x7f298771d710>"
      ]
     },
     "metadata": {},
     "output_type": "display_data"
    },
    {
     "name": "stdout",
     "output_type": "stream",
     "text": [
      "Line 5 textsize small\n"
     ]
    },
    {
     "data": {
      "image/png": "[encoded data removed]",
      "text/plain": [
       "<syrocr.images.Im at 0x7f298771d710>"
      ]
     },
     "metadata": {},
     "output_type": "display_data"
    },
    {
     "name": "stdout",
     "output_type": "stream",
     "text": [
      "Line 6 textsize small\n"
     ]
    },
    {
     "data": {
      "image/png": "[encoded data removed]",
      "text/plain": [
       "<syrocr.images.Im at 0x7f29874c8f28>"
      ]
     },
     "metadata": {},
     "output_type": "display_data"
    },
    {
     "name": "stdout",
     "output_type": "stream",
     "text": [
      "Line 7 textsize small\n"
     ]
    },
    {
     "data": {
      "image/png": "[encoded data removed]",
      "text/plain": [
       "<syrocr.images.Im at 0x7f29874c8748>"
      ]
     },
     "metadata": {},
     "output_type": "display_data"
    },
    {
     "name": "stdout",
     "output_type": "stream",
     "text": [
      "Line 8 textsize small\n"
     ]
    },
    {
     "data": {
      "image/png": "[encoded data removed]",
      "text/plain": [
       "<syrocr.images.Im at 0x7f298777d438>"
      ]
     },
     "metadata": {},
     "output_type": "display_data"
    },
    {
     "name": "stdout",
     "output_type": "stream",
     "text": [
      "Line 9 textsize small\n"
     ]
    },
    {
     "data": {
      "image/png": "[encoded data removed]",
      "text/plain": [
       "<syrocr.images.Im at 0x7f29874c8f60>"
      ]
     },
     "metadata": {},
     "output_type": "display_data"
    },
    {
     "name": "stdout",
     "output_type": "stream",
     "text": [
      "Line 10 textsize small\n"
     ]
    },
    {
     "data": {
      "image/png": "[encoded data removed]",
      "text/plain": [
       "<syrocr.images.Im at 0x7f298771d710>"
      ]
     },
     "metadata": {},
     "output_type": "display_data"
    },
    {
     "name": "stdout",
     "output_type": "stream",
     "text": [
      "Line 11 textsize small\n"
     ]
    },
    {
     "data": {
      "image/png": "[encoded data removed]",
      "text/plain": [
       "<syrocr.images.Im at 0x7f29874c8f28>"
      ]
     },
     "metadata": {},
     "output_type": "display_data"
    },
    {
     "name": "stdout",
     "output_type": "stream",
     "text": [
      "Line 12 textsize small\n"
     ]
    },
    {
     "data": {
      "image/png": "[encoded data removed]",
      "text/plain": [
       "<syrocr.images.Im at 0x7f29874c8748>"
      ]
     },
     "metadata": {},
     "output_type": "display_data"
    },
    {
     "name": "stdout",
     "output_type": "stream",
     "text": [
      "Line 13 textsize small\n"
     ]
    },
    {
     "data": {
      "image/png": "[encoded data removed]",
      "text/plain": [
       "<syrocr.images.Im at 0x7f299cb16dd8>"
      ]
     },
     "metadata": {},
     "output_type": "display_data"
    },
    {
     "name": "stdout",
     "output_type": "stream",
     "text": [
      "Line 14 textsize small\n"
     ]
    },
    {
     "data": {
      "image/png": "[encoded data removed]",
      "text/plain": [
       "<syrocr.images.Im at 0x7f29874c8f60>"
      ]
     },
     "metadata": {},
     "output_type": "display_data"
    },
    {
     "name": "stdout",
     "output_type": "stream",
     "text": [
      "Line 15 textsize small\n"
     ]
    },
    {
     "data": {
      "image/png": "[encoded data removed]",
      "text/plain": [
       "<syrocr.images.Im at 0x7f298771d710>"
      ]
     },
     "metadata": {},
     "output_type": "display_data"
    },
    {
     "name": "stdout",
     "output_type": "stream",
     "text": [
      "Line 16 textsize small\n"
     ]
    },
    {
     "data": {
      "image/png": "[encoded data removed]",
      "text/plain": [
       "<syrocr.images.Im at 0x7f2987776fd0>"
      ]
     },
     "metadata": {},
     "output_type": "display_data"
    },
    {
     "name": "stdout",
     "output_type": "stream",
     "text": [
      "Line 17 textsize small\n",
      "page mitchell2_test-05 line 17 character 7 id 449\n"
     ]
    },
    {
     "data": {
      "image/png": "[encoded data removed]",
      "text/plain": [
       "<PIL.Image.Image image mode=L size=11x20 at 0x7F298771D710>"
      ]
     },
     "metadata": {},
     "output_type": "display_data"
    },
    {
     "name": "stdout",
     "output_type": "stream",
     "text": [
      "+H\n",
      "{'tr': '+H', 'script': '', 'dist': None}\n",
      "page mitchell2_test-05 line 17 character 8 id 450\n"
     ]
    },
    {
     "data": {
      "image/png": "[encoded data removed]",
      "text/plain": [
       "<PIL.Image.Image image mode=L size=39x30 at 0x7F29874C8748>"
      ]
     },
     "metadata": {},
     "output_type": "display_data"
    },
    {
     "name": "stdout",
     "output_type": "stream",
     "text": [
      "yN\n",
      "{'tr': 'yN', 'script': '', 'dist': None}\n",
      "page mitchell2_test-05 line 17 character 9 id 451\n"
     ]
    },
    {
     "data": {
      "image/png": "[encoded data removed]",
      "text/plain": [
       "<PIL.Image.Image image mode=L size=15x25 at 0x7F298771D710>"
      ]
     },
     "metadata": {},
     "output_type": "display_data"
    },
    {
     "name": "stdout",
     "output_type": "stream",
     "text": [
      "z\n",
      "{'tr': 'z', 'script': '', 'dist': None}\n"
     ]
    },
    {
     "data": {
      "image/png": "[encoded data removed]",
      "text/plain": [
       "<syrocr.images.Im at 0x7f299cb16dd8>"
      ]
     },
     "metadata": {},
     "output_type": "display_data"
    },
    {
     "name": "stdout",
     "output_type": "stream",
     "text": [
      "Line 18 textsize small\n"
     ]
    },
    {
     "data": {
      "image/png": "[encoded data removed]",
      "text/plain": [
       "<syrocr.images.Im at 0x7f298772e630>"
      ]
     },
     "metadata": {},
     "output_type": "display_data"
    },
    {
     "name": "stdout",
     "output_type": "stream",
     "text": [
      "Line 19 textsize small\n",
      "page mitchell2_test-05 line 19 character 5 id 452\n"
     ]
    },
    {
     "data": {
      "image/png": "[encoded data removed]",
      "text/plain": [
       "<PIL.Image.Image image mode=L size=86x29 at 0x7F29874C8F28>"
      ]
     },
     "metadata": {},
     "output_type": "display_data"
    },
    {
     "name": "stdout",
     "output_type": "stream",
     "text": [
      "'\n",
      "{'tr': \"'\", 'script': '', 'dist': None}\n"
     ]
    },
    {
     "data": {
      "image/png": "[encoded data removed]",
      "text/plain": [
       "<syrocr.images.Im at 0x7f298771d710>"
      ]
     },
     "metadata": {},
     "output_type": "display_data"
    },
    {
     "name": "stdout",
     "output_type": "stream",
     "text": [
      "Line 20 textsize small\n",
      "page mitchell2_test-05 line 20 character 6 id 453\n"
     ]
    },
    {
     "data": {
      "image/png": "[encoded data removed]",
      "text/plain": [
       "<PIL.Image.Image image mode=L size=17x35 at 0x7F298772E630>"
      ]
     },
     "metadata": {},
     "output_type": "display_data"
    },
    {
     "name": "stdout",
     "output_type": "stream",
     "text": [
      "y\"\n",
      "{'tr': 'y\"', 'script': '', 'dist': None}\n",
      "page mitchell2_test-05 line 20 character 7 id 454\n"
     ]
    },
    {
     "data": {
      "image/png": "[encoded data removed]",
      "text/plain": [
       "<PIL.Image.Image image mode=L size=25x22 at 0x7F29874C8F60>"
      ]
     },
     "metadata": {},
     "output_type": "display_data"
    },
    {
     "name": "stdout",
     "output_type": "stream",
     "text": [
      "b\n",
      "{'tr': 'b', 'script': '', 'dist': None}\n",
      "page mitchell2_test-05 line 20 character 8 id 455\n"
     ]
    },
    {
     "data": {
      "image/png": "[encoded data removed]",
      "text/plain": [
       "<PIL.Image.Image image mode=L size=15x23 at 0x7F298772E630>"
      ]
     },
     "metadata": {},
     "output_type": "display_data"
    },
    {
     "name": "stdout",
     "output_type": "stream",
     "text": [
      "n\n",
      "{'tr': 'n', 'script': '', 'dist': None}\n"
     ]
    },
    {
     "data": {
      "image/png": "[encoded data removed]",
      "text/plain": [
       "<syrocr.images.Im at 0x7f2987776fd0>"
      ]
     },
     "metadata": {},
     "output_type": "display_data"
    },
    {
     "name": "stdout",
     "output_type": "stream",
     "text": [
      "Line 21 textsize small\n",
      "page mitchell2_test-05 line 21 character 2 id 456\n"
     ]
    },
    {
     "data": {
      "image/png": "[encoded data removed]",
      "text/plain": [
       "<PIL.Image.Image image mode=L size=151x22 at 0x7F29874C8F28>"
      ]
     },
     "metadata": {},
     "output_type": "display_data"
    },
    {
     "name": "stdout",
     "output_type": "stream",
     "text": [
      "msyk\n",
      "{'tr': 'msyk', 'script': '', 'dist': None}\n",
      "page mitchell2_test-05 line 21 character 6 id 457\n"
     ]
    },
    {
     "data": {
      "image/png": "[encoded data removed]",
      "text/plain": [
       "<PIL.Image.Image image mode=L size=19x49 at 0x7F29874C8F28>"
      ]
     },
     "metadata": {},
     "output_type": "display_data"
    },
    {
     "name": "stdout",
     "output_type": "stream",
     "text": [
      "d\n",
      "{'tr': 'd', 'script': '', 'dist': None}\n"
     ]
    },
    {
     "data": {
      "image/png": "[encoded data removed]",
      "text/plain": [
       "<syrocr.images.Im at 0x7f298777d438>"
      ]
     },
     "metadata": {},
     "output_type": "display_data"
    },
    {
     "name": "stdout",
     "output_type": "stream",
     "text": [
      "Line 22 textsize small\n",
      "page mitchell2_test-05 line 22 character 3 id 421\n"
     ]
    },
    {
     "data": {
      "image/png": "[encoded data removed]",
      "text/plain": [
       "<PIL.Image.Image image mode=L size=25x25 at 0x7F298771DBE0>"
      ]
     },
     "metadata": {},
     "output_type": "display_data"
    },
    {
     "name": "stdout",
     "output_type": "stream",
     "text": [
      "n\n",
      "{'tr': 'n', 'script': '', 'dist': None}\n",
      "page mitchell2_test-05 line 22 character 10 id 458\n"
     ]
    },
    {
     "data": {
      "image/png": "[encoded data removed]",
      "text/plain": [
       "<PIL.Image.Image image mode=L size=23x18 at 0x7F29874C8F28>"
      ]
     },
     "metadata": {},
     "output_type": "display_data"
    },
    {
     "name": "stdout",
     "output_type": "stream",
     "text": [
      "q\n",
      "{'tr': 'q', 'script': '', 'dist': None}\n"
     ]
    },
    {
     "data": {
      "image/png": "[encoded data removed]",
      "text/plain": [
       "<syrocr.images.Im at 0x7f2987776fd0>"
      ]
     },
     "metadata": {},
     "output_type": "display_data"
    },
    {
     "name": "stdout",
     "output_type": "stream",
     "text": [
      "Line 23 textsize small\n",
      "page mitchell2_test-05 line 23 character 9 id 459\n"
     ]
    },
    {
     "data": {
      "image/png": "[encoded data removed]",
      "text/plain": [
       "<PIL.Image.Image image mode=L size=24x50 at 0x7F29874C8748>"
      ]
     },
     "metadata": {},
     "output_type": "display_data"
    },
    {
     "name": "stdout",
     "output_type": "stream",
     "text": [
      "w\n",
      "{'tr': 'w', 'script': '', 'dist': None}\n"
     ]
    },
    {
     "data": {
      "image/png": "[encoded data removed]",
      "text/plain": [
       "<syrocr.images.Im at 0x7f29874c8f28>"
      ]
     },
     "metadata": {},
     "output_type": "display_data"
    },
    {
     "name": "stdout",
     "output_type": "stream",
     "text": [
      "Line 24 textsize small\n",
      "page mitchell2_test-05 line 24 character 2 id 460\n"
     ]
    },
    {
     "data": {
      "image/png": "[encoded data removed]",
      "text/plain": [
       "<PIL.Image.Image image mode=L size=44x24 at 0x7F29874C8748>"
      ]
     },
     "metadata": {},
     "output_type": "display_data"
    },
    {
     "name": "stdout",
     "output_type": "stream",
     "text": [
      "w\n",
      "{'tr': 'w', 'script': '', 'dist': None}\n",
      "page mitchell2_test-05 line 24 character 5 id 461\n"
     ]
    },
    {
     "data": {
      "image/png": "[encoded data removed]",
      "text/plain": [
       "<PIL.Image.Image image mode=L size=31x29 at 0x7F29874C8F60>"
      ]
     },
     "metadata": {},
     "output_type": "display_data"
    },
    {
     "name": "stdout",
     "output_type": "stream",
     "text": [
      "N\n",
      "{'tr': 'N', 'script': '', 'dist': None}\n"
     ]
    },
    {
     "data": {
      "image/png": "[encoded data removed]",
      "text/plain": [
       "<syrocr.images.Im at 0x7f298771dbe0>"
      ]
     },
     "metadata": {},
     "output_type": "display_data"
    },
    {
     "name": "stdout",
     "output_type": "stream",
     "text": [
      "Line 25 textsize small\n",
      "page mitchell2_test-05 line 25 character 9 id 462\n"
     ]
    },
    {
     "data": {
      "image/png": "[encoded data removed]",
      "text/plain": [
       "<PIL.Image.Image image mode=L size=109x23 at 0x7F29874C8F60>"
      ]
     },
     "metadata": {},
     "output_type": "display_data"
    },
    {
     "name": "stdout",
     "output_type": "stream",
     "text": [
      "yqw\n",
      "{'tr': 'yqw', 'script': '', 'dist': None}\n"
     ]
    },
    {
     "data": {
      "image/png": "[encoded data removed]",
      "text/plain": [
       "<syrocr.images.Im at 0x7f298772e630>"
      ]
     },
     "metadata": {},
     "output_type": "display_data"
    },
    {
     "name": "stdout",
     "output_type": "stream",
     "text": [
      "Line 26 textsize small\n",
      "page mitchell2_test-05 line 26 character 0 id 463\n"
     ]
    },
    {
     "data": {
      "image/png": "[encoded data removed]",
      "text/plain": [
       "<PIL.Image.Image image mode=L size=27x25 at 0x7F2987776FD0>"
      ]
     },
     "metadata": {},
     "output_type": "display_data"
    },
    {
     "name": "stdout",
     "output_type": "stream",
     "text": [
      "N\n",
      "{'tr': 'N', 'script': '', 'dist': None}\n",
      "page mitchell2_test-05 line 26 character 4 id 464\n"
     ]
    },
    {
     "data": {
      "image/png": "[encoded data removed]",
      "text/plain": [
       "<PIL.Image.Image image mode=L size=53x21 at 0x7F29874C8F60>"
      ]
     },
     "metadata": {},
     "output_type": "display_data"
    },
    {
     "name": "stdout",
     "output_type": "stream",
     "text": [
      "b\n",
      "{'tr': 'b', 'script': '', 'dist': None}\n",
      "page mitchell2_test-05 line 26 character 6 id 465\n"
     ]
    },
    {
     "data": {
      "image/png": "[encoded data removed]",
      "text/plain": [
       "<PIL.Image.Image image mode=L size=57x21 at 0x7F29874C8F28>"
      ]
     },
     "metadata": {},
     "output_type": "display_data"
    },
    {
     "name": "stdout",
     "output_type": "stream",
     "text": [
      "b\n",
      "{'tr': 'b', 'script': '', 'dist': None}\n"
     ]
    },
    {
     "data": {
      "image/png": "[encoded data removed]",
      "text/plain": [
       "<syrocr.images.Im at 0x7f298777d438>"
      ]
     },
     "metadata": {},
     "output_type": "display_data"
    },
    {
     "name": "stdout",
     "output_type": "stream",
     "text": [
      "Line 27 textsize small\n",
      "page mitchell2_test-05 line 27 character 5 id 466\n"
     ]
    },
    {
     "data": {
      "image/png": "[encoded data removed]",
      "text/plain": [
       "<PIL.Image.Image image mode=L size=82x27 at 0x7F29874C8F60>"
      ]
     },
     "metadata": {},
     "output_type": "display_data"
    },
    {
     "name": "stdout",
     "output_type": "stream",
     "text": [
      "n'\n",
      "{'tr': \"n'\", 'script': '', 'dist': None}\n",
      "page mitchell2_test-05 line 27 character 6 id 467\n"
     ]
    },
    {
     "data": {
      "image/png": "[encoded data removed]",
      "text/plain": [
       "<PIL.Image.Image image mode=L size=91x37 at 0x7F29874C8748>"
      ]
     },
     "metadata": {},
     "output_type": "display_data"
    },
    {
     "name": "stdout",
     "output_type": "stream",
     "text": [
      "Hr\n",
      "{'tr': 'Hr', 'script': '', 'dist': None}\n"
     ]
    },
    {
     "data": {
      "image/png": "[encoded data removed]",
      "text/plain": [
       "<syrocr.images.Im at 0x7f2987776fd0>"
      ]
     },
     "metadata": {},
     "output_type": "display_data"
    },
    {
     "name": "stdout",
     "output_type": "stream",
     "text": [
      "Line 28 textsize small\n",
      "page mitchell2_test-05 line 28 character 3 id 468\n"
     ]
    },
    {
     "data": {
      "image/png": "[encoded data removed]",
      "text/plain": [
       "<PIL.Image.Image image mode=L size=47x30 at 0x7F29874C8F28>"
      ]
     },
     "metadata": {},
     "output_type": "display_data"
    },
    {
     "name": "stdout",
     "output_type": "stream",
     "text": [
      "'\n",
      "{'tr': \"'\", 'script': '', 'dist': None}\n",
      "page mitchell2_test-05 line 28 character 4 id 469\n"
     ]
    },
    {
     "data": {
      "image/png": "[encoded data removed]",
      "text/plain": [
       "<PIL.Image.Image image mode=L size=105x43 at 0x7F29874C8F28>"
      ]
     },
     "metadata": {},
     "output_type": "display_data"
    },
    {
     "name": "stdout",
     "output_type": "stream",
     "text": [
      "mg\n",
      "{'tr': 'mg', 'script': '', 'dist': None}\n",
      "page mitchell2_test-05 line 28 character 6 id 470\n"
     ]
    },
    {
     "data": {
      "image/png": "[encoded data removed]",
      "text/plain": [
       "<PIL.Image.Image image mode=L size=133x39 at 0x7F298771DBE0>"
      ]
     },
     "metadata": {},
     "output_type": "display_data"
    },
    {
     "name": "stdout",
     "output_type": "stream",
     "text": [
      "HnN\n",
      "{'tr': 'HnN', 'script': '', 'dist': None}\n"
     ]
    },
    {
     "data": {
      "image/png": "[encoded data removed]",
      "text/plain": [
       "<syrocr.images.Im at 0x7f298777d438>"
      ]
     },
     "metadata": {},
     "output_type": "display_data"
    },
    {
     "name": "stdout",
     "output_type": "stream",
     "text": [
      "Line 29 textsize small\n",
      "page mitchell2_test-05 line 29 character 1 id 471\n"
     ]
    },
    {
     "data": {
      "image/png": "[encoded data removed]",
      "text/plain": [
       "<PIL.Image.Image image mode=L size=40x23 at 0x7F29874C8F60>"
      ]
     },
     "metadata": {},
     "output_type": "display_data"
    },
    {
     "name": "stdout",
     "output_type": "stream",
     "text": [
      "d\n",
      "{'tr': 'd', 'script': '', 'dist': None}\n",
      "page mitchell2_test-05 line 29 character 5 id 472\n"
     ]
    },
    {
     "data": {
      "image/png": "[encoded data removed]",
      "text/plain": [
       "<PIL.Image.Image image mode=L size=82x41 at 0x7F298771DBE0>"
      ]
     },
     "metadata": {},
     "output_type": "display_data"
    },
    {
     "name": "stdout",
     "output_type": "stream",
     "text": [
      "l'\n",
      "{'tr': \"l'\", 'script': '', 'dist': None}\n",
      "page mitchell2_test-05 line 29 character 6 id 473\n"
     ]
    },
    {
     "data": {
      "image/png": "[encoded data removed]",
      "text/plain": [
       "<PIL.Image.Image image mode=L size=93x34 at 0x7F29874C8F60>"
      ]
     },
     "metadata": {},
     "output_type": "display_data"
    },
    {
     "name": "stdout",
     "output_type": "stream",
     "text": [
      "`w\"\n",
      "{'tr': '`w\"', 'script': '', 'dist': None}\n"
     ]
    },
    {
     "data": {
      "image/png": "[encoded data removed]",
      "text/plain": [
       "<syrocr.images.Im at 0x7f299cb16dd8>"
      ]
     },
     "metadata": {},
     "output_type": "display_data"
    },
    {
     "name": "stdout",
     "output_type": "stream",
     "text": [
      "Line 30 textsize small\n",
      "page mitchell2_test-05 line 30 character 2 id 474\n"
     ]
    },
    {
     "data": {
      "image/png": "[encoded data removed]",
      "text/plain": [
       "<PIL.Image.Image image mode=L size=32x20 at 0x7F298771D710>"
      ]
     },
     "metadata": {},
     "output_type": "display_data"
    },
    {
     "name": "stdout",
     "output_type": "stream",
     "text": [
      "H\n",
      "{'tr': 'H', 'script': '', 'dist': None}\n",
      "page mitchell2_test-05 line 30 character 3 id 475\n"
     ]
    },
    {
     "data": {
      "image/png": "[encoded data removed]",
      "text/plain": [
       "<PIL.Image.Image image mode=L size=37x23 at 0x7F29874C8F28>"
      ]
     },
     "metadata": {},
     "output_type": "display_data"
    },
    {
     "name": "stdout",
     "output_type": "stream",
     "text": [
      "k\n",
      "{'tr': 'k', 'script': '', 'dist': None}\n",
      "page mitchell2_test-05 line 30 character 9 id 476\n"
     ]
    },
    {
     "data": {
      "image/png": "[encoded data removed]",
      "text/plain": [
       "<PIL.Image.Image image mode=L size=46x37 at 0x7F298771D710>"
      ]
     },
     "metadata": {},
     "output_type": "display_data"
    },
    {
     "name": "stdout",
     "output_type": "stream",
     "text": [
      "t\n",
      "{'tr': 't', 'script': '', 'dist': None}\n",
      "page mitchell2_test-05 line 30 character 12 id 477\n"
     ]
    },
    {
     "data": {
      "image/png": "[encoded data removed]",
      "text/plain": [
       "<PIL.Image.Image image mode=L size=41x21 at 0x7F298772E630>"
      ]
     },
     "metadata": {},
     "output_type": "display_data"
    },
    {
     "name": "stdout",
     "output_type": "stream",
     "text": [
      "b\n",
      "{'tr': 'b', 'script': '', 'dist': None}\n"
     ]
    },
    {
     "data": {
      "image/png": "[encoded data removed]",
      "text/plain": [
       "<syrocr.images.Im at 0x7f298777d438>"
      ]
     },
     "metadata": {},
     "output_type": "display_data"
    },
    {
     "name": "stdout",
     "output_type": "stream",
     "text": [
      "Line 31 textsize small\n",
      "page mitchell2_test-05 line 31 character 2 id 478\n"
     ]
    },
    {
     "data": {
      "image/png": "[encoded data removed]",
      "text/plain": [
       "<PIL.Image.Image image mode=L size=38x55 at 0x7F298772E630>"
      ]
     },
     "metadata": {},
     "output_type": "display_data"
    },
    {
     "name": "stdout",
     "output_type": "stream",
     "text": [
      "T\n",
      "{'tr': 'T', 'script': '', 'dist': None}\n",
      "page mitchell2_test-05 line 31 character 3 id 479\n"
     ]
    },
    {
     "data": {
      "image/png": "[encoded data removed]",
      "text/plain": [
       "<PIL.Image.Image image mode=L size=51x18 at 0x7F29874C8748>"
      ]
     },
     "metadata": {},
     "output_type": "display_data"
    },
    {
     "name": "stdout",
     "output_type": "stream",
     "text": [
      "y\n",
      "{'tr': 'y', 'script': '', 'dist': None}\n",
      "page mitchell2_test-05 line 31 character 6 id 480\n"
     ]
    },
    {
     "data": {
      "image/png": "[encoded data removed]",
      "text/plain": [
       "<PIL.Image.Image image mode=L size=68x36 at 0x7F298772E630>"
      ]
     },
     "metadata": {},
     "output_type": "display_data"
    },
    {
     "name": "stdout",
     "output_type": "stream",
     "text": [
      "yt\n",
      "{'tr': 'yt', 'script': '', 'dist': None}\n"
     ]
    },
    {
     "data": {
      "image/png": "[encoded data removed]",
      "text/plain": [
       "<syrocr.images.Im at 0x7f299cb16dd8>"
      ]
     },
     "metadata": {},
     "output_type": "display_data"
    },
    {
     "name": "stdout",
     "output_type": "stream",
     "text": [
      "Line 32 textsize small\n",
      "page mitchell2_test-05 line 32 character 6 id 481\n"
     ]
    },
    {
     "data": {
      "image/png": "[encoded data removed]",
      "text/plain": [
       "<PIL.Image.Image image mode=L size=163x34 at 0x7F29874C8F60>"
      ]
     },
     "metadata": {},
     "output_type": "display_data"
    },
    {
     "name": "stdout",
     "output_type": "stream",
     "text": [
      "by$\"'\n",
      "{'tr': 'by$\"\\'', 'script': '', 'dist': None}\n",
      "page mitchell2_test-05 line 32 character 7 id 482\n"
     ]
    },
    {
     "data": {
      "image/png": "[encoded data removed]",
      "text/plain": [
       "<PIL.Image.Image image mode=L size=58x23 at 0x7F29874C8F60>"
      ]
     },
     "metadata": {},
     "output_type": "display_data"
    },
    {
     "name": "stdout",
     "output_type": "stream",
     "text": [
      "yd\n",
      "{'tr': 'yd', 'script': '', 'dist': None}\n"
     ]
    },
    {
     "data": {
      "image/png": "[encoded data removed]",
      "text/plain": [
       "<syrocr.images.Im at 0x7f298771dbe0>"
      ]
     },
     "metadata": {},
     "output_type": "display_data"
    },
    {
     "name": "stdout",
     "output_type": "stream",
     "text": [
      "Line 33 textsize small\n",
      "page mitchell2_test-05 line 33 character 3 id 483\n"
     ]
    },
    {
     "data": {
      "image/png": "[encoded data removed]",
      "text/plain": [
       "<PIL.Image.Image image mode=L size=28x15 at 0x7F29874C8748>"
      ]
     },
     "metadata": {},
     "output_type": "display_data"
    },
    {
     "name": "stdout",
     "output_type": "stream",
     "text": [
      "y\n",
      "{'tr': 'y', 'script': '', 'dist': None}\n",
      "page mitchell2_test-05 line 33 character 5 id 484\n"
     ]
    },
    {
     "data": {
      "image/png": "[encoded data removed]",
      "text/plain": [
       "<PIL.Image.Image image mode=L size=53x24 at 0x7F29874C8748>"
      ]
     },
     "metadata": {},
     "output_type": "display_data"
    },
    {
     "name": "stdout",
     "output_type": "stream",
     "text": [
      "yd\n",
      "{'tr': 'yd', 'script': '', 'dist': None}\n",
      "page mitchell2_test-05 line 33 character 8 id 485\n"
     ]
    },
    {
     "data": {
      "image/png": "[encoded data removed]",
      "text/plain": [
       "<PIL.Image.Image image mode=L size=63x36 at 0x7F29874C8F28>"
      ]
     },
     "metadata": {},
     "output_type": "display_data"
    },
    {
     "name": "stdout",
     "output_type": "stream",
     "text": [
      "Hr\n",
      "{'tr': 'Hr', 'script': '', 'dist': None}\n"
     ]
    },
    {
     "data": {
      "image/png": "[encoded data removed]",
      "text/plain": [
       "<syrocr.images.Im at 0x7f298777d438>"
      ]
     },
     "metadata": {},
     "output_type": "display_data"
    },
    {
     "name": "stdout",
     "output_type": "stream",
     "text": [
      "Line 34 textsize small\n",
      "page mitchell2_test-05 line 34 character 6 id 486\n"
     ]
    },
    {
     "data": {
      "image/png": "[encoded data removed]",
      "text/plain": [
       "<PIL.Image.Image image mode=L size=48x14 at 0x7F29874C8748>"
      ]
     },
     "metadata": {},
     "output_type": "display_data"
    },
    {
     "name": "stdout",
     "output_type": "stream",
     "text": [
      "y\n",
      "{'tr': 'y', 'script': '', 'dist': None}\n"
     ]
    },
    {
     "data": {
      "image/png": "[encoded data removed]",
      "text/plain": [
       "<syrocr.images.Im at 0x7f298771d710>"
      ]
     },
     "metadata": {},
     "output_type": "display_data"
    },
    {
     "name": "stdout",
     "output_type": "stream",
     "text": [
      "Line 35 textsize small\n",
      "page mitchell2_test-05 line 35 character 0 id 487\n"
     ]
    },
    {
     "data": {
      "image/png": "[encoded data removed]",
      "text/plain": [
       "<PIL.Image.Image image mode=L size=26x21 at 0x7F29874C8F60>"
      ]
     },
     "metadata": {},
     "output_type": "display_data"
    },
    {
     "name": "stdout",
     "output_type": "stream",
     "text": [
      "\n",
      "{'tr': '', 'script': '', 'dist': None}\n",
      "page mitchell2_test-05 line 35 character 1 id 488\n"
     ]
    },
    {
     "data": {
      "image/png": "[encoded data removed]",
      "text/plain": [
       "<PIL.Image.Image image mode=L size=13x12 at 0x7F29874C8F60>"
      ]
     },
     "metadata": {},
     "output_type": "display_data"
    },
    {
     "name": "stdout",
     "output_type": "stream",
     "text": [
      "\n",
      "{'tr': '', 'script': '', 'dist': None}\n",
      "page mitchell2_test-05 line 35 character 5 id 489\n"
     ]
    },
    {
     "data": {
      "image/png": "[encoded data removed]",
      "text/plain": [
       "<PIL.Image.Image image mode=L size=34x41 at 0x7F29874C8F28>"
      ]
     },
     "metadata": {},
     "output_type": "display_data"
    },
    {
     "name": "stdout",
     "output_type": "stream",
     "text": [
      "ln\n",
      "{'tr': 'ln', 'script': '', 'dist': None}\n",
      "page mitchell2_test-05 line 35 character 13 id 490\n"
     ]
    },
    {
     "data": {
      "image/png": "[encoded data removed]",
      "text/plain": [
       "<PIL.Image.Image image mode=L size=17x12 at 0x7F29874C8F28>"
      ]
     },
     "metadata": {},
     "output_type": "display_data"
    },
    {
     "name": "stdout",
     "output_type": "stream",
     "text": [
      "*\n",
      "{'tr': '*', 'script': '', 'dist': None}\n"
     ]
    },
    {
     "data": {
      "image/png": "[encoded data removed]",
      "text/plain": [
       "<syrocr.images.Im at 0x7f298772e5c0>"
      ]
     },
     "metadata": {},
     "output_type": "display_data"
    },
    {
     "name": "stdout",
     "output_type": "stream",
     "text": [
      "Line 36 textsize small\n",
      "page mitchell2_test-05 line 36 character 7 id 491\n"
     ]
    },
    {
     "data": {
      "image/png": "[encoded data removed]",
      "text/plain": [
       "<PIL.Image.Image image mode=L size=52x23 at 0x7F298777D438>"
      ]
     },
     "metadata": {},
     "output_type": "display_data"
    },
    {
     "name": "stdout",
     "output_type": "stream",
     "text": [
      "nw\n",
      "{'tr': 'nw', 'script': '', 'dist': None}\n",
      "page mitchell2_test-05 line 36 character 8 id 492\n"
     ]
    },
    {
     "data": {
      "image/png": "[encoded data removed]",
      "text/plain": [
       "<PIL.Image.Image image mode=L size=54x50 at 0x7F29874C8F28>"
      ]
     },
     "metadata": {},
     "output_type": "display_data"
    },
    {
     "name": "stdout",
     "output_type": "stream",
     "text": [
      "qd\n",
      "{'tr': 'qd', 'script': '', 'dist': None}\n",
      "page mitchell2_test-05 line 36 character 9 id 493\n"
     ]
    },
    {
     "data": {
      "image/png": "[encoded data removed]",
      "text/plain": [
       "<PIL.Image.Image image mode=L size=66x48 at 0x7F29874C8F28>"
      ]
     },
     "metadata": {},
     "output_type": "display_data"
    },
    {
     "name": "stdout",
     "output_type": "stream",
     "text": [
      "pw\n",
      "{'tr': 'pw', 'script': '', 'dist': None}\n"
     ]
    },
    {
     "data": {
      "image/png": "[encoded data removed]",
      "text/plain": [
       "<syrocr.images.Im at 0x7f298771dbe0>"
      ]
     },
     "metadata": {},
     "output_type": "display_data"
    },
    {
     "name": "stdout",
     "output_type": "stream",
     "text": [
      "Line 37 textsize small\n",
      "page mitchell2_test-05 line 37 character 0 id 494\n"
     ]
    },
    {
     "data": {
      "image/png": "[encoded data removed]",
      "text/plain": [
       "<PIL.Image.Image image mode=L size=71x31 at 0x7F29874C8F28>"
      ]
     },
     "metadata": {},
     "output_type": "display_data"
    },
    {
     "name": "stdout",
     "output_type": "stream",
     "text": [
      "yN\n",
      "{'tr': 'yN', 'script': '', 'dist': None}\n",
      "page mitchell2_test-05 line 37 character 3 id 495\n"
     ]
    },
    {
     "data": {
      "image/png": "[encoded data removed]",
      "text/plain": [
       "<PIL.Image.Image image mode=L size=107x23 at 0x7F298772E630>"
      ]
     },
     "metadata": {},
     "output_type": "display_data"
    },
    {
     "name": "stdout",
     "output_type": "stream",
     "text": [
      "Hd\n",
      "{'tr': 'Hd', 'script': '', 'dist': None}\n"
     ]
    },
    {
     "data": {
      "image/png": "[encoded data removed]",
      "text/plain": [
       "<syrocr.images.Im at 0x7f298772e5c0>"
      ]
     },
     "metadata": {},
     "output_type": "display_data"
    },
    {
     "name": "stdout",
     "output_type": "stream",
     "text": [
      "Line 38 textsize small\n",
      "page mitchell2_test-05 line 38 character 6 id 496\n"
     ]
    },
    {
     "data": {
      "image/png": "[encoded data removed]",
      "text/plain": [
       "<PIL.Image.Image image mode=L size=29x15 at 0x7F29874C8F28>"
      ]
     },
     "metadata": {},
     "output_type": "display_data"
    },
    {
     "name": "stdout",
     "output_type": "stream",
     "text": [
      "N+\n",
      "{'tr': 'N+', 'script': '', 'dist': None}\n",
      "page mitchell2_test-05 line 38 character 7 id 497\n"
     ]
    },
    {
     "data": {
      "image/png": "[encoded data removed]",
      "text/plain": [
       "<PIL.Image.Image image mode=L size=30x11 at 0x7F29874C8F60>"
      ]
     },
     "metadata": {},
     "output_type": "display_data"
    },
    {
     "name": "stdout",
     "output_type": "stream",
     "text": [
      "+N\n",
      "{'tr': '+N', 'script': '', 'dist': None}\n",
      "page mitchell2_test-05 line 38 character 9 id 498\n"
     ]
    },
    {
     "data": {
      "image/png": "[encoded data removed]",
      "text/plain": [
       "<PIL.Image.Image image mode=L size=87x41 at 0x7F298772E5C0>"
      ]
     },
     "metadata": {},
     "output_type": "display_data"
    },
    {
     "name": "stdout",
     "output_type": "stream",
     "text": [
      "lh\n",
      "{'tr': 'lh', 'script': '', 'dist': None}\n"
     ]
    },
    {
     "data": {
      "image/png": "[encoded data removed]",
      "text/plain": [
       "<syrocr.images.Im at 0x7f299cb16dd8>"
      ]
     },
     "metadata": {},
     "output_type": "display_data"
    },
    {
     "name": "stdout",
     "output_type": "stream",
     "text": [
      "Line 39 textsize small\n",
      "page mitchell2_test-05 line 39 character 2 id 499\n"
     ]
    },
    {
     "data": {
      "image/png": "[encoded data removed]",
      "text/plain": [
       "<PIL.Image.Image image mode=L size=27x36 at 0x7F298772E630>"
      ]
     },
     "metadata": {},
     "output_type": "display_data"
    },
    {
     "name": "stdout",
     "output_type": "stream",
     "text": [
      "w\"\n",
      "{'tr': 'w\"', 'script': '', 'dist': None}\n",
      "page mitchell2_test-05 line 39 character 7 id 500\n"
     ]
    },
    {
     "data": {
      "image/png": "[encoded data removed]",
      "text/plain": [
       "<PIL.Image.Image image mode=L size=39x29 at 0x7F298771D710>"
      ]
     },
     "metadata": {},
     "output_type": "display_data"
    },
    {
     "name": "stdout",
     "output_type": "stream",
     "text": [
      "m\n",
      "{'tr': 'm', 'script': '', 'dist': None}\n"
     ]
    },
    {
     "data": {
      "image/png": "[encoded data removed]",
      "text/plain": [
       "<syrocr.images.Im at 0x7f298777d438>"
      ]
     },
     "metadata": {},
     "output_type": "display_data"
    },
    {
     "name": "stdout",
     "output_type": "stream",
     "text": [
      "Line 40 textsize small\n",
      "page mitchell2_test-05 line 40 character 0 id 501\n"
     ]
    },
    {
     "data": {
      "image/png": "[encoded data removed]",
      "text/plain": [
       "<PIL.Image.Image image mode=L size=27x21 at 0x7F298771DBE0>"
      ]
     },
     "metadata": {},
     "output_type": "display_data"
    },
    {
     "name": "stdout",
     "output_type": "stream",
     "text": [
      "\n",
      "{'tr': '', 'script': '', 'dist': None}\n",
      "page mitchell2_test-05 line 40 character 5 id 502\n"
     ]
    },
    {
     "data": {
      "image/png": "[encoded data removed]",
      "text/plain": [
       "<PIL.Image.Image image mode=L size=61x36 at 0x7F2987744E10>"
      ]
     },
     "metadata": {},
     "output_type": "display_data"
    },
    {
     "name": "stdout",
     "output_type": "stream",
     "text": [
      "nt\n",
      "{'tr': 'nt', 'script': '', 'dist': None}\n",
      "page mitchell2_test-05 line 40 character 7 id 503\n"
     ]
    },
    {
     "data": {
      "image/png": "[encoded data removed]",
      "text/plain": [
       "<PIL.Image.Image image mode=L size=110x57 at 0x7F298771D710>"
      ]
     },
     "metadata": {},
     "output_type": "display_data"
    },
    {
     "name": "stdout",
     "output_type": "stream",
     "text": [
      "lyT\n",
      "{'tr': 'lyT', 'script': '', 'dist': None}\n"
     ]
    },
    {
     "data": {
      "image/png": "[encoded data removed]",
      "text/plain": [
       "<syrocr.images.Im at 0x7f299cb16dd8>"
      ]
     },
     "metadata": {},
     "output_type": "display_data"
    },
    {
     "name": "stdout",
     "output_type": "stream",
     "text": [
      "Line 41 textsize small\n",
      "page mitchell2_test-05 line 41 character 12 id 504\n"
     ]
    },
    {
     "data": {
      "image/png": "[encoded data removed]",
      "text/plain": [
       "<PIL.Image.Image image mode=L size=51x21 at 0x7F298771DBE0>"
      ]
     },
     "metadata": {},
     "output_type": "display_data"
    },
    {
     "name": "stdout",
     "output_type": "stream",
     "text": [
      "bk\n",
      "{'tr': 'bk', 'script': '', 'dist': None}\n"
     ]
    },
    {
     "data": {
      "image/png": "[encoded data removed]",
      "text/plain": [
       "<syrocr.images.Im at 0x7f298777d438>"
      ]
     },
     "metadata": {},
     "output_type": "display_data"
    },
    {
     "name": "stdout",
     "output_type": "stream",
     "text": [
      "Line 42 textsize small\n",
      "page mitchell2_test-05 line 42 character 0 id 505\n"
     ]
    },
    {
     "data": {
      "image/png": "[encoded data removed]",
      "text/plain": [
       "<PIL.Image.Image image mode=L size=59x56 at 0x7F298771D710>"
      ]
     },
     "metadata": {},
     "output_type": "display_data"
    },
    {
     "name": "stdout",
     "output_type": "stream",
     "text": [
      "K\n",
      "{'tr': 'K', 'script': '', 'dist': None}\n",
      "page mitchell2_test-05 line 42 character 1 id 506\n"
     ]
    },
    {
     "data": {
      "image/png": "[encoded data removed]",
      "text/plain": [
       "<PIL.Image.Image image mode=L size=129x25 at 0x7F298772E630>"
      ]
     },
     "metadata": {},
     "output_type": "display_data"
    },
    {
     "name": "stdout",
     "output_type": "stream",
     "text": [
      "mbD?\n",
      "{'tr': 'mbD?', 'script': '', 'dist': None}\n",
      "page mitchell2_test-05 line 42 character 6 id 507\n"
     ]
    },
    {
     "data": {
      "image/png": "[encoded data removed]",
      "text/plain": [
       "<PIL.Image.Image image mode=L size=47x56 at 0x7F298771DBE0>"
      ]
     },
     "metadata": {},
     "output_type": "display_data"
    },
    {
     "name": "stdout",
     "output_type": "stream",
     "text": [
      "T\n",
      "{'tr': 'T', 'script': '', 'dist': None}\n"
     ]
    },
    {
     "data": {
      "image/png": "[encoded data removed]",
      "text/plain": [
       "<syrocr.images.Im at 0x7f299cb16dd8>"
      ]
     },
     "metadata": {},
     "output_type": "display_data"
    },
    {
     "name": "stdout",
     "output_type": "stream",
     "text": [
      "Line 43 textsize small\n",
      "page mitchell2_test-05 line 43 character 8 id 508\n"
     ]
    },
    {
     "data": {
      "image/png": "[encoded data removed]",
      "text/plain": [
       "<PIL.Image.Image image mode=L size=64x61 at 0x7F2987744E80>"
      ]
     },
     "metadata": {},
     "output_type": "display_data"
    },
    {
     "name": "stdout",
     "output_type": "stream",
     "text": [
      "K\n",
      "{'tr': 'K', 'script': '', 'dist': None}\n"
     ]
    },
    {
     "data": {
      "image/png": "[encoded data removed]",
      "text/plain": [
       "<syrocr.images.Im at 0x7f298771dbe0>"
      ]
     },
     "metadata": {},
     "output_type": "display_data"
    },
    {
     "name": "stdout",
     "output_type": "stream",
     "text": [
      "Line 44 textsize small\n",
      "page mitchell2_test-05 line 44 character 7 id 509\n"
     ]
    },
    {
     "data": {
      "image/png": "[encoded data removed]",
      "text/plain": [
       "<PIL.Image.Image image mode=L size=55x23 at 0x7F298772E630>"
      ]
     },
     "metadata": {},
     "output_type": "display_data"
    },
    {
     "name": "stdout",
     "output_type": "stream",
     "text": [
      "d\n",
      "{'tr': 'd', 'script': '', 'dist': None}\n"
     ]
    },
    {
     "data": {
      "image/png": "[encoded data removed]",
      "text/plain": [
       "<syrocr.images.Im at 0x7f298771d710>"
      ]
     },
     "metadata": {},
     "output_type": "display_data"
    },
    {
     "name": "stdout",
     "output_type": "stream",
     "text": [
      "Line 45 textsize small\n",
      "page mitchell2_test-05 line 45 character 0 id 510\n"
     ]
    },
    {
     "data": {
      "image/png": "[encoded data removed]",
      "text/plain": [
       "<PIL.Image.Image image mode=L size=24x20 at 0x7F29874C8F60>"
      ]
     },
     "metadata": {},
     "output_type": "display_data"
    },
    {
     "name": "stdout",
     "output_type": "stream",
     "text": [
      "\n",
      "{'tr': '', 'script': '', 'dist': None}\n",
      "page mitchell2_test-05 line 45 character 2 id 511\n"
     ]
    },
    {
     "data": {
      "image/png": "[encoded data removed]",
      "text/plain": [
       "<PIL.Image.Image image mode=L size=27x20 at 0x7F298771D710>"
      ]
     },
     "metadata": {},
     "output_type": "display_data"
    },
    {
     "name": "stdout",
     "output_type": "stream",
     "text": [
      "b\n",
      "{'tr': 'b', 'script': '', 'dist': None}\n"
     ]
    },
    {
     "data": {
      "image/png": "[encoded data removed]",
      "text/plain": [
       "<syrocr.images.Im at 0x7f298777d438>"
      ]
     },
     "metadata": {},
     "output_type": "display_data"
    },
    {
     "name": "stdout",
     "output_type": "stream",
     "text": [
      "Line 46 textsize small\n",
      "page mitchell2_test-05 line 46 character 3 id 512\n"
     ]
    },
    {
     "data": {
      "image/png": "[encoded data removed]",
      "text/plain": [
       "<PIL.Image.Image image mode=L size=26x24 at 0x7F298772E5C0>"
      ]
     },
     "metadata": {},
     "output_type": "display_data"
    },
    {
     "name": "stdout",
     "output_type": "stream",
     "text": [
      "n\n",
      "{'tr': 'n', 'script': '', 'dist': None}\n",
      "page mitchell2_test-05 line 46 character 6 id 513\n"
     ]
    },
    {
     "data": {
      "image/png": "[encoded data removed]",
      "text/plain": [
       "<PIL.Image.Image image mode=L size=96x40 at 0x7F29874C8748>"
      ]
     },
     "metadata": {},
     "output_type": "display_data"
    },
    {
     "name": "stdout",
     "output_type": "stream",
     "text": [
      "ly'\n",
      "{'tr': \"ly'\", 'script': '', 'dist': None}\n"
     ]
    },
    {
     "data": {
      "image/png": "[encoded data removed]",
      "text/plain": [
       "<syrocr.images.Im at 0x7f299cb16dd8>"
      ]
     },
     "metadata": {},
     "output_type": "display_data"
    },
    {
     "name": "stdout",
     "output_type": "stream",
     "text": [
      "Line 47 textsize small\n",
      "page mitchell2_test-05 line 47 character 6 id 514\n"
     ]
    },
    {
     "data": {
      "image/png": "[encoded data removed]",
      "text/plain": [
       "<PIL.Image.Image image mode=L size=24x43 at 0x7F298771DBE0>"
      ]
     },
     "metadata": {},
     "output_type": "display_data"
    },
    {
     "name": "stdout",
     "output_type": "stream",
     "text": [
      "l\n",
      "{'tr': 'l', 'script': '', 'dist': None}\n",
      "page mitchell2_test-05 line 47 character 8 id 515\n"
     ]
    },
    {
     "data": {
      "image/png": "[encoded data removed]",
      "text/plain": [
       "<PIL.Image.Image image mode=L size=20x54 at 0x7F2987744E10>"
      ]
     },
     "metadata": {},
     "output_type": "display_data"
    },
    {
     "name": "stdout",
     "output_type": "stream",
     "text": [
      "d\n",
      "{'tr': 'd', 'script': '', 'dist': None}\n",
      "page mitchell2_test-05 line 47 character 9 id 516\n"
     ]
    },
    {
     "data": {
      "image/png": "[encoded data removed]",
      "text/plain": [
       "<PIL.Image.Image image mode=L size=47x20 at 0x7F298771D710>"
      ]
     },
     "metadata": {},
     "output_type": "display_data"
    },
    {
     "name": "stdout",
     "output_type": "stream",
     "text": [
      "`\n",
      "{'tr': '`', 'script': '', 'dist': None}\n",
      "page mitchell2_test-05 line 47 character 16 id 517\n"
     ]
    },
    {
     "data": {
      "image/png": "[encoded data removed]",
      "text/plain": [
       "<PIL.Image.Image image mode=L size=60x22 at 0x7F29874C8F60>"
      ]
     },
     "metadata": {},
     "output_type": "display_data"
    },
    {
     "name": "stdout",
     "output_type": "stream",
     "text": [
      "qd\n",
      "{'tr': 'qd', 'script': '', 'dist': None}\n"
     ]
    },
    {
     "data": {
      "image/png": "[encoded data removed]",
      "text/plain": [
       "<syrocr.images.Im at 0x7f298777d438>"
      ]
     },
     "metadata": {},
     "output_type": "display_data"
    },
    {
     "name": "stdout",
     "output_type": "stream",
     "text": [
      "Line 48 textsize small\n"
     ]
    },
    {
     "data": {
      "image/png": "[encoded data removed]",
      "text/plain": [
       "<syrocr.images.Im at 0x7f298772e9e8>"
      ]
     },
     "metadata": {},
     "output_type": "display_data"
    },
    {
     "name": "stdout",
     "output_type": "stream",
     "text": [
      "Line 1 textsize small\n"
     ]
    },
    {
     "data": {
      "image/png": "[encoded data removed]",
      "text/plain": [
       "<syrocr.images.Im at 0x7f298771db00>"
      ]
     },
     "metadata": {},
     "output_type": "display_data"
    },
    {
     "name": "stdout",
     "output_type": "stream",
     "text": [
      "Line 2 textsize small\n"
     ]
    },
    {
     "data": {
      "image/png": "[encoded data removed]",
      "text/plain": [
       "<syrocr.images.Im at 0x7f298771da58>"
      ]
     },
     "metadata": {},
     "output_type": "display_data"
    },
    {
     "name": "stdout",
     "output_type": "stream",
     "text": [
      "Line 3 textsize small\n",
      "page mitchell2_test-06 line 3 character 3 id 521\n"
     ]
    },
    {
     "data": {
      "image/png": "[encoded data removed]",
      "text/plain": [
       "<PIL.Image.Image image mode=L size=107x21 at 0x7F2987780A90>"
      ]
     },
     "metadata": {},
     "output_type": "display_data"
    },
    {
     "ename": "KeyboardInterrupt",
     "evalue": "",
     "output_type": "error",
     "traceback": [
      "\u001b[0;31m---------------------------------------------------------------------------\u001b[0m",
      "\u001b[0;31mKeyboardInterrupt\u001b[0m                         Traceback (most recent call last)",
      "\u001b[0;32m/usr/local/lib/python3.6/dist-packages/ipykernel/kernelbase.py\u001b[0m in \u001b[0;36m_input_request\u001b[0;34m(self, prompt, ident, parent, password)\u001b[0m\n\u001b[1;32m    728\u001b[0m             \u001b[0;32mtry\u001b[0m\u001b[0;34m:\u001b[0m\u001b[0;34m\u001b[0m\u001b[0;34m\u001b[0m\u001b[0m\n\u001b[0;32m--> 729\u001b[0;31m                 \u001b[0mident\u001b[0m\u001b[0;34m,\u001b[0m \u001b[0mreply\u001b[0m \u001b[0;34m=\u001b[0m \u001b[0mself\u001b[0m\u001b[0;34m.\u001b[0m\u001b[0msession\u001b[0m\u001b[0;34m.\u001b[0m\u001b[0mrecv\u001b[0m\u001b[0;34m(\u001b[0m\u001b[0mself\u001b[0m\u001b[0;34m.\u001b[0m\u001b[0mstdin_socket\u001b[0m\u001b[0;34m,\u001b[0m \u001b[0;36m0\u001b[0m\u001b[0;34m)\u001b[0m\u001b[0;34m\u001b[0m\u001b[0;34m\u001b[0m\u001b[0m\n\u001b[0m\u001b[1;32m    730\u001b[0m             \u001b[0;32mexcept\u001b[0m \u001b[0mException\u001b[0m\u001b[0;34m:\u001b[0m\u001b[0;34m\u001b[0m\u001b[0;34m\u001b[0m\u001b[0m\n",
      "\u001b[0;32m/usr/local/lib/python3.6/dist-packages/jupyter_client/session.py\u001b[0m in \u001b[0;36mrecv\u001b[0;34m(self, socket, mode, content, copy)\u001b[0m\n\u001b[1;32m    802\u001b[0m         \u001b[0;32mtry\u001b[0m\u001b[0;34m:\u001b[0m\u001b[0;34m\u001b[0m\u001b[0;34m\u001b[0m\u001b[0m\n\u001b[0;32m--> 803\u001b[0;31m             \u001b[0mmsg_list\u001b[0m \u001b[0;34m=\u001b[0m \u001b[0msocket\u001b[0m\u001b[0;34m.\u001b[0m\u001b[0mrecv_multipart\u001b[0m\u001b[0;34m(\u001b[0m\u001b[0mmode\u001b[0m\u001b[0;34m,\u001b[0m \u001b[0mcopy\u001b[0m\u001b[0;34m=\u001b[0m\u001b[0mcopy\u001b[0m\u001b[0;34m)\u001b[0m\u001b[0;34m\u001b[0m\u001b[0;34m\u001b[0m\u001b[0m\n\u001b[0m\u001b[1;32m    804\u001b[0m         \u001b[0;32mexcept\u001b[0m \u001b[0mzmq\u001b[0m\u001b[0;34m.\u001b[0m\u001b[0mZMQError\u001b[0m \u001b[0;32mas\u001b[0m \u001b[0me\u001b[0m\u001b[0;34m:\u001b[0m\u001b[0;34m\u001b[0m\u001b[0;34m\u001b[0m\u001b[0m\n",
      "\u001b[0;32m/usr/local/lib/python3.6/dist-packages/zmq/sugar/socket.py\u001b[0m in \u001b[0;36mrecv_multipart\u001b[0;34m(self, flags, copy, track)\u001b[0m\n\u001b[1;32m    465\u001b[0m         \"\"\"\n\u001b[0;32m--> 466\u001b[0;31m         \u001b[0mparts\u001b[0m \u001b[0;34m=\u001b[0m \u001b[0;34m[\u001b[0m\u001b[0mself\u001b[0m\u001b[0;34m.\u001b[0m\u001b[0mrecv\u001b[0m\u001b[0;34m(\u001b[0m\u001b[0mflags\u001b[0m\u001b[0;34m,\u001b[0m \u001b[0mcopy\u001b[0m\u001b[0;34m=\u001b[0m\u001b[0mcopy\u001b[0m\u001b[0;34m,\u001b[0m \u001b[0mtrack\u001b[0m\u001b[0;34m=\u001b[0m\u001b[0mtrack\u001b[0m\u001b[0;34m)\u001b[0m\u001b[0;34m]\u001b[0m\u001b[0;34m\u001b[0m\u001b[0;34m\u001b[0m\u001b[0m\n\u001b[0m\u001b[1;32m    467\u001b[0m         \u001b[0;31m# have first part already, only loop while more to receive\u001b[0m\u001b[0;34m\u001b[0m\u001b[0;34m\u001b[0m\u001b[0;34m\u001b[0m\u001b[0m\n",
      "\u001b[0;32mzmq/backend/cython/socket.pyx\u001b[0m in \u001b[0;36mzmq.backend.cython.socket.Socket.recv\u001b[0;34m()\u001b[0m\n",
      "\u001b[0;32mzmq/backend/cython/socket.pyx\u001b[0m in \u001b[0;36mzmq.backend.cython.socket.Socket.recv\u001b[0;34m()\u001b[0m\n",
      "\u001b[0;32mzmq/backend/cython/socket.pyx\u001b[0m in \u001b[0;36mzmq.backend.cython.socket._recv_copy\u001b[0;34m()\u001b[0m\n",
      "\u001b[0;32m/usr/local/lib/python3.6/dist-packages/zmq/backend/cython/checkrc.pxd\u001b[0m in \u001b[0;36mzmq.backend.cython.checkrc._check_rc\u001b[0;34m()\u001b[0m\n",
      "\u001b[0;31mKeyboardInterrupt\u001b[0m: ",
      "\nDuring handling of the above exception, another exception occurred:\n",
      "\u001b[0;31mKeyboardInterrupt\u001b[0m                         Traceback (most recent call last)",
      "\u001b[0;32m<ipython-input-22-996eddb3f1f1>\u001b[0m in \u001b[0;36m<module>\u001b[0;34m()\u001b[0m\n\u001b[1;32m     14\u001b[0m         \u001b[0mprint\u001b[0m\u001b[0;34m(\u001b[0m\u001b[0;34m'Line'\u001b[0m\u001b[0;34m,\u001b[0m \u001b[0mline\u001b[0m\u001b[0;34m[\u001b[0m\u001b[0;34m'num'\u001b[0m\u001b[0;34m]\u001b[0m\u001b[0;34m,\u001b[0m \u001b[0;34m'textsize'\u001b[0m\u001b[0;34m,\u001b[0m \u001b[0mtextsize\u001b[0m\u001b[0;34m)\u001b[0m\u001b[0;34m\u001b[0m\u001b[0;34m\u001b[0m\u001b[0m\n\u001b[1;32m     15\u001b[0m         \u001b[0;32mfor\u001b[0m \u001b[0mi\u001b[0m\u001b[0;34m,\u001b[0m \u001b[0mentry\u001b[0m \u001b[0;32min\u001b[0m \u001b[0menumerate\u001b[0m\u001b[0;34m(\u001b[0m\u001b[0mtextline\u001b[0m\u001b[0;34m[\u001b[0m\u001b[0msection\u001b[0m\u001b[0;34m]\u001b[0m\u001b[0;34m)\u001b[0m\u001b[0;34m:\u001b[0m\u001b[0;34m\u001b[0m\u001b[0;34m\u001b[0m\u001b[0m\n\u001b[0;32m---> 16\u001b[0;31m             \u001b[0mkey\u001b[0m \u001b[0;34m=\u001b[0m \u001b[0mget_key\u001b[0m\u001b[0;34m(\u001b[0m\u001b[0mbasename\u001b[0m\u001b[0;34m,\u001b[0m \u001b[0mline\u001b[0m\u001b[0;34m[\u001b[0m\u001b[0;34m'num'\u001b[0m\u001b[0;34m]\u001b[0m\u001b[0;34m,\u001b[0m \u001b[0mi\u001b[0m\u001b[0;34m,\u001b[0m \u001b[0mentry\u001b[0m\u001b[0;34m,\u001b[0m \u001b[0mtable\u001b[0m\u001b[0;34m)\u001b[0m\u001b[0;34m\u001b[0m\u001b[0;34m\u001b[0m\u001b[0m\n\u001b[0m\u001b[1;32m     17\u001b[0m             \u001b[0;32mif\u001b[0m \u001b[0mkey\u001b[0m \u001b[0;32mis\u001b[0m \u001b[0;32mnot\u001b[0m \u001b[0;32mNone\u001b[0m\u001b[0;34m:\u001b[0m\u001b[0;34m\u001b[0m\u001b[0;34m\u001b[0m\u001b[0m\n\u001b[1;32m     18\u001b[0m                 \u001b[0mprint\u001b[0m\u001b[0;34m(\u001b[0m\u001b[0mkey\u001b[0m\u001b[0;34m)\u001b[0m\u001b[0;34m\u001b[0m\u001b[0;34m\u001b[0m\u001b[0m\n",
      "\u001b[0;32m<ipython-input-4-0ae3629fa6f2>\u001b[0m in \u001b[0;36mget_key\u001b[0;34m(basename, line_num, c_num, entry, table)\u001b[0m\n\u001b[1;32m     34\u001b[0m         \u001b[0mdisplay\u001b[0m\u001b[0;34m(\u001b[0m\u001b[0mavgim\u001b[0m\u001b[0;34m.\u001b[0m\u001b[0mmaxtoblack\u001b[0m\u001b[0;34m(\u001b[0m\u001b[0minvert\u001b[0m\u001b[0;34m=\u001b[0m\u001b[0;32mTrue\u001b[0m\u001b[0;34m)\u001b[0m\u001b[0;34m)\u001b[0m\u001b[0;34m\u001b[0m\u001b[0;34m\u001b[0m\u001b[0m\n\u001b[1;32m     35\u001b[0m \u001b[0;34m\u001b[0m\u001b[0m\n\u001b[0;32m---> 36\u001b[0;31m         \u001b[0mkey\u001b[0m \u001b[0;34m=\u001b[0m \u001b[0minput\u001b[0m\u001b[0;34m(\u001b[0m\u001b[0;34m)\u001b[0m\u001b[0;34m.\u001b[0m\u001b[0msplit\u001b[0m\u001b[0;34m(\u001b[0m\u001b[0;34m)\u001b[0m\u001b[0;34m\u001b[0m\u001b[0;34m\u001b[0m\u001b[0m\n\u001b[0m\u001b[1;32m     37\u001b[0m \u001b[0;34m\u001b[0m\u001b[0m\n\u001b[1;32m     38\u001b[0m         table[c_id]['key'] = {\n",
      "\u001b[0;32m/usr/local/lib/python3.6/dist-packages/ipykernel/kernelbase.py\u001b[0m in \u001b[0;36mraw_input\u001b[0;34m(self, prompt)\u001b[0m\n\u001b[1;32m    702\u001b[0m             \u001b[0mself\u001b[0m\u001b[0;34m.\u001b[0m\u001b[0m_parent_ident\u001b[0m\u001b[0;34m,\u001b[0m\u001b[0;34m\u001b[0m\u001b[0;34m\u001b[0m\u001b[0m\n\u001b[1;32m    703\u001b[0m             \u001b[0mself\u001b[0m\u001b[0;34m.\u001b[0m\u001b[0m_parent_header\u001b[0m\u001b[0;34m,\u001b[0m\u001b[0;34m\u001b[0m\u001b[0;34m\u001b[0m\u001b[0m\n\u001b[0;32m--> 704\u001b[0;31m             \u001b[0mpassword\u001b[0m\u001b[0;34m=\u001b[0m\u001b[0;32mFalse\u001b[0m\u001b[0;34m,\u001b[0m\u001b[0;34m\u001b[0m\u001b[0;34m\u001b[0m\u001b[0m\n\u001b[0m\u001b[1;32m    705\u001b[0m         )\n\u001b[1;32m    706\u001b[0m \u001b[0;34m\u001b[0m\u001b[0m\n",
      "\u001b[0;32m/usr/local/lib/python3.6/dist-packages/ipykernel/kernelbase.py\u001b[0m in \u001b[0;36m_input_request\u001b[0;34m(self, prompt, ident, parent, password)\u001b[0m\n\u001b[1;32m    732\u001b[0m             \u001b[0;32mexcept\u001b[0m \u001b[0mKeyboardInterrupt\u001b[0m\u001b[0;34m:\u001b[0m\u001b[0;34m\u001b[0m\u001b[0;34m\u001b[0m\u001b[0m\n\u001b[1;32m    733\u001b[0m                 \u001b[0;31m# re-raise KeyboardInterrupt, to truncate traceback\u001b[0m\u001b[0;34m\u001b[0m\u001b[0;34m\u001b[0m\u001b[0;34m\u001b[0m\u001b[0m\n\u001b[0;32m--> 734\u001b[0;31m                 \u001b[0;32mraise\u001b[0m \u001b[0mKeyboardInterrupt\u001b[0m\u001b[0;34m\u001b[0m\u001b[0;34m\u001b[0m\u001b[0m\n\u001b[0m\u001b[1;32m    735\u001b[0m             \u001b[0;32melse\u001b[0m\u001b[0;34m:\u001b[0m\u001b[0;34m\u001b[0m\u001b[0;34m\u001b[0m\u001b[0m\n\u001b[1;32m    736\u001b[0m                 \u001b[0;32mbreak\u001b[0m\u001b[0;34m\u001b[0m\u001b[0;34m\u001b[0m\u001b[0m\n",
      "\u001b[0;31mKeyboardInterrupt\u001b[0m: "
     ]
    }
   ],
   "source": [
    "for basename, img_file, lines_file, textlines_file in get_filenames():\n",
    "    im = Im(img_file)\n",
    "    with open(lines_file, 'r') as f:\n",
    "        lines = json.load(f)\n",
    "    with open(textlines_file, 'r') as f:\n",
    "        text = json.load(f)\n",
    "\n",
    "    for line, textline in zip(lines, text):\n",
    "        if line['type'] != 'column' or line['main'] is None:\n",
    "            continue\n",
    "        textsize = get_textsize(line['type'], section)\n",
    "        table = tables[textsize]\n",
    "        display(im.crop(line['main']))\n",
    "        print('Line', line['num'], 'textsize', textsize)\n",
    "        for i, entry in enumerate(textline[section]):\n",
    "            key = get_key(basename, line['num'], i, entry, table)\n",
    "            if key is not None:\n",
    "                print(key)\n",
    "#\n",
    "# Final letters: kaf, indicated with capital K; nun, indicated with capital N; mem, capital M\n",
    "# Dotless dalath/rish: indicated with capital D\n",
    "# TODO misplaced dot below Sade, that should be shifted from before to after Sade: #>\n",
    "# TODO misplaced? dot below mem (with dot above), that properly belongs to following nun(?): m^# (id 312)"
   ]
  },
  {
   "cell_type": "code",
   "execution_count": 41,
   "metadata": {},
   "outputs": [
    {
     "data": {
      "text/plain": [
       "'+N'"
      ]
     },
     "execution_count": 41,
     "metadata": {},
     "output_type": "execute_result"
    }
   ],
   "source": [
    "tables['small'][282]['key']['tr']"
   ]
  },
  {
   "cell_type": "code",
   "execution_count": 42,
   "metadata": {},
   "outputs": [
    {
     "name": "stdout",
     "output_type": "stream",
     "text": [
      "Type 'yes indeed' to save the tables dict to ../peshitta/syrocr/test_ephrem_mitchell/lines/test_tables.json:\n",
      "yes indeed\n",
      "Saved!\n"
     ]
    }
   ],
   "source": [
    "# dialogue to prevent accidental writing to tables file\n",
    "if input(f'Type \\'yes indeed\\' to save the tables dict to {tables_file}:\\n') == 'yes indeed':\n",
    "    with open(tables_file, 'w') as f:\n",
    "        json.dump(tables, f)\n",
    "    print('Saved!')\n",
    "else:\n",
    "    print('Not saved.')"
   ]
  },
  {
   "cell_type": "code",
   "execution_count": 47,
   "metadata": {},
   "outputs": [
    {
     "name": "stdout",
     "output_type": "stream",
     "text": [
      "prev: [164, [False, True], None, [999, 1186, 1032, 1218]] {'tr': 'S', 'script': '', 'dist': None}\n",
      "mitchell2_test-02 13 4 [36, [True, True], None, [1028, 1183, 1038, 1194]] {'tr': 'y', 'script': '', 'dist': None}\n"
     ]
    },
    {
     "data": {
      "image/png": "[encoded data removed]",
      "text/plain": [
       "<syrocr.images.Im at 0x7f29877892e8>"
      ]
     },
     "metadata": {},
     "output_type": "display_data"
    },
    {
     "name": "stdout",
     "output_type": "stream",
     "text": [
      "prev: [227, [False, True], None, [1296, 1008, 1335, 1039]] {'tr': 'S', 'script': '', 'dist': None}\n",
      "mitchell2_test-03 11 8 [12, [True, False], None, [1297, 1002, 1308, 1015]] {'tr': 'y', 'script': '', 'dist': None}\n"
     ]
    },
    {
     "data": {
      "image/png": "[encoded data removed]",
      "text/plain": [
       "<syrocr.images.Im at 0x7f29877828d0>"
      ]
     },
     "metadata": {},
     "output_type": "display_data"
    },
    {
     "name": "stdout",
     "output_type": "stream",
     "text": [
      "prev: [227, [False, True], None, [1269, 1091, 1308, 1121]] {'tr': 'S', 'script': '', 'dist': None}\n",
      "mitchell2_test-03 12 10 [36, [True, False], None, [1271, 1086, 1281, 1100]] {'tr': 'y', 'script': '', 'dist': None}\n"
     ]
    },
    {
     "data": {
      "image/png": "[encoded data removed]",
      "text/plain": [
       "<syrocr.images.Im at 0x7f29877820b8>"
      ]
     },
     "metadata": {},
     "output_type": "display_data"
    },
    {
     "name": "stdout",
     "output_type": "stream",
     "text": [
      "prev: [227, [False, True], None, [1079, 1518, 1118, 1549]] {'tr': 'S', 'script': '', 'dist': None}\n",
      "mitchell2_test-04 17 8 [36, [True, False], None, [1113, 1514, 1124, 1525]] {'tr': 'y', 'script': '', 'dist': None}\n"
     ]
    },
    {
     "data": {
      "image/png": "[encoded data removed]",
      "text/plain": [
       "<syrocr.images.Im at 0x7f29877b68d0>"
      ]
     },
     "metadata": {},
     "output_type": "display_data"
    },
    {
     "name": "stdout",
     "output_type": "stream",
     "text": [
      "prev: [227, [False, True], None, [258, 1028, 296, 1059]] {'tr': 'S', 'script': '', 'dist': None}\n",
      "mitchell2_test-04 35 5 [36, [True, True], None, [292, 1025, 301, 1036]] {'tr': 'y', 'script': '', 'dist': None}\n"
     ]
    },
    {
     "data": {
      "image/png": "[encoded data removed]",
      "text/plain": [
       "<syrocr.images.Im at 0x7f299c2fc748>"
      ]
     },
     "metadata": {},
     "output_type": "display_data"
    }
   ],
   "source": [
    "# search for ambiguously encoded characters\n",
    "page = 0\n",
    "for basename, img_file, lines_file, textlines_file in get_filenames():\n",
    "    if page > 4:\n",
    "        break\n",
    "    page += 1\n",
    "#     im = Im(img_file)\n",
    "    with open(lines_file, 'r') as f:\n",
    "        lines = json.load(f)\n",
    "    with open(textlines_file, 'r') as f:\n",
    "        text = json.load(f)\n",
    "        \n",
    "    for line, textline in zip(lines, text):\n",
    "        if line['type'] != 'column':\n",
    "            continue\n",
    "        textsize = get_textsize(line['type'], section)\n",
    "        table = tables[textsize]\n",
    "        stack = None\n",
    "        for i, entry in enumerate(textline[section]):\n",
    "            c_id, connections, keyoverride, box = entry\n",
    "            tr = table[c_id]['key']['tr'] if table[c_id]['key'] else None\n",
    "            pr_tr = table[stack[0]]['key']['tr'] if stack and table[stack[0]]['key'] else None\n",
    "\n",
    "            ### SEARCH LOCATION ###\n",
    "#             if basename == 'mitchell2_test-05' and line['num'] == 44 and i in range(0,18): # tr == '$': # i == 14: # \n",
    "#                 print(basename, line['num'], i, entry, table[c_id]['key'])\n",
    "\n",
    "            ### SEARCH C_ID ###\n",
    "#             if c_id == 290:\n",
    "#             if stack and stack[0] == 159:\n",
    "#             if stack and pr_tr == '+S?N':\n",
    "            if tr == 'y' and stack and pr_tr == 'S':\n",
    "                if stack:\n",
    "                    print('prev:', stack, table[stack[0]]['key'])\n",
    "                print(basename, line['num'], i, entry, table[c_id]['key'])\n",
    "                im = Im(img_file)\n",
    "                display(im.crop(line['main']))\n",
    "            stack = entry\n",
    "\n",
    "#             if tr == 'w' and connections[0]:\n",
    "#                 if stack:\n",
    "#                     print('prev:', stack, table[stack[0]]['key'])\n",
    "#                 print(basename, line['num'], i, entry, table[c_id]['key'])\n",
    "# #                 print(f'  - [[\\'{basename}\\', {line[\"num\"]}, {i}, {c_id}], \\'q\\']')\n",
    "#                 im = Im(img_file)\n",
    "#                 display(im.crop(line['main']))\n",
    "#             stack = entry\n"
   ]
  },
  {
   "cell_type": "code",
   "execution_count": 43,
   "metadata": {},
   "outputs": [
    {
     "name": "stdout",
     "output_type": "stream",
     "text": [
      "prev: [45, [True, False], None, [1151, 909, 1177, 922]] {'tr': 'y', 'script': '', 'dist': None}\n",
      "mitchell2_test-01 5 7 [46, [False, False], None, [1183, 902, 1239, 925]] {'tr': 'yD?', 'script': '', 'dist': None}\n"
     ]
    },
    {
     "data": {
      "image/png": "[encoded data removed]",
      "text/plain": [
       "<syrocr.images.Im at 0x7f2987780748>"
      ]
     },
     "metadata": {},
     "output_type": "display_data"
    },
    {
     "name": "stdout",
     "output_type": "stream",
     "text": [
      "prev: [46, [False, False], None, [1183, 902, 1239, 925]] {'tr': 'yD?', 'script': '', 'dist': None}\n",
      "mitchell2_test-01 5 8 [47, [False, False], None, [1187, 889, 1195, 895]] {'tr': '^?', 'script': '', 'dist': None}\n"
     ]
    },
    {
     "data": {
      "image/png": "[encoded data removed]",
      "text/plain": [
       "<syrocr.images.Im at 0x7f29877767f0>"
      ]
     },
     "metadata": {},
     "output_type": "display_data"
    },
    {
     "name": "stdout",
     "output_type": "stream",
     "text": [
      "prev: [47, [False, False], None, [1187, 889, 1195, 895]] {'tr': '^?', 'script': '', 'dist': None}\n",
      "mitchell2_test-01 5 9 [48, [False, False], None, [1211, 873, 1219, 892]] {'tr': '', 'script': '', 'dist': None}\n"
     ]
    },
    {
     "data": {
      "image/png": "[encoded data removed]",
      "text/plain": [
       "<syrocr.images.Im at 0x7f29877767f0>"
      ]
     },
     "metadata": {},
     "output_type": "display_data"
    },
    {
     "name": "stdout",
     "output_type": "stream",
     "text": [
      "prev: [48, [False, False], None, [1211, 873, 1219, 892]] {'tr': '', 'script': '', 'dist': None}\n",
      "mitchell2_test-01 5 10 [49, [False, False], None, [1245, 901, 1324, 925]] {'tr': '$D?', 'script': '', 'dist': None}\n"
     ]
    },
    {
     "data": {
      "image/png": "[encoded data removed]",
      "text/plain": [
       "<syrocr.images.Im at 0x7f298772e9e8>"
      ]
     },
     "metadata": {},
     "output_type": "display_data"
    },
    {
     "name": "stdout",
     "output_type": "stream",
     "text": [
      "prev: [49, [False, False], None, [1245, 901, 1324, 925]] {'tr': '$D?', 'script': '', 'dist': None}\n",
      "mitchell2_test-01 5 11 [47, [False, False], None, [1250, 889, 1258, 896]] {'tr': '^?', 'script': '', 'dist': None}\n"
     ]
    },
    {
     "data": {
      "image/png": "[encoded data removed]",
      "text/plain": [
       "<syrocr.images.Im at 0x7f29874c87b8>"
      ]
     },
     "metadata": {},
     "output_type": "display_data"
    },
    {
     "name": "stdout",
     "output_type": "stream",
     "text": [
      "prev: [47, [False, False], None, [1250, 889, 1258, 896]] {'tr': '^?', 'script': '', 'dist': None}\n",
      "mitchell2_test-01 5 12 [48, [False, False], None, [1302, 874, 1310, 892]] {'tr': '', 'script': '', 'dist': None}\n"
     ]
    },
    {
     "data": {
      "image/png": "[encoded data removed]",
      "text/plain": [
       "<syrocr.images.Im at 0x7f298749c208>"
      ]
     },
     "metadata": {},
     "output_type": "display_data"
    },
    {
     "name": "stdout",
     "output_type": "stream",
     "text": [
      "prev: [121, [False, False], None, [269, 1640, 285, 1656]] {'tr': '*', 'script': '', 'dist': None}\n",
      "mitchell2_test-01 32 2 [122, [False, False], None, [311, 1637, 373, 1659]] {'tr': 'sD?', 'script': '', 'dist': None}\n"
     ]
    },
    {
     "data": {
      "image/png": "[encoded data removed]",
      "text/plain": [
       "<syrocr.images.Im at 0x7f2987787e80>"
      ]
     },
     "metadata": {},
     "output_type": "display_data"
    },
    {
     "name": "stdout",
     "output_type": "stream",
     "text": [
      "prev: [40, [True, False], None, [1057, 428, 1068, 450]] {'tr': 'n', 'script': '', 'dist': None}\n",
      "mitchell2_test-02 4 6 [149, [False, False], None, [1073, 429, 1091, 453]] {'tr': 'D?', 'script': '', 'dist': None}\n"
     ]
    },
    {
     "data": {
      "image/png": "[encoded data removed]",
      "text/plain": [
       "<syrocr.images.Im at 0x7f2987780710>"
      ]
     },
     "metadata": {},
     "output_type": "display_data"
    },
    {
     "name": "stdout",
     "output_type": "stream",
     "text": [
      "prev: [39, [False, False], None, [300, 432, 324, 453]] {'tr': 'w', 'script': '', 'dist': None}\n",
      "mitchell2_test-02 28 3 [149, [False, False], None, [385, 432, 403, 455]] {'tr': 'D?', 'script': '', 'dist': None}\n"
     ]
    },
    {
     "data": {
      "image/png": "[encoded data removed]",
      "text/plain": [
       "<syrocr.images.Im at 0x7f298749c048>"
      ]
     },
     "metadata": {},
     "output_type": "display_data"
    },
    {
     "name": "stdout",
     "output_type": "stream",
     "text": [
      "prev: [211, [False, True], None, [413, 652, 426, 716]] {'tr': 'N', 'script': '', 'dist': None}\n",
      "mitchell2_test-02 31 4 [59, [True, True], None, [453, 683, 464, 699]] {'tr': '+H', 'script': '', 'dist': None}\n"
     ]
    },
    {
     "data": {
      "image/png": "[encoded data removed]",
      "text/plain": [
       "<syrocr.images.Im at 0x7f2987782a20>"
      ]
     },
     "metadata": {},
     "output_type": "display_data"
    },
    {
     "name": "stdout",
     "output_type": "stream",
     "text": [
      "prev: [227, [False, True], None, [649, 1351, 687, 1383]] {'tr': 'S', 'script': '', 'dist': None}\n",
      "mitchell2_test-02 39 12 [228, [True, False], None, [683, 1348, 693, 1358]] {'tr': '+S?', 'script': '', 'dist': None}\n"
     ]
    },
    {
     "data": {
      "image/png": "[encoded data removed]",
      "text/plain": [
       "<syrocr.images.Im at 0x7f2987782a20>"
      ]
     },
     "metadata": {},
     "output_type": "display_data"
    },
    {
     "name": "stdout",
     "output_type": "stream",
     "text": [
      "prev: [15, [True, False], None, [623, 1749, 650, 1768]] {'tr': 'b', 'script': '', 'dist': None}\n",
      "mitchell2_test-02 44 9 [240, [False, True], None, [654, 1747, 712, 1771]] {'tr': 'D?', 'script': '', 'dist': None}\n"
     ]
    },
    {
     "data": {
      "image/png": "[encoded data removed]",
      "text/plain": [
       "<syrocr.images.Im at 0x7f2987782160>"
      ]
     },
     "metadata": {},
     "output_type": "display_data"
    },
    {
     "name": "stdout",
     "output_type": "stream",
     "text": [
      "prev: [227, [False, True], None, [1074, 435, 1110, 466]] {'tr': 'S', 'script': '', 'dist': None}\n",
      "mitchell2_test-03 4 5 [228, [True, True], None, [1106, 432, 1115, 442]] {'tr': '+S?', 'script': '', 'dist': None}\n"
     ]
    },
    {
     "data": {
      "image/png": "[encoded data removed]",
      "text/plain": [
       "<syrocr.images.Im at 0x7f29874c87b8>"
      ]
     },
     "metadata": {},
     "output_type": "display_data"
    },
    {
     "name": "stdout",
     "output_type": "stream",
     "text": [
      "prev: [275, [True, True], None, [1200, 581, 1286, 619]] {'tr': 'gp+', 'script': '', 'dist': None}\n",
      "mitchell2_test-03 6 8 [276, [True, False], None, [1236, 577, 1264, 605]] {'tr': '+g', 'script': '', 'dist': None}\n"
     ]
    },
    {
     "data": {
      "image/png": "[encoded data removed]",
      "text/plain": [
       "<syrocr.images.Im at 0x7f2987734588>"
      ]
     },
     "metadata": {},
     "output_type": "display_data"
    },
    {
     "name": "stdout",
     "output_type": "stream",
     "text": [
      "prev: [12, [True, False], None, [1297, 1002, 1308, 1015]] {'tr': 'y', 'script': '', 'dist': None}\n",
      "mitchell2_test-03 11 9 [228, [True, False], None, [1330, 1005, 1341, 1015]] {'tr': '+S?', 'script': '', 'dist': None}\n"
     ]
    },
    {
     "data": {
      "image/png": "[encoded data removed]",
      "text/plain": [
       "<syrocr.images.Im at 0x7f29877c3128>"
      ]
     },
     "metadata": {},
     "output_type": "display_data"
    },
    {
     "name": "stdout",
     "output_type": "stream",
     "text": [
      "prev: [36, [True, False], None, [1271, 1086, 1281, 1100]] {'tr': 'y', 'script': '', 'dist': None}\n",
      "mitchell2_test-03 12 11 [228, [True, False], None, [1303, 1087, 1313, 1098]] {'tr': '+S?', 'script': '', 'dist': None}\n"
     ]
    },
    {
     "data": {
      "image/png": "[encoded data removed]",
      "text/plain": [
       "<syrocr.images.Im at 0x7f2987734588>"
      ]
     },
     "metadata": {},
     "output_type": "display_data"
    },
    {
     "name": "stdout",
     "output_type": "stream",
     "text": [
      "prev: [43, [False, True], None, [859, 1499, 884, 1512]] {'tr': 'N+', 'script': '', 'dist': None}\n",
      "mitchell2_test-03 17 1 [48, [False, False], None, [881, 1457, 889, 1475]] {'tr': '', 'script': '', 'dist': None}\n"
     ]
    },
    {
     "data": {
      "image/png": "[encoded data removed]",
      "text/plain": [
       "<syrocr.images.Im at 0x7f298750f748>"
      ]
     },
     "metadata": {},
     "output_type": "display_data"
    },
    {
     "name": "stdout",
     "output_type": "stream",
     "text": [
      "prev: [48, [False, False], None, [881, 1457, 889, 1475]] {'tr': '', 'script': '', 'dist': None}\n",
      "mitchell2_test-03 17 2 [290, [True, False], None, [897, 1506, 950, 1517]] {'tr': '+N', 'script': '', 'dist': None}\n"
     ]
    },
    {
     "data": {
      "image/png": "[encoded data removed]",
      "text/plain": [
       "<syrocr.images.Im at 0x7f298750f7b8>"
      ]
     },
     "metadata": {},
     "output_type": "display_data"
    },
    {
     "name": "stdout",
     "output_type": "stream",
     "text": [
      "prev: [12, [True, False], None, [266, 594, 277, 607]] {'tr': 'y', 'script': '', 'dist': None}\n",
      "mitchell2_test-03 30 4 [320, [False, True], None, [283, 588, 299, 610]] {'tr': 'D?', 'script': '', 'dist': None}\n"
     ]
    },
    {
     "data": {
      "image/png": "[encoded data removed]",
      "text/plain": [
       "<syrocr.images.Im at 0x7f299cb16c88>"
      ]
     },
     "metadata": {},
     "output_type": "display_data"
    },
    {
     "name": "stdout",
     "output_type": "stream",
     "text": [
      "prev: [12, [True, False], None, [328, 595, 338, 610]] {'tr': 'y', 'script': '', 'dist': None}\n",
      "mitchell2_test-03 30 6 [320, [False, True], None, [344, 588, 361, 610]] {'tr': 'D?', 'script': '', 'dist': None}\n"
     ]
    },
    {
     "data": {
      "image/png": "[encoded data removed]",
      "text/plain": [
       "<syrocr.images.Im at 0x7f299c2fc630>"
      ]
     },
     "metadata": {},
     "output_type": "display_data"
    },
    {
     "name": "stdout",
     "output_type": "stream",
     "text": [
      "prev: [111, [True, False], None, [388, 771, 410, 790]] {'tr': 'q', 'script': '', 'dist': None}\n",
      "mitchell2_test-04 32 6 [149, [False, True], None, [417, 769, 434, 792]] {'tr': 'D?', 'script': '', 'dist': None}\n"
     ]
    },
    {
     "data": {
      "image/png": "[encoded data removed]",
      "text/plain": [
       "<syrocr.images.Im at 0x7f29877760b8>"
      ]
     },
     "metadata": {},
     "output_type": "display_data"
    },
    {
     "name": "stdout",
     "output_type": "stream",
     "text": [
      "prev: [149, [False, True], None, [417, 769, 434, 792]] {'tr': 'D?', 'script': '', 'dist': None}\n",
      "mitchell2_test-04 32 7 [47, [False, False], None, [423, 756, 430, 763]] {'tr': '^?', 'script': '', 'dist': None}\n"
     ]
    },
    {
     "data": {
      "image/png": "[encoded data removed]",
      "text/plain": [
       "<syrocr.images.Im at 0x7f29878fc400>"
      ]
     },
     "metadata": {},
     "output_type": "display_data"
    },
    {
     "name": "stdout",
     "output_type": "stream",
     "text": [
      "prev: [47, [False, False], None, [423, 756, 430, 763]] {'tr': '^?', 'script': '', 'dist': None}\n",
      "mitchell2_test-04 32 8 [73, [False, False], None, [435, 739, 450, 752]] {'tr': '', 'script': '', 'dist': None}\n"
     ]
    },
    {
     "data": {
      "image/png": "[encoded data removed]",
      "text/plain": [
       "<syrocr.images.Im at 0x7f29874bd0b8>"
      ]
     },
     "metadata": {},
     "output_type": "display_data"
    },
    {
     "name": "stdout",
     "output_type": "stream",
     "text": [
      "prev: [32, [False, False], None, [1060, 1168, 1068, 1175]] {'tr': '=.', 'script': '', 'dist': None}\n",
      "mitchell2_test-05 13 9 [228, [False, False], None, [1157, 1167, 1167, 1176]] {'tr': '+S?', 'script': '', 'dist': None}\n"
     ]
    },
    {
     "data": {
      "image/png": "[encoded data removed]",
      "text/plain": [
       "<syrocr.images.Im at 0x7f29877c31d0>"
      ]
     },
     "metadata": {},
     "output_type": "display_data"
    },
    {
     "name": "stdout",
     "output_type": "stream",
     "text": [
      "prev: [15, [True, False], None, [1290, 1319, 1316, 1337]] {'tr': 'b', 'script': '', 'dist': None}\n",
      "mitchell2_test-05 15 7 [149, [False, False], None, [1320, 1317, 1338, 1339]] {'tr': 'D?', 'script': '', 'dist': None}\n"
     ]
    },
    {
     "data": {
      "image/png": "[encoded data removed]",
      "text/plain": [
       "<syrocr.images.Im at 0x7f298750f358>"
      ]
     },
     "metadata": {},
     "output_type": "display_data"
    },
    {
     "name": "stdout",
     "output_type": "stream",
     "text": [
      "prev: [448, [False, True], None, [1106, 1478, 1157, 1518]] {'tr': 'HnN+', 'script': '', 'dist': None}\n",
      "mitchell2_test-05 17 7 [449, [True, False], None, [1157, 1484, 1168, 1502]] {'tr': '+H', 'script': '', 'dist': None}\n"
     ]
    },
    {
     "data": {
      "image/png": "[encoded data removed]",
      "text/plain": [
       "<syrocr.images.Im at 0x7f2987776a90>"
      ]
     },
     "metadata": {},
     "output_type": "display_data"
    },
    {
     "name": "stdout",
     "output_type": "stream",
     "text": [
      "prev: [505, [False, False], None, [222, 1562, 281, 1618]] {'tr': 'K', 'script': '', 'dist': None}\n",
      "mitchell2_test-05 42 1 [506, [False, False], None, [267, 1559, 396, 1584]] {'tr': 'mbD?', 'script': '', 'dist': None}\n"
     ]
    },
    {
     "data": {
      "image/png": "[encoded data removed]",
      "text/plain": [
       "<syrocr.images.Im at 0x7f299c2dda58>"
      ]
     },
     "metadata": {},
     "output_type": "display_data"
    },
    {
     "name": "stdout",
     "output_type": "stream",
     "text": [
      "prev: [506, [False, False], None, [267, 1559, 396, 1584]] {'tr': 'mbD?', 'script': '', 'dist': None}\n",
      "mitchell2_test-05 42 2 [47, [False, False], None, [272, 1548, 278, 1555]] {'tr': '^?', 'script': '', 'dist': None}\n"
     ]
    },
    {
     "data": {
      "image/png": "[encoded data removed]",
      "text/plain": [
       "<syrocr.images.Im at 0x7f29874d6c50>"
      ]
     },
     "metadata": {},
     "output_type": "display_data"
    },
    {
     "name": "stdout",
     "output_type": "stream",
     "text": [
      "prev: [47, [False, False], None, [272, 1548, 278, 1555]] {'tr': '^?', 'script': '', 'dist': None}\n",
      "mitchell2_test-05 42 3 [48, [False, False], None, [317, 1535, 325, 1553]] {'tr': '', 'script': '', 'dist': None}\n"
     ]
    },
    {
     "data": {
      "image/png": "[encoded data removed]",
      "text/plain": [
       "<syrocr.images.Im at 0x7f29877c31d0>"
      ]
     },
     "metadata": {},
     "output_type": "display_data"
    },
    {
     "name": "stdout",
     "output_type": "stream",
     "text": [
      "prev: [468, [False, True], None, [222, 1879, 266, 1909]] {'tr': \"'\", 'script': '', 'dist': None}\n",
      "mitchell2_test-05 46 1 [59, [True, True], None, [271, 1892, 283, 1909]] {'tr': '+H', 'script': '', 'dist': None}\n"
     ]
    },
    {
     "data": {
      "image/png": "[encoded data removed]",
      "text/plain": [
       "<syrocr.images.Im at 0x7f298749c1d0>"
      ]
     },
     "metadata": {},
     "output_type": "display_data"
    }
   ],
   "source": [
    "##### search for ambiguously encoded characters\n",
    "page = 0\n",
    "for basename, img_file, lines_file, textlines_file in get_filenames():\n",
    "    if page > 4:\n",
    "        break\n",
    "    page += 1\n",
    "#     im = Im(img_file)\n",
    "    with open(lines_file, 'r') as f:\n",
    "        lines = json.load(f)\n",
    "    with open(textlines_file, 'r') as f:\n",
    "        text = json.load(f)\n",
    "        \n",
    "    for line, textline in zip(lines, text):\n",
    "        if line['type'] != 'column':\n",
    "            continue\n",
    "        textsize = get_textsize(line['type'], section)\n",
    "        table = tables[textsize]\n",
    "        stack = None\n",
    "        for i, entry in enumerate(textline[section]):\n",
    "            c_id, connections, keyoverride, box = entry\n",
    "            tr = table[c_id]['key']['tr'] if table[c_id]['key'] else None\n",
    "            script = table[c_id]['key']['script'] if table[c_id]['key'] else None\n",
    "            pr_tr = table[stack[0]]['key']['tr'] if stack and table[stack[0]]['key'] else None\n",
    "            if ((pr_tr and pr_tr[-1] == '+' and tr != '+' + pr_tr[:-1])\n",
    "                or ('+' in tr[:-1] and (not pr_tr or not '+' in pr_tr))\n",
    "                or '?' in tr or (pr_tr and pr_tr[0] == '^') or (script == '' and tr.endswith('>'))):\n",
    "                if stack:\n",
    "                    print('prev:', stack, table[stack[0]]['key'])\n",
    "                print(basename, line['num'], i, entry, table[c_id]['key'])\n",
    "                im = Im(img_file)\n",
    "                display(im.crop(line['main']))\n",
    "            stack = entry"
   ]
  },
  {
   "cell_type": "code",
   "execution_count": 58,
   "metadata": {},
   "outputs": [
    {
     "data": {
      "image/png": "[encoded data removed]",
      "text/plain": [
       "<PIL.Image.Image image mode=L size=13x32 at 0x7FA1C5BDE0B8>"
      ]
     },
     "execution_count": 58,
     "metadata": {},
     "output_type": "execute_result"
    }
   ],
   "source": [
    "# tables['normal'][269]['avgim']\n",
    "base64_avgim = tables['normal'][31]['avgim']\n",
    "AvgIm(base64_avgim['base64_str'],\n",
    "        base64_avgim['baseline'],\n",
    "        base64_avgim['width'],\n",
    "        base64_avgim['height']).maxtoblack(invert=True)\n",
    "\n",
    "# for ch in tables['normal']:\n",
    "#     if ch['key'] and ch['key']['tr'] == 'N+':\n",
    "#         base64_avgim = ch['avgim']\n",
    "#         AvgIm(base64_avgim['base64_str'],\n",
    "#                 base64_avgim['baseline'],\n",
    "#                 base64_avgim['width'],\n",
    "#                 base64_avgim['height']).maxtoblack(invert=True)\n",
    "\n",
    "        "
   ]
  },
  {
   "cell_type": "code",
   "execution_count": null,
   "metadata": {},
   "outputs": [],
   "source": [
    "# combinations exodus:\n",
    "# ((':', '@', ':'), ':÷÷:') -> ornament in inscriptio (111_2L line 1) # or just replace with '@' (✢)?\n",
    "\n",
    "\n",
    "from syrocr import gettext\n",
    "from importlib import reload\n",
    "gettext = reload(gettext)\n",
    "\n",
    "### GENESIS ###\n",
    "json_textlines_dir = '../analyzevts/scans/genesis-exodus/genesis/a'\n",
    "tables_filename = '../analyzevts/scans/genesis-exodus/genesis/a/test_tables.json'\n",
    "\n",
    "combinations = [\n",
    "    (('^g', '+s\"'), 's\"g'),\n",
    "    (('H+', 'y'), 'H'),\n",
    "    (('l', '+T'), 'T'),\n",
    "    (('n^', '\"?'), 'n\"'),\n",
    "    (('y\"+', '\"?'), 'y\"'), # yudh with one dot, followed by single dot\n",
    "    (('y\"n+', '+n\"'), 'n\"n'), # nun with stolen dot, followed by nun with one dot\n",
    "    (('y\"n+', 'y', '\"?'), 'y\"n'), # nun with stolen dot, followed by yudh, followed by single dot\n",
    "    (('y^', '\"?'), 'y\"'), # yudh with one dot, followed by single dot\n",
    "    (('z\"+', '\"?'), 'z\"'),\n",
    "    (('z^', '\"?'), 'z\"'),\n",
    "    # fix for c_id 103, dot below,\n",
    "    # which for some reason is not always\n",
    "    # connected with its character.\n",
    "    (('S', '#>'), 'S#'),\n",
    "    (('h', '#>'), 'h#')]\n",
    "\n",
    "corrections = [\n",
    "    # ((basename, line, pos, c_id), override)\n",
    "    (('vts-036_1R', 20, 1, 174), ''),\n",
    "    (('vts-047_2L', 13, 41, 214), ''),\n",
    "    (('vts-062_2L', 6, 0, 174), ''),\n",
    "    (('vts-063_2L', 11, 38, 214), ''),\n",
    "    (('vts-065_2L', 1, 37, 349), ''),\n",
    "    (('vts-073_1R', 1, 2, 174), '.'),\n",
    "    (('vts-080_1R', 11, 38, 349), '^.'),\n",
    "    # these four below are for two Het that are seen as twice two yudh\n",
    "    (('vts-063_2L', 6, 21, 346), ''),\n",
    "    (('vts-063_2L', 6, 22, 11), 'H'),\n",
    "    (('vts-086_1R', 4, 13, 346), ''),\n",
    "    (('vts-086_1R', 4, 14, 11), 'H'),\n",
    "    # fix for c_id 103, full stop (below baseline).\n",
    "    # This shall be fixed when the isolated dot below\n",
    "    # will be properly connected with he and Sade\n",
    "    # (see combinations), and it can be encoded\n",
    "    # independently as full stop.\n",
    "    (('vts-041_2L', 17, 0, 103), '=.'),\n",
    "    (('vts-066_2L', 14, 0, 103), '=.'),\n",
    "    # fix for initial yudh recognized as 'o' (interpunction symbol)\n",
    "    # Real fix: by looking at connections at 'compare()' stage?\n",
    "    (('vts-051_1R', 11, 22, 38), 'y'),\n",
    "    # Fix typo in edition: y`bwb -> y`qwb\n",
    "    (('vts-062_1R', 6, 2, 16), 'q')]\n",
    "\n",
    "spaces_file = 'Genesis.pil'\n",
    "\n",
    "### EXODUS ###\n",
    "json_textlines_dir = '../analyzevts/scans/genesis-exodus/exodus/lines'\n",
    "tables_filename = '../analyzevts/scans/genesis-exodus/exodus/lines/test_tables.json'\n",
    "\n",
    "combinations = [\n",
    "    (('\"?', '+s\"'), 's\"'),\n",
    "    (('\"\\'+', 'r'), 'r\"\\''),\n",
    "    (('=.', '^?'), '=/'),\n",
    "    (('b', '\"?'), 'b^'),\n",
    "    (('b', '\"?', '+s\"'), 's\"b'),\n",
    "    (('b\"+', '+w\"'), 'w\"b'),\n",
    "    (('D?', '\"?'), 'r'),\n",
    "    (('g+', '#>'), 'g'), ### broken gamal\n",
    "    (('k', '\"?'), 'k^'),\n",
    "    (('l', '\"?'), 'l\"'),\n",
    "    (('l+', 'n'), 'l'),\n",
    "    (('l+', 't'), 'tl'),\n",
    "    (('N', '^?'), 'N^'),\n",
    "    (('p\"?', 'k\"?'), 'k\"p'),\n",
    "    (('q#', '\"?'), '^q#'),\n",
    "    (('q^', '\"?'), 'q\"'),\n",
    "    (('w', '\"?'), 'w^'),\n",
    "    (('y', '\"?'), 'y^'),\n",
    "    (('y\"+', '\"?'), 'y\"'),\n",
    "    (('y\"n+', '+y\"#'), 'y\"#n'),\n",
    "    (('y\"n+', 'y', '\"?'), 'y\"n'),\n",
    "    (('y\"n+', 'y'), 'y^n'),\n",
    "    (('y\"n+', 'y^'), 'y\"n'),\n",
    "    (('y\"n+', 'n^'), 'n\"n'),\n",
    "    (('y^', '\"?'), 'y\"'),\n",
    "    (('z^', '\"?'), 'z\"'),\n",
    "    ((\"'+\", '#>', \"+'\"), \"'#\"),\n",
    "    ((\"'+\", '^.', \"+'\"), \"'\"),\n",
    "    ((\"'+\", \"+'#\"), \"'#\"),\n",
    "    # misplaced dot\n",
    "    (('S','#>'),'S#'),\n",
    "    (('p','#>'),'p#'),\n",
    "    (('h','#>'),'h#'),\n",
    "    (('w','#>'),'w#'),\n",
    "    (('N','#>'),'N#'),\n",
    "    (('n','#>'),'n#'),\n",
    "    (('M','#>'),'M#'),\n",
    "    (('b','#>'),'b#'),\n",
    "    (('y','#>'),'y#'),\n",
    "    (('\\'','#>'),'\\'#'),\n",
    "    (('y?','#>'),'y#'),\n",
    "    (('m','#>'),'m#'),\n",
    "    (('l','#>'),'l#'),\n",
    "    (('T','#>'),'T#'),\n",
    "    (('$','#>'),'$#'),\n",
    "    (('H','#>'),'H#'),\n",
    "    (('d','#>'),'d#'),\n",
    "    (('t','#>'),'t#'),\n",
    "    (('q','#>'),'q#'),\n",
    "    (('s','#>'),'s#'),\n",
    "    (('r','#>'),'r#'),\n",
    "]\n",
    "\n",
    "\n",
    "corrections = [\n",
    "    # next two correct misprint: missing paren in edition \n",
    "    (('vts-089_2L', 18, 0, 133), '('),\n",
    "    (('vts-089_2L', 18, 1, 42), '15'),\n",
    "    (('vts-091_1R', 6, 35, 436), '^.'),\n",
    "    (('vts-089_1R', 13, 20, 279), 'y^'),\n",
    "    (('vts-092_1R', 17, 22, 279), 'y^'),       \n",
    "    (('vts-093_2L', 9, 0, 436), '=.'),\n",
    "    (('vts-117_2L', 6, 10, 161), 'y^'),\n",
    "    (('vts-120_1R', 6, 14, 174), '=.'),\n",
    "    # these four below are for two Het that are seen as twice two yudh\n",
    "    (('vts-115_1R', 1, 17, 346), ''),\n",
    "    (('vts-115_1R', 1, 18, 11), 'H'),\n",
    "    (('vts-121_2L', 9, 34, 346), ''),\n",
    "    (('vts-121_2L', 9, 35, 11), 'H'),\n",
    "]\n",
    "\n",
    "spaces_file = 'Exodus.pil'\n",
    "\n",
    "### LEVITICUS ###\n",
    "json_textlines_dir = '../analyzevts/scans/vts.1.2.leviticus.numbers.deuteronomy/a.leviticus/lines'\n",
    "tables_filename = '../analyzevts/scans/vts.1.2.leviticus.numbers.deuteronomy/a.leviticus/lines/test_tables.json'\n",
    "\n",
    "combinations = [\n",
    "    (('z^', '^?'), 'z\"'),\n",
    "    (('y^', '^?'), 'y\"'),\n",
    "    (('n^', '^?'), 'n\"'),\n",
    "    ((\"^'?\", 'r'), 'r\"\\''),\n",
    "    (('D?', '^?'), 'r'),\n",
    "    (('^N+', 'y', '^?'), 'y\"N'),\n",
    "    (('^N+', 'y^'), 'y\"N'),\n",
    "    (('^K', 'y^'), 'y\"K'),\n",
    "    (('^?', 'y^'), 'y\"'),\n",
    "]\n",
    "corrections = []\n",
    "\n",
    "spaces_file = 'Leviticus.pil'\n",
    "\"\"\"\n",
    "Lv\n",
    "1:8 ry$' -> r$'\n",
    "1:11 grbyh -> grbyyh\n",
    "2:9 llmdbH' -> lmdbH' (variant fout)\n",
    "2:12 r\"y$yt' -> r\"$yt'\n",
    "3:13 ry$h^ -> r$h^\n",
    "4:2 kl -> kwl\n",
    "4:4 ry$h -> r$h\n",
    "4:9 d`lyhwn -> d`lyhyn\n",
    "4:12 npqywhy -> wnpqywhy\n",
    "4:14 klh^ -> kwlh^\n",
    "4:14 wnytwnyhy -> wnytwnh\n",
    "4:15 wnkswnhy -> wnkswnyhy\n",
    "4:22 klhwn -> kl\n",
    "4:34 dmh -> dm'\n",
    "5:6 Spryt' -> Sypryt'\n",
    "6:16 wklh -> wkwlh\n",
    "7:1 qwd$ -> qdw$\n",
    "7:4 wtrbhwn -> wtrbhyn\n",
    "7:10 dmttpyl -> dmtpyl\n",
    "7:16 w'p -> 'p\n",
    "7:18 dt'kwly -> dt'kwl\n",
    "7:18 tqbly -> tqbl\n",
    "7:21 tqrwby -> tqrwb\n",
    "7:27 dt'kwly -> dt'kwl\n",
    "7:30 wtrb' -> trb'\n",
    "7:30 pwr$nh -> pwr$n'\n",
    "8:22 dtr\"tyn -> dtr\"yn\n",
    "( * PIL heeft hier een variant: dtr\"tyn [dtr\"yn/L] -- wil dat zeggen dat M en U wel dtr\"tyn hebben?)\n",
    "8:29 wmn -> mn\n",
    "9:20 lmdbH' -> lmdb' (wrsch fout in editie? niet aangepast in diff)\n",
    "10:6 r\"y$ykwn -> r\"$ykwn\n",
    "11:21 r\"glywhy -> r\"glwhy\n",
    "11:27 wklh^ -> klh^\n",
    "11:33 kl -> kwl\n",
    "15:24 `lwhy -> `lhwy (wrsch fout in editie? niet aangepast in diff)\n",
    "21:2-3 wbHth=. van eind vers 2 naar begin vers 3\n",
    "21:17 ldr\"hwn -> ldr\"yhwn\n",
    "22:6 l' -> wl'\n",
    "25:26 b'\"ydhy -> b'\"ydwhy\n",
    "\"\"\"\n",
    "# err in ocr:\n",
    "# 22:24 wdrySS -> wdrSyS\n",
    "\n",
    "chapter = 0\n",
    "for tag, verse in gettext.verses(json_textlines_dir, tables_filename,\n",
    "#         meta=False, interp=True, diacr=True, inscr=True,\n",
    "        meta=False, interp=False, diacr=False, inscr=False,\n",
    "#         spaces_file=spaces_file,\n",
    "        combinations=combinations, corrections=corrections):\n",
    "#     print(f'{tag}\\t{verse}')\n",
    "    v = tag.strip('()')\n",
    "    if ' ' in v:\n",
    "        if chapter > 0:\n",
    "            print()\n",
    "        ch, v = v.split()\n",
    "        chapter += 1\n",
    "        print(f'@Lv{chapter}')\n",
    "    print(f' {v:>2}', ''.join(verse.split()))"
   ]
  },
  {
   "cell_type": "code",
   "execution_count": null,
   "metadata": {},
   "outputs": [],
   "source": [
    "img_file = json_textlines_dir = '../analyzevts/scans/genesis-exodus/exodus/vts-110_1R.tif'\n",
    "im=Im(img_file)\n",
    "baseline = 1149\n",
    "box = [429,1111,1923,1186]\n",
    "# im\n",
    "\n",
    "for entry in table:\n",
    "    entry['avgim'] = AvgIm(\n",
    "        entry['avgim']['base64_str'],\n",
    "        entry['avgim']['baseline'],\n",
    "        entry['avgim']['width'],\n",
    "        entry['avgim']['height'])\n",
    "\n",
    "\n",
    "textline = []\n",
    "from syrocr.getchars import getcharacters, findchar\n",
    "for char, connections in getcharacters(im, box, baseline):\n",
    "    x, y = char.offset\n",
    "    box = (x, y, x + char.width, y + char.height)\n",
    "    tr_override = None\n",
    "\n",
    "    c = findchar(table, char, update_avgim=False, add_to_table=False)\n",
    "\n",
    "    textline.append((c['id'], connections, tr_override, box))\n"
   ]
  },
  {
   "cell_type": "code",
   "execution_count": null,
   "metadata": {},
   "outputs": [],
   "source": [
    "textline"
   ]
  },
  {
   "cell_type": "code",
   "execution_count": null,
   "metadata": {},
   "outputs": [],
   "source": [
    "import json\n",
    "print(json.dumps(textline, indent=2))"
   ]
  },
  {
   "cell_type": "code",
   "execution_count": null,
   "metadata": {},
   "outputs": [],
   "source": [
    "testName = 'testconfig'\n",
    "import importlib\n",
    "mod = importlib.import_module(testName)\n",
    "print(mod.combinations, mod.corrections)\n",
    "\n",
    "teststring = \"\"\"\\\n",
    "combinations:\n",
    "  - [['^g', '+s\"'], 's\"g']\n",
    "  - [['H+', 'y'], 'H']\n",
    "  - [['l', '+T'], 'T']\n",
    "  - [['n^', '\"?'], 'n\"']\n",
    "  - [['y\"+', '\"?'], 'y\"'] # yudh with one dot, followed by single dot\n",
    "  - [['y\"n+', '+n\"'], 'n\"n'] # nun with stolen dot, followed by nun with one dot\n",
    "  - [['y\"n+', 'y', '\"?'], 'y\"n'] # nun with stolen dot, followed by yudh, followed by single dot\n",
    "  - [['y^', '\"?'], 'y\"'] # yudh with one dot, followed by single dot\n",
    "  - [['z\"+', '\"?'], 'z\"']\n",
    "  - [['z^', '\"?'], 'z\"']\n",
    "    # fix for c_id 103, dot below,\n",
    "    # which for some reason is not always\n",
    "    # connected with its character.\n",
    "  - [['S', '#>'], 'S#']\n",
    "  - [['h', '#>'], 'h#']\n",
    "\n",
    "corrections:\n",
    "    # [[basename, line, pos, c_id], override]\n",
    "  - [['vts-036_1R', 20, 1, 174], '']\n",
    "  - [['vts-047_2L', 13, 41, 214], '']\n",
    "  - [['vts-062_2L', 6, 0, 174], '']\n",
    "  - [['vts-063_2L', 11, 38, 214], '']\n",
    "  - [['vts-065_2L', 1, 37, 349], '']\n",
    "  - [['vts-073_1R', 1, 2, 174], '.']\n",
    "  - [['vts-080_1R', 11, 38, 349], '^.']\n",
    "  - # these four below are for two Het that are seen as twice two yudh\n",
    "  - [['vts-063_2L', 6, 21, 346], '']\n",
    "  - [['vts-063_2L', 6, 22, 11], 'H']\n",
    "  - [['vts-086_1R', 4, 13, 346], '']\n",
    "  - [['vts-086_1R', 4, 14, 11], 'H']\n",
    "  - # fix for c_id 103, full stop [below baseline].\n",
    "  - # This shall be fixed when the isolated dot below\n",
    "  - # will be properly connected with he and Sade\n",
    "  - # [see combinations], and it can be encoded\n",
    "  - # independently as full stop.\n",
    "  - [['vts-041_2L', 17, 0, 103], '=.']\n",
    "  - [['vts-066_2L', 14, 0, 103], '=.']\n",
    "  - # fix for initial yudh recognized as 'o' [interpunction symbol]\n",
    "  - # Real fix: by looking at connections at 'compare[]' stage?\n",
    "  - [['vts-051_1R', 11, 22, 38], 'y']\n",
    "  - # Fix typo in edition: y`bwb -> y`qwb\n",
    "  - [['vts-062_1R', 6, 2, 16], 'q']\n",
    "\"\"\"\n",
    "import yaml\n",
    "config = yaml.safe_load(teststring)\n",
    "\n",
    "print(config)"
   ]
  },
  {
   "cell_type": "code",
   "execution_count": 29,
   "metadata": {
    "scrolled": false
   },
   "outputs": [
    {
     "name": "stdout",
     "output_type": "stream",
     "text": [
      "[\n",
      "  [\n",
      "    157,\n",
      "    [\n",
      "      false,\n",
      "      false\n",
      "    ],\n",
      "    null,\n",
      "    [\n",
      "      739,\n",
      "      599,\n",
      "      772,\n",
      "      626\n",
      "    ]\n",
      "  ],\n",
      "  [\n",
      "    68,\n",
      "    [\n",
      "      false,\n",
      "      false\n",
      "    ],\n",
      "    null,\n",
      "    [\n",
      "      792,\n",
      "      592,\n",
      "      807,\n",
      "      632\n",
      "    ]\n",
      "  ],\n",
      "  [\n",
      "    84,\n",
      "    [\n",
      "      false,\n",
      "      false\n",
      "    ],\n",
      "    null,\n",
      "    [\n",
      "      828,\n",
      "      602,\n",
      "      833,\n",
      "      622\n",
      "    ]\n",
      "  ],\n",
      "  [\n",
      "    6,\n",
      "    [\n",
      "      false,\n",
      "      false\n",
      "    ],\n",
      "    null,\n",
      "    [\n",
      "      841,\n",
      "      594,\n",
      "      879,\n",
      "      621\n",
      "    ]\n",
      "  ],\n",
      "  [\n",
      "    0,\n",
      "    [\n",
      "      false,\n",
      "      true\n",
      "    ],\n",
      "    null,\n",
      "    [\n",
      "      881,\n",
      "      591,\n",
      "      906,\n",
      "      622\n",
      "    ]\n",
      "  ],\n",
      "  [\n",
      "    12,\n",
      "    [\n",
      "      true,\n",
      "      false\n",
      "    ],\n",
      "    null,\n",
      "    [\n",
      "      917,\n",
      "      610,\n",
      "      926,\n",
      "      621\n",
      "    ]\n",
      "  ],\n",
      "  [\n",
      "    5,\n",
      "    [\n",
      "      false,\n",
      "      false\n",
      "    ],\n",
      "    null,\n",
      "    [\n",
      "      933,\n",
      "      593,\n",
      "      949,\n",
      "      623\n",
      "    ]\n",
      "  ],\n",
      "  [\n",
      "    1,\n",
      "    [\n",
      "      false,\n",
      "      false\n",
      "    ],\n",
      "    null,\n",
      "    [\n",
      "      954,\n",
      "      603,\n",
      "      975,\n",
      "      622\n",
      "    ]\n",
      "  ],\n",
      "  [\n",
      "    6,\n",
      "    [\n",
      "      false,\n",
      "      false\n",
      "    ],\n",
      "    null,\n",
      "    [\n",
      "      982,\n",
      "      594,\n",
      "      1021,\n",
      "      621\n",
      "    ]\n",
      "  ],\n",
      "  [\n",
      "    22,\n",
      "    [\n",
      "      false,\n",
      "      false\n",
      "    ],\n",
      "    null,\n",
      "    [\n",
      "      1019,\n",
      "      602,\n",
      "      1035,\n",
      "      623\n",
      "    ]\n",
      "  ],\n",
      "  [\n",
      "    55,\n",
      "    [\n",
      "      false,\n",
      "      true\n",
      "    ],\n",
      "    null,\n",
      "    [\n",
      "      1068,\n",
      "      615,\n",
      "      1088,\n",
      "      638\n",
      "    ]\n",
      "  ],\n",
      "  [\n",
      "    12,\n",
      "    [\n",
      "      true,\n",
      "      false\n",
      "    ],\n",
      "    null,\n",
      "    [\n",
      "      1090,\n",
      "      611,\n",
      "      1100,\n",
      "      622\n",
      "    ]\n",
      "  ],\n",
      "  [\n",
      "    59,\n",
      "    [\n",
      "      false,\n",
      "      false\n",
      "    ],\n",
      "    null,\n",
      "    [\n",
      "      1106,\n",
      "      594,\n",
      "      1123,\n",
      "      624\n",
      "    ]\n",
      "  ],\n",
      "  [\n",
      "    0,\n",
      "    [\n",
      "      false,\n",
      "      false\n",
      "    ],\n",
      "    null,\n",
      "    [\n",
      "      1131,\n",
      "      592,\n",
      "      1159,\n",
      "      623\n",
      "    ]\n",
      "  ],\n",
      "  [\n",
      "    22,\n",
      "    [\n",
      "      false,\n",
      "      false\n",
      "    ],\n",
      "    null,\n",
      "    [\n",
      "      1165,\n",
      "      602,\n",
      "      1182,\n",
      "      624\n",
      "    ]\n",
      "  ],\n",
      "  [\n",
      "    6,\n",
      "    [\n",
      "      false,\n",
      "      false\n",
      "    ],\n",
      "    null,\n",
      "    [\n",
      "      1212,\n",
      "      595,\n",
      "      1250,\n",
      "      622\n",
      "    ]\n",
      "  ],\n",
      "  [\n",
      "    5,\n",
      "    [\n",
      "      false,\n",
      "      true\n",
      "    ],\n",
      "    null,\n",
      "    [\n",
      "      1251,\n",
      "      594,\n",
      "      1266,\n",
      "      624\n",
      "    ]\n",
      "  ],\n",
      "  [\n",
      "    20,\n",
      "    [\n",
      "      true,\n",
      "      true\n",
      "    ],\n",
      "    null,\n",
      "    [\n",
      "      1273,\n",
      "      601,\n",
      "      1293,\n",
      "      624\n",
      "    ]\n",
      "  ],\n",
      "  [\n",
      "    82,\n",
      "    [\n",
      "      true,\n",
      "      false\n",
      "    ],\n",
      "    null,\n",
      "    [\n",
      "      1299,\n",
      "      602,\n",
      "      1330,\n",
      "      624\n",
      "    ]\n",
      "  ],\n",
      "  [\n",
      "    84,\n",
      "    [\n",
      "      false,\n",
      "      false\n",
      "    ],\n",
      "    null,\n",
      "    [\n",
      "      1362,\n",
      "      603,\n",
      "      1368,\n",
      "      622\n",
      "    ]\n",
      "  ],\n",
      "  [\n",
      "    3,\n",
      "    [\n",
      "      false,\n",
      "      true\n",
      "    ],\n",
      "    null,\n",
      "    [\n",
      "      1376,\n",
      "      595,\n",
      "      1413,\n",
      "      623\n",
      "    ]\n",
      "  ],\n",
      "  [\n",
      "    34,\n",
      "    [\n",
      "      true,\n",
      "      true\n",
      "    ],\n",
      "    null,\n",
      "    [\n",
      "      1425,\n",
      "      603,\n",
      "      1434,\n",
      "      623\n",
      "    ]\n",
      "  ],\n",
      "  [\n",
      "    48,\n",
      "    [\n",
      "      true,\n",
      "      true\n",
      "    ],\n",
      "    null,\n",
      "    [\n",
      "      1442,\n",
      "      605,\n",
      "      1462,\n",
      "      623\n",
      "    ]\n",
      "  ],\n",
      "  [\n",
      "    20,\n",
      "    [\n",
      "      true,\n",
      "      true\n",
      "    ],\n",
      "    null,\n",
      "    [\n",
      "      1470,\n",
      "      601,\n",
      "      1491,\n",
      "      623\n",
      "    ]\n",
      "  ],\n",
      "  [\n",
      "    13,\n",
      "    [\n",
      "      true,\n",
      "      false\n",
      "    ],\n",
      "    null,\n",
      "    [\n",
      "      1504,\n",
      "      602,\n",
      "      1540,\n",
      "      623\n",
      "    ]\n",
      "  ],\n",
      "  [\n",
      "    68,\n",
      "    [\n",
      "      false,\n",
      "      false\n",
      "    ],\n",
      "    null,\n",
      "    [\n",
      "      1554,\n",
      "      593,\n",
      "      1568,\n",
      "      632\n",
      "    ]\n",
      "  ],\n",
      "  [\n",
      "    159,\n",
      "    [\n",
      "      false,\n",
      "      false\n",
      "    ],\n",
      "    null,\n",
      "    [\n",
      "      1596,\n",
      "      599,\n",
      "      1629,\n",
      "      626\n",
      "    ]\n",
      "  ]\n",
      "]\n"
     ]
    }
   ],
   "source": [
    "# scan missed line\n",
    "from syrocr import getchars\n",
    "from syrocr.images import Im\n",
    "import json\n",
    "\n",
    "im = Im('../analyzevts/scans/genesis-exodus/exodus/vts-088_2L.tif')\n",
    "baseline = 621\n",
    "linebox = [739, 591, 1629, 638]\n",
    "\n",
    "with open('../analyzevts/scans/genesis-exodus/exodus/lines/test_tables.json', 'r') as f:\n",
    "    tables = json.load(f)\n",
    "table = tables['normal']\n",
    "for c in table:\n",
    "    if type(c['avgim']) is dict:\n",
    "        c['avgim'] = AvgIm(c['avgim']['base64_str'], c['avgim']['baseline'], c['avgim']['width'], c['avgim']['height'])\n",
    "\n",
    "        chars = []\n",
    "for char, connections in getchars.getcharacters(im, linebox, baseline):\n",
    "    x, y = char.offset\n",
    "    box = (x, y, x + char.width, y + char.height)\n",
    "    tr_override = None\n",
    "    c = getchars.findchar(tables['normal'], char, update_avgim=False, add_to_table=False)\n",
    "    chars.append((c['id'], connections, tr_override, box))\n",
    "\n",
    "print(json.dumps(chars, indent=2))"
   ]
  },
  {
   "cell_type": "code",
   "execution_count": 17,
   "metadata": {},
   "outputs": [
    {
     "name": "stdout",
     "output_type": "stream",
     "text": [
      "0 [7, [False, False], None, [330, 615, 335, 620]] =.\n",
      "1 [260, [False, True], None, [345, 613, 360, 633]] x\n",
      "2 [432, [False, False], None, [361, 632, 367, 637]] \n",
      "3 [20, [True, True], None, [366, 601, 385, 620]] $\n",
      "4 [23, [True, False], None, [389, 603, 421, 620]] `\n",
      "5 [6, [False, False], None, [427, 600, 444, 622]] d\n",
      "6 [11, [False, True], None, [488, 591, 528, 621]] '\n",
      "7 [17, [True, True], None, [538, 603, 563, 621]] b\n",
      "8 [17, [True, False], None, [569, 603, 594, 621]] b\n",
      "9 [6, [False, True], None, [601, 599, 617, 622]] d\n",
      "10 [25, [True, True], None, [620, 580, 632, 622]] l\n",
      "11 [44, [True, True], None, [641, 603, 659, 622]] `\n",
      "12 [17, [True, False], None, [672, 603, 697, 622]] b\n",
      "13 [6, [False, False], None, [704, 599, 721, 622]] d\n",
      "14 [1, [False, False], None, [765, 592, 805, 620]] '\n",
      "15 [157, [False, True], None, [807, 600, 830, 622]] z\n",
      "16 [63, [True, False], None, [830, 597, 881, 636]] g\n",
      "17 [5, [False, False], None, [872, 600, 895, 620]] w\n",
      "18 [4, [False, False], None, [903, 590, 918, 622]] r\n",
      "19 [11, [False, True], None, [962, 591, 1002, 620]] '\n",
      "20 [8, [True, False], None, [1009, 579, 1028, 620]] l\n",
      "21 [5, [False, True], None, [1075, 599, 1100, 620]] w\n",
      "22 [8, [True, False], None, [1104, 579, 1123, 619]] l\n",
      "23 [1, [False, False], None, [1133, 590, 1173, 619]] '\n",
      "24 [28, [False, False], None, [1189, 589, 1199, 627]] (\n",
      "25 [40, [False, False], None, [1203, 590, 1220, 619]] 2\n",
      "26 [54, [False, False], None, [1224, 590, 1241, 619]] 7\n",
      "27 [31, [False, False], None, [1244, 589, 1255, 627]] )\n",
      "28 [7, [False, False], None, [1297, 614, 1302, 619]] =.\n",
      "29 [33, [False, False], None, [1309, 617, 1386, 638]] N\n",
      "30 [5, [False, False], None, [1354, 599, 1378, 619]] w\n",
      "31 [22, [False, True], None, [1383, 600, 1420, 620]] h\n",
      "32 [12, [True, False], None, [1428, 599, 1438, 619]] n\n",
      "33 [4, [False, True], None, [1448, 590, 1463, 621]] r\n",
      "34 [14, [True, False], None, [1469, 600, 1493, 621]] k\n",
      "35 [5, [False, False], None, [1498, 599, 1521, 619]] w\n",
      "36 [6, [False, False], None, [1527, 598, 1544, 620]] d\n",
      "37 [11, [False, True], None, [1589, 590, 1628, 620]] '\n",
      "38 [20, [True, True], None, [1638, 600, 1657, 620]] $\n",
      "39 [12, [True, False], None, [1663, 599, 1673, 620]] n\n",
      "40 [1, [False, False], None, [1682, 590, 1722, 619]] '\n",
      "41 [36, [False, True], None, [1758, 611, 1768, 626]] y\n",
      "42 [37, [True, True], None, [1774, 590, 1790, 620]] n\"\n",
      "43 [17, [True, False], None, [1793, 601, 1819, 620]] b\n"
     ]
    }
   ],
   "source": [
    "# print line for reference\n",
    "im = Im('../analyzevts/scans/vts.1.2.leviticus.numbers.deuteronomy/c.deuteronomy/peshitta1_2c-058_1R.tif')\n",
    "with open('../analyzevts/scans/vts.1.2.leviticus.numbers.deuteronomy/c.deuteronomy/lines/peshitta1_2c-058_1R_textlines.json') as f:\n",
    "    lines = json.load(f)\n",
    "for i, c in enumerate(lines[6]['main']):\n",
    "    print(i, c, table[c[0]]['key']['tr'])"
   ]
  }
 ],
 "metadata": {
  "kernelspec": {
   "display_name": "Python 3",
   "language": "python",
   "name": "python3"
  },
  "language_info": {
   "codemirror_mode": {
    "name": "ipython",
    "version": 3
   },
   "file_extension": ".py",
   "mimetype": "text/x-python",
   "name": "python",
   "nbconvert_exporter": "python",
   "pygments_lexer": "ipython3",
   "version": "3.6.7"
  }
 },
 "nbformat": 4,
 "nbformat_minor": 2
}
